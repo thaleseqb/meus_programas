{
 "cells": [
  {
   "cell_type": "code",
   "execution_count": 1,
   "metadata": {},
   "outputs": [],
   "source": [
    "import numpy as np"
   ]
  },
  {
   "cell_type": "code",
   "execution_count": 3,
   "metadata": {},
   "outputs": [],
   "source": [
    "import matplotlib.pyplot as plt"
   ]
  },
  {
   "cell_type": "code",
   "execution_count": null,
   "metadata": {},
   "outputs": [],
   "source": [
    "#definig the factorial function\n",
    "\n",
    "\n",
    "# codigo que eu aprendi para selecionar elementos consecutivos em um array, não pra que isso vai ser util\n",
    "# mas jogar fora é que eu nao vou depois de ter perdido tanto tempo com isso\n",
    "\n",
    "# deslc = iter(interv_delta_tracking[1:])\n",
    "# sep_in_intervals = []\n",
    "# for item_atual, proximo_item in zip(interv_delta_tracking, deslc):\n",
    "#     inds = np.where(np.logical_and.reduce([item_atual < deltas, deltas < proximo_item]))\n",
    "#     sep_in_intervals.append(inds)\n",
    "\n",
    "\n",
    "\n",
    "  \n"
   ]
  },
  {
   "cell_type": "code",
   "execution_count": null,
   "metadata": {},
   "outputs": [],
   "source": [
    "# Podemos definir os números da série de fibbonaci infinitamente \n",
    "\n",
    "# Em tese deveríamos definir até quando a série de fibbonaci vai, delimitando portanto\n",
    "\n",
    "# def fib_series_gen(a_0=1, a_1=1):\n",
    "    \n",
    "\n",
    "# def random_series():\n"
   ]
  }
 ],
 "metadata": {
  "kernelspec": {
   "display_name": "Python 3",
   "language": "python",
   "name": "python3"
  },
  "language_info": {
   "codemirror_mode": {
    "name": "ipython",
    "version": 3
   },
   "file_extension": ".py",
   "mimetype": "text/x-python",
   "name": "python",
   "nbconvert_exporter": "python",
   "pygments_lexer": "ipython3",
   "version": "3.10.12"
  },
  "orig_nbformat": 4
 },
 "nbformat": 4,
 "nbformat_minor": 2
}
