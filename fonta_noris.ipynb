{
 "cells": [
  {
   "cell_type": "code",
   "execution_count": 6,
   "metadata": {},
   "outputs": [],
   "source": [
    "import numpy as np\n",
    "import matplotlib.pyplot as plt\n",
    "from mathphys.functions import save_pickle, load_pickle\n",
    "\n",
    "def fib(n):\n",
    "    if n<= 1:\n",
    "        return n\n",
    "    else:\n",
    "        return fib(n-1)+ fib(n-2)\n",
    "\n",
    "def get_part(n):\n",
    "    get_part = []\n",
    "    for i in range(n):\n",
    "        get_part.append(fib(i))\n",
    "    return np.intp(np.array(get_part))\n",
    "\n",
    "partitura = get_part(40)\n",
    "\n",
    "save = save_pickle(fname='partitura', data=partitura)\n",
    "\n",
    "res = load_pickle(fname= 'partitura.pickle')\n",
    "\n",
    "def count_amount_num(loadedpik):\n",
    "    c=0\n",
    "    for iten in loadedpik:\n",
    "        qtds = str(iten)\n",
    "        c += len(qtds)\n",
    "    return c\n",
    "\n",
    "count_amount_num(res)"
   ]
  }
 ],
 "metadata": {
  "kernelspec": {
   "display_name": "Python 3",
   "language": "python",
   "name": "python3"
  },
  "language_info": {
   "codemirror_mode": {
    "name": "ipython",
    "version": 3
   },
   "file_extension": ".py",
   "mimetype": "text/x-python",
   "name": "python",
   "nbconvert_exporter": "python",
   "pygments_lexer": "ipython3",
   "version": "3.9.2"
  },
  "orig_nbformat": 4
 },
 "nbformat": 4,
 "nbformat_minor": 2
}
