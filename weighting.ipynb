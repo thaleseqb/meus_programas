{
 "cells": [
  {
   "cell_type": "code",
   "execution_count": 1,
   "metadata": {},
   "outputs": [
    {
     "name": "stderr",
     "output_type": "stream",
     "text": [
      "Warning: Ignoring XDG_SESSION_TYPE=wayland on Gnome. Use QT_QPA_PLATFORM=wayland to run on Wayland anyway.\n"
     ]
    }
   ],
   "source": [
    "%matplotlib qt5"
   ]
  },
  {
   "cell_type": "code",
   "execution_count": 2,
   "metadata": {},
   "outputs": [],
   "source": [
    "import touschek_pack.functions as tousfunc\n",
    "\n",
    "import pymodels\n",
    "import pyaccel\n",
    "import matplotlib.pyplot as plt\n",
    "import numpy as np\n"
   ]
  },
  {
   "cell_type": "code",
   "execution_count": 3,
   "metadata": {},
   "outputs": [],
   "source": [
    "acc = pymodels.si.create_accelerator()\n",
    "acc = pymodels.si.fitted_models.vertical_dispersion_and_coupling(acc)\n",
    "\n",
    "accep = pyaccel.optics.calc_touschek_energy_acceptance(acc)\n",
    "\n",
    "spos = pyaccel.lattice.find_spos(acc, indices='closed')\n",
    "npt = int((spos[-1]-spos[0])/0.1)\n",
    "scalc = np.linspace(spos[0], spos[-1], npt)"
   ]
  },
  {
   "cell_type": "code",
   "execution_count": 4,
   "metadata": {},
   "outputs": [],
   "source": [
    "lname = ['BC','B1','B2', 'Q1']\n",
    "\n",
    "all_index = tousfunc.el_idx_collector(acc, lname)\n",
    "\n",
    "\n",
    "bcindex = all_index[0]\n",
    "b1index = all_index[1]\n",
    "b2index = all_index[2]\n",
    "q1index = all_index[3]\n",
    "# remember converting the index to scalc positions to correspond the correct element \n",
    "c=q1index[6]\n",
    "ind = np.argmin(np.abs(scalc-spos[c]))\n",
    "\n",
    "acc[c].fam_name, spos[c], scalc[ind], accep[0][c], accep[1][c]\n",
    "\n",
    "getscp = tousfunc.get_scaccep(acc, accep)\n",
    "\n",
    "ls = np.array([[spos[c]],[spos[c]],[spos[c]],[spos[c]],[spos[c]],[spos[c]],[spos[c]]],[spos[c]])"
   ]
  },
  {
   "cell_type": "code",
   "execution_count": 54,
   "metadata": {},
   "outputs": [],
   "source": [
    "dists = []\n",
    "cortes = []\n",
    "facs = np.linspace(1e-3,1,len(ls))\n",
    "\n",
    "for index, iten in enumerate(ls):\n",
    "\n",
    "    idx = np.argmin(np.abs(scalc - iten))\n",
    "    cor = getscp[1][idx] *facs[index]\n",
    "\n",
    "    dist = tousfunc.n_norm_d(acc, iten, 5000, getscp,cor)\n",
    "    \n",
    "    dists.append(dist)\n",
    "    cortes.append(cor)\n"
   ]
  },
  {
   "cell_type": "code",
   "execution_count": 59,
   "metadata": {},
   "outputs": [],
   "source": [
    "plt.figure()\n",
    "\n",
    "for indx, iten in enumerate(ls):\n",
    "\n",
    "    idx = np.argmin(np.abs(scalc-iten))\n",
    "    plt.title('energy acceptance {:.3f}'.format(getscp[1][idx]))\n",
    "    fp,fn, dp, dn = dists[indx]\n",
    "    fp = fp.squeeze()\n",
    "    dp = dp.squeeze()\n",
    "    plt.plot(dp*1e2, fp, color=plt.cm.jet(indx/len(ls)), label='{:.2f}'.format(facs[indx]*1e2))\n",
    "    plt.legend()\n",
    "    plt.xlim(-30,30)\n",
    "\n",
    "    plt.xlabel('$\\delta$ [%]')\n",
    "    plt.ylabel('weight []')\n",
    "    plt.show()\n",
    "\n"
   ]
  },
  {
   "cell_type": "code",
   "execution_count": 12,
   "metadata": {},
   "outputs": [
    {
     "data": {
      "text/plain": [
       "0.9999999854933374"
      ]
     },
     "execution_count": 12,
     "metadata": {},
     "output_type": "execute_result"
    }
   ],
   "source": [
    "import mathphys.beam_optics as mathfunc\n",
    "\n",
    "beta = mathfunc.beam_rigidity(energy=3)[2]\n",
    "beta"
   ]
  }
 ],
 "metadata": {
  "kernelspec": {
   "display_name": "base",
   "language": "python",
   "name": "python3"
  },
  "language_info": {
   "codemirror_mode": {
    "name": "ipython",
    "version": 3
   },
   "file_extension": ".py",
   "mimetype": "text/x-python",
   "name": "python",
   "nbconvert_exporter": "python",
   "pygments_lexer": "ipython3",
   "version": "3.9.2"
  },
  "orig_nbformat": 4
 },
 "nbformat": 4,
 "nbformat_minor": 2
}
