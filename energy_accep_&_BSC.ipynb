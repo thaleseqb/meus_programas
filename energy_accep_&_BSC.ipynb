{
 "cells": [
  {
   "cell_type": "code",
   "execution_count": 1,
   "id": "ee46bfbc",
   "metadata": {},
   "outputs": [
    {
     "name": "stderr",
     "output_type": "stream",
     "text": [
      "Warning: Ignoring XDG_SESSION_TYPE=wayland on Gnome. Use QT_QPA_PLATFORM=wayland to run on Wayland anyway.\n"
     ]
    }
   ],
   "source": [
    "%matplotlib qt5\n",
    "\n",
    "import pymodels\n",
    "import pyaccel\n",
    "import numpy as np\n",
    "import matplotlib.pyplot as plt\n",
    "from matplotlib.gridspec import GridSpec\n",
    "# parametros de courant snyder a partir de uma nova optica\n",
    "from mathphys.functions import save_pickle, load_pickle\n",
    "\n",
    "model = pymodels.si.create_accelerator()\n",
    "model.cavity_on = True\n",
    "model.radiation_on = True\n",
    "\n",
    "# To calculate things that we need it is necessary to define the attributes in this way\n",
    "# it is necessary to keep in mind that to calculate the variation of the beam stay clear\n",
    "# linear model this attributes must be turned into False"
   ]
  },
  {
   "cell_type": "code",
   "execution_count": 2,
   "id": "e7e2b062",
   "metadata": {},
   "outputs": [],
   "source": [
    "h_pos = pyaccel.lattice.get_attribute(model, 'hmax', indices='closed')\n",
    "h_neg = pyaccel.lattice.get_attribute(model, 'hmin', indices='closed')"
   ]
  },
  {
   "cell_type": "markdown",
   "id": "140fa750",
   "metadata": {},
   "source": [
    "### beam stay clear calculation for betatron oscilations"
   ]
  },
  {
   "cell_type": "code",
   "execution_count": 3,
   "id": "ed18f52a",
   "metadata": {},
   "outputs": [],
   "source": [
    "def calc_fbscx(acc, h_pos, h_neg):\n",
    "    spos = pyaccel.lattice.find_spos(acc, indices='closed')\n",
    "    twi,*_ = pyaccel.optics.calc_twiss(acc, indices='closed')\n",
    "    betax = twi.betax\n",
    "    \n",
    "    a_sup = h_pos / np.sqrt(betax)\n",
    "    a_inf = h_neg / np.sqrt(betax)\n",
    "    \n",
    "    a_def = np.minimum(a_sup, -a_inf)\n",
    "    a_st = np.min(a_def)\n",
    "    \n",
    "    BSC = a_st * np.sqrt(betax)\n",
    "\n",
    "    index = np.argmin(np.abs(BSC - h_pos))\n",
    "#     bsc graphic with lattice \n",
    "    fig, ax = plt.subplots()\n",
    "    \n",
    "    ax.plot(spos, BSC, color='blue', label='BSC')\n",
    "    ax.plot(spos, -BSC, color='blue')\n",
    "    \n",
    "    ax.plot(spos, h_pos, color='black', label='vchamber')\n",
    "    ax.plot(spos, h_neg, color='black')\n",
    "    \n",
    "    ax.scatter(spos[index], BSC[index], color='purple')\n",
    "    \n",
    "    ax.set_xlabel('s [m]')\n",
    "    ax.set_ylabel('amplitude [$m^{1/2}$]')\n",
    "    \n",
    "    pyaccel.graphics.draw_lattice(model, height=0.0009, offset=0, gca=True)\n",
    "    \n",
    "    ax.legend()\n",
    "    \n",
    "    plt.tight_layout()\n",
    "    plt.show()    \n",
    "    "
   ]
  },
  {
   "cell_type": "code",
   "execution_count": 5,
   "id": "1ef210f2",
   "metadata": {},
   "outputs": [],
   "source": [
    "calc_fbscx(model, h_pos,h_neg)"
   ]
  },
  {
   "cell_type": "markdown",
   "id": "8bb04ae2",
   "metadata": {},
   "source": [
    "### Beam stay clear for betatron oscilations plus new non-linear orbit"
   ]
  },
  {
   "cell_type": "code",
   "execution_count": 12,
   "id": "ca7411de",
   "metadata": {},
   "outputs": [],
   "source": [
    "# Cálculo do BSC a partir de uma órbita fechada (tracking)\n",
    "def calc_sbsc(acc, offp):\n",
    "    acc.cavity_on=False\n",
    "    acc.radiation_on=False\n",
    "    acc.vchamber_on=False\n",
    "\n",
    "    twi,*_ = pyaccel.optics.calc_twiss(acc, energy_offset=offp, indices='open')\n",
    "    twin,*_ = pyaccel.optics.calc_twiss(acc, energy_offset=-offp, indices='open')\n",
    "\n",
    "    betax, rx = twi.betax, twi.rx\n",
    "    betaxn, rxn = twin.betax, twin.rx\n",
    "    etax = twi.etax\n",
    "\n",
    "    h_pos= pyaccel.lattice.get_attribute(acc, 'hmax', indices='open')\n",
    "    h_neg= pyaccel.lattice.get_attribute(acc, 'hmin', indices='open')\n",
    "\n",
    "    a_max = (np.minimum(h_pos-rx , np.abs(h_neg-rx)))/np.sqrt(betax)\n",
    "    idx_min = np.argmin(a_max)\n",
    "    a_def = a_max[idx_min]\n",
    "\n",
    "    BSC_sup = a_def * np.sqrt(betax) + rx\n",
    "    BSC_inf = -a_def * np.sqrt(betaxn) + rxn\n",
    "\n",
    "    spos = pyaccel.lattice.find_spos(acc)\n",
    "\n",
    "    # Plot new beam stay clear com tracking\n",
    "\n",
    "    plt.figure()\n",
    "    plt.plot(spos, BSC_sup, 'b',label='$BSC (\\delta = {})$'.format(offp)) #plot do beam stat clear superior dependente de um desvio de \n",
    "                                                    #energia\n",
    "    plt.plot(spos, BSC_inf, 'b')\n",
    "    plt.plot(spos, h_pos, 'k', label='câmara de vácuo') #plot da camara de vacuo\n",
    "    plt.plot(spos, h_neg, 'k')\n",
    "\n",
    "    # plt.plot(spos, calcularc_orb(offp, 'xc'), 'c', label ='$x_c (\\delta)$')\n",
    "\n",
    "    plt.plot(spos, etax*offp, label='nova órbita')\n",
    "    \n",
    "    plt.xlabel('s [m]')\n",
    "    plt.ylabel('amplitude [m]')\n",
    "\n",
    "    plt.xlim(0,125)\n",
    "    pyaccel.graphics.draw_lattice(acc, offset=0, height=0.0009, gca= True)\n",
    "    plt.legend()\n",
    "    plt.show()"
   ]
  },
  {
   "cell_type": "code",
   "execution_count": 13,
   "id": "84048db7",
   "metadata": {},
   "outputs": [],
   "source": [
    "calc_sbsc(model, offp=0.03)"
   ]
  },
  {
   "cell_type": "markdown",
   "id": "8f1dfe30",
   "metadata": {},
   "source": [
    "### Versão otimizada para o cálculo das amplitudes (abertura física)"
   ]
  },
  {
   "cell_type": "code",
   "execution_count": 6,
   "id": "fcaac854",
   "metadata": {},
   "outputs": [],
   "source": [
    "def calc_amp(acc,energy_offsets, hmax, hmin):\n",
    "    a_def = np.zeros(energy_offsets.size)\n",
    "    indices = np.zeros(energy_offsets.size)\n",
    "    try:\n",
    "        for idx,delta in enumerate(energy_offsets):\n",
    "            twi,*_ = pyaccel.optics.calc_twiss(accelerator=acc,\n",
    "                                              energy_offset=delta,\n",
    "                                              indices='closed')\n",
    "            if np.any(np.isnan(twi[0].betax)):\n",
    "                raise pyaccel.optics.OpticsException('error')\n",
    "            rx = twi.rx\n",
    "            betax = twi.betax\n",
    "\n",
    "            a_sup = (hmax - rx)**2 /betax\n",
    "            a_inf = (hmin - rx)**2 /betax\n",
    "\n",
    "            a_max = np.minimum(a_sup,a_inf)\n",
    "            idx_min = np.argmin(a_max)\n",
    "            indices[idx] = idx_min\n",
    "            a_def[idx] = a_max[idx_min]\n",
    "    except (pyaccel.optics.OpticsException, pyaccel.tracking.TrackingException):\n",
    "        pass\n",
    "    return np.sqrt(a_def), indices\n",
    "\n",
    "def calc_amp_y(acc,energy_offsets, vmax, vmin):\n",
    "    a_def = np.zeros(energy_offsets.size)\n",
    "    indices = np.zeros(energy_offsets.size)\n",
    "    try:\n",
    "        for idx,delta in enumerate(energy_offsets):\n",
    "            twi,*_ = pyaccel.optics.calc_twiss(accelerator=acc,\n",
    "                                              energy_offset=delta,\n",
    "                                              indices='closed')\n",
    "            if np.any(np.isnan(twi[0].betay)):\n",
    "                raise pyaccel.optics.OpticsException('error')\n",
    "            ry = twi.ry\n",
    "            betay = twi.betay\n",
    "\n",
    "            a_sup = (vmax - ry)**2 /betay\n",
    "            a_inf = (vmin - ry)**2 /betay\n",
    "\n",
    "            a_max = np.minimum(a_sup,a_inf)\n",
    "            idx_min = np.argmin(a_max)\n",
    "            indices[idx] = idx_min\n",
    "            a_def[idx] = a_max[idx_min]\n",
    "    except (pyaccel.optics.OpticsException, pyaccel.tracking.TrackingException):\n",
    "        pass\n",
    "    return np.sqrt(a_def), indices\n",
    "\n",
    "# cálculo do novo curly_H a partir das novas funções ópticas\n",
    "# ---------------------------------\n",
    "def curl_H(desvio, model):\n",
    "    \n",
    "    twi,*_ = pyaccel.optics.calc_twiss(accelerator=model, energy_offset= desvio)\n",
    "    \n",
    "    rx = twi.rx\n",
    "    px = twi.px\n",
    "\n",
    "    betax_dev, betay_dev = twiss1.betax, twiss1.betay\n",
    "    alphax_dev, alphay_dev = twiss1.alphax, twiss1.alphay\n",
    "    gammax_dev, gammay_dev = twiss1.gammax, twiss1.gammay\n",
    "    \n",
    "    H_cur = gammax_dev*rx**2 + 2*alphax_dev*rx*px + betax_dev*px**2\n",
    "    \n",
    "    return np.sqrt(H_cur)"
   ]
  },
  {
   "cell_type": "markdown",
   "id": "41475aef",
   "metadata": {},
   "source": [
    "### Where electrons are lost (tracking)"
   ]
  },
  {
   "cell_type": "code",
   "execution_count": 7,
   "id": "570ca077",
   "metadata": {},
   "outputs": [],
   "source": [
    "# Função criada em outro programa utilizando tracking\n",
    "\n",
    "# ---------------------\n",
    "def track_eletrons(deltas, n_turn, element_idx, model, pos_x=1e-5, pos_y=3e-6):\n",
    "\n",
    "    #     pos_x and pos_y have default values but it can be varied\n",
    "    #     here we define the initial conditions for the simulation\n",
    "    \n",
    "    orb = pyaccel.tracking.find_orbit6(model, indices=[0, element_idx])\n",
    "    orb = orb[:, 1]\n",
    "    \n",
    "    rin = np.zeros((6, deltas.size))\n",
    "    rin += orb[:, None]\n",
    "    rin[0] += pos_x\n",
    "    rin[2] += pos_y\n",
    "    rin[4] += deltas\n",
    "    \n",
    "    track = pyaccel.tracking.ring_pass(\n",
    "        model, rin, nr_turns=n_turn, turn_by_turn=True,\n",
    "        element_offset=element_idx, parallel=True)\n",
    "    \n",
    "    par_out, flag, turn_lost, element_lost, plane_lost = track\n",
    "    \n",
    "    turnl_element = []\n",
    "\n",
    "    for i,item in enumerate(turn_lost):\n",
    "        if item == n_turn and element_lost[i] == element_idx: # ignora elétrons que não foram perdidos\n",
    "            pass\n",
    "        else:\n",
    "            turnl_element.append((item, element_lost[i], deltas[i]))\n",
    "    \n",
    "    return turnl_element"
   ]
  },
  {
   "cell_type": "markdown",
   "id": "12ef4328",
   "metadata": {},
   "source": [
    "## Where the electrons are lost along the ring (all of s positions)"
   ]
  },
  {
   "cell_type": "code",
   "execution_count": 8,
   "id": "33effeff",
   "metadata": {},
   "outputs": [],
   "source": [
    "# This function will calculate where the electrons are lost using tracking\n",
    "\n",
    "# The function recives an array containing all the s positions along the ring \n",
    "\n",
    "def trackm_elec(deltas, n_turn, lspos):\n",
    "    results = []\n",
    "    ind = []\n",
    "    spos = pyaccel.lattice.find_spos(model)\n",
    "    \n",
    "    for k, iten in enumerate(lspos):\n",
    "        \n",
    "        el_idx = np.argmin(np.abs(spos-iten)) # selecting the index to calculate the lost positions\n",
    "        turnl = track_eletrons(deltas, n_turn, el_idx, model, pos_x=1e-5, pos_y=3e-6)\n",
    "        results.append(turnl) # \n",
    "        ind.append(el_idx)\n",
    "        \n",
    "    return results, ind\n",
    "\n",
    "\n",
    "# function returns the desired element index of dipoles, quadrupoles, sextupoles and any other \n",
    "# element that is desired, the only thing that is needed is to pass a string \n",
    "\n",
    "def el_idx_collector(acc, lname):\n",
    "    all_index = []\n",
    "    fam_data = pymodels.si.get_family_data(acc)\n",
    "\n",
    "    for string in lname:\n",
    "        element_index = []\n",
    "        array_idx = np.array(fam_data[string]['index'], dtype=object)\n",
    "\n",
    "        for k, lista in enumerate(array_idx):\n",
    "            length = len(lista)\n",
    "\n",
    "            if length % 2 != 0:\n",
    "                ind = int((length-1)/2)\n",
    "                element_index.append(lista[ind])\n",
    "\n",
    "            else:\n",
    "                try:\n",
    "                    ind = int(length/2 + 1)\n",
    "                    element_index.append(lista[ind])\n",
    "                \n",
    "                except IndexError:\n",
    "                    ind = int(length/2 - 1)\n",
    "                    element_index.append(lista[ind])\n",
    "                    \n",
    "        all_index.append(element_index)\n",
    "    \n",
    "    return all_index"
   ]
  },
  {
   "cell_type": "markdown",
   "id": "12deb35d",
   "metadata": {},
   "source": [
    "### Function that plots (BSC x Energy Deviation) and the lost electrons after tracking\n",
    "\n",
    "- This function also plots the magnetic lattice and beta function when radiation and cavity are on"
   ]
  },
  {
   "cell_type": "code",
   "execution_count": null,
   "id": "b000f801",
   "metadata": {},
   "outputs": [],
   "source": []
  },
  {
   "cell_type": "code",
   "execution_count": 9,
   "id": "7d936f91",
   "metadata": {},
   "outputs": [],
   "source": [
    "accepn, accepp = pyaccel.optics.calc_touschek_energy_acceptance(model)"
   ]
  },
  {
   "cell_type": "code",
   "execution_count": 10,
   "id": "dbfe4b16",
   "metadata": {},
   "outputs": [],
   "source": [
    "spos = pyaccel.lattice.find_spos(model, indices='open')"
   ]
  },
  {
   "cell_type": "code",
   "execution_count": 11,
   "id": "80c7e9c0",
   "metadata": {},
   "outputs": [],
   "source": [
    "\n",
    "def plot_track(lista_resul, lista_idx, lista_off, param, element_idx, accep):\n",
    "    # ----------------\n",
    "    \n",
    "    m = pymodels.si.create_accelerator()\n",
    "    m.cavity_on = False\n",
    "    m.radiation_on= False\n",
    "    m.vchamber_on = False\n",
    "    twi0,*_ = pyaccel.optics.calc_twiss(m,indices='open')\n",
    "    betax = twi0.betax\n",
    "    betax = betax*(1/5)\n",
    "    \n",
    "    fig, (a1, a2) = plt.subplots(1, 2, figsize=(10, 5), sharey=True, gridspec_kw={'width_ratios': [1, 3]})\n",
    "    \n",
    "    a1.grid(True, alpha=0.5, ls='--', color='k')\n",
    "    a1.tick_params(axis='both', labelsize=12)\n",
    "    a2.grid(True, alpha=0.5, ls='--', color='k')\n",
    "    a2.tick_params(axis='both', labelsize=12)\n",
    "    a2.xaxis.grid(False)\n",
    "    a1.xaxis.grid(False)\n",
    "\n",
    "    a1.set_title(r'$\\delta \\times$ lost turn', fontsize=16)\n",
    "    if 'pos' in param:\n",
    "        for item in lista_resul:\n",
    "            a1.plot(item[0], item[2]*1e2, 'k.', label = '')\n",
    "            a1.set_ylabel(r'positive $\\delta$ [%]', fontsize=14)\n",
    "    \n",
    "    elif 'neg' in param:\n",
    "        for item in lista_resul:\n",
    "            a1.plot(item[0], -item[2]*1e2, 'k.', label = '')\n",
    "            a1.set_ylabel(r'negative $\\delta$ [%]', fontsize=14)\n",
    "            \n",
    "    a1.set_xlabel(r'n de voltas', fontsize=14)\n",
    "    \n",
    "\n",
    "    a2.set_title(r'tracking ', fontsize=16)\n",
    "\n",
    "    # Tracking graphics\n",
    "    # ----------------\n",
    "    \n",
    "#     defining the acceptance given a point s of the ring\n",
    "\n",
    "    acp_s = accep[element_idx]\n",
    "    ind = np.argmin(np.abs(lista_off-acp_s))\n",
    "    a2.plot(spos[lista_idx][:ind], lista_off[:ind]*1e2,'b.', label=r'accep. limit', alpha=0.25)\n",
    "    \n",
    "    if 'pos' in param:\n",
    "        a2.plot(spos[int(lista_resul[1][-1])], lista_resul[2][-1]*1e2, 'r.', label='lost pos. (track)')\n",
    "        for item in lista_resul:\n",
    "            a2.plot(spos[int(item[1])], item[2]*1e2, 'r.')\n",
    "            \n",
    "    elif 'neg' in param:\n",
    "        a2.plot(spos[int(lista_resul[1][-1])], -lista_resul[2][-1]*1e2, 'r.', label='lost pos. (track)')\n",
    "        for item in lista_resul:\n",
    "            a2.plot(spos[int(item[1])], -item[2]*1e2, 'r.')\n",
    "            \n",
    "#     plotting acceptances with plt.hlines\n",
    "    \n",
    "    plt.hlines(1e2*acp_s, spos[0], spos[-1], color='black', linestyles='dashed', alpha=0.5)\n",
    "    \n",
    "    # linear model graphic\n",
    "    # ----------------     \n",
    "    \n",
    "    # plotting beta function \n",
    "    a2.plot(spos, np.sqrt(betax),color='orange', label=r'$ \\sqrt{\\beta_x}  $')\n",
    "        \n",
    "    # plotting magnetic lattice\n",
    "    pyaccel.graphics.draw_lattice(model, offset=-0.5, height=0.5, gca=True)\n",
    "\n",
    "    # initial position that tracking begins\n",
    "    \n",
    "    a2.plot(spos[element_idx], 0, 'ko', label='{}, ({} m)'.format(\n",
    "        model[element_idx].fam_name, \"%.2f\" % spos[element_idx]))\n",
    "    \n",
    "    # setting configurations of the graphic\n",
    "    a2.set_xlabel(r'$s$ [m]', fontsize=14)\n",
    "    a2.legend(loc='best', ncol=2)\n",
    "\n",
    "    fig.tight_layout()\n",
    "    fig.show()"
   ]
  },
  {
   "cell_type": "markdown",
   "id": "370875a4",
   "metadata": {},
   "source": [
    "## linear model"
   ]
  },
  {
   "cell_type": "code",
   "execution_count": 12,
   "id": "99466cf7",
   "metadata": {},
   "outputs": [],
   "source": [
    "energy_offsets = np.linspace(0,0.046,460)\n",
    "\n",
    "model.cavity_on = False\n",
    "model.radiation_on = False\n",
    "model.vchamber_on = False"
   ]
  },
  {
   "cell_type": "markdown",
   "id": "f69fe33e",
   "metadata": {},
   "source": [
    "### Positive amplitutes"
   ]
  },
  {
   "cell_type": "code",
   "execution_count": 13,
   "id": "a3d1bacc",
   "metadata": {},
   "outputs": [],
   "source": [
    "amplitudes_pos = calc_amp(model, energy_offsets, h_pos, h_neg)\n",
    "amplitude_pos, idx_limitante_pos = amplitudes_pos \n",
    "idx_limitante_pos = np.array(idx_limitante_pos, dtype = int)"
   ]
  },
  {
   "cell_type": "code",
   "execution_count": 13,
   "id": "6ec317b3",
   "metadata": {},
   "outputs": [
    {
     "data": {
      "text/plain": [
       "array([0.00239933, 0.00239624, 0.00239315, 0.00239006, 0.00238697,\n",
       "       0.00238388, 0.00238078, 0.00237769, 0.0023746 , 0.00237151,\n",
       "       0.00236842, 0.00236533, 0.00236223, 0.00235914, 0.00235605,\n",
       "       0.00235296, 0.00234987, 0.00234677, 0.00234368, 0.00234059,\n",
       "       0.00233749, 0.0023344 , 0.00233131, 0.00232821, 0.00232512,\n",
       "       0.00232203, 0.00231893, 0.00231584, 0.00231274, 0.00230965,\n",
       "       0.00230656, 0.00230346, 0.00230037, 0.00229727, 0.00229418,\n",
       "       0.00229108, 0.00228799, 0.00228489, 0.00228179, 0.0022787 ,\n",
       "       0.0022756 , 0.00227251, 0.00226941, 0.00226631, 0.00226322,\n",
       "       0.00226012, 0.00225702, 0.00225393, 0.00225083, 0.00224773,\n",
       "       0.00224464, 0.00224154, 0.00223844, 0.00223534, 0.00223225,\n",
       "       0.00222915, 0.00222605, 0.00222295, 0.00221985, 0.00221676,\n",
       "       0.00221366, 0.00221056, 0.00220746, 0.00220436, 0.00220126,\n",
       "       0.00219816, 0.00219506, 0.00219196, 0.00218886, 0.00218576,\n",
       "       0.00218266, 0.00217956, 0.00217646, 0.00217336, 0.00217026,\n",
       "       0.00216716, 0.00216406, 0.00216096, 0.00215786, 0.00215476,\n",
       "       0.00215166, 0.00214855, 0.00214545, 0.00214235, 0.00213925,\n",
       "       0.00213615, 0.00213304, 0.00212994, 0.00212684, 0.00212373,\n",
       "       0.00212063, 0.00211753, 0.00211442, 0.00211132, 0.00210822,\n",
       "       0.00210511, 0.00210201, 0.0020989 , 0.0020958 , 0.00209269,\n",
       "       0.00208959, 0.00208648, 0.00208338, 0.00208027, 0.00207717,\n",
       "       0.00207406, 0.00207095, 0.00206785, 0.00206474, 0.00206163,\n",
       "       0.00205853, 0.00205542, 0.00205231, 0.0020492 , 0.0020461 ,\n",
       "       0.00204299, 0.00203988, 0.00203677, 0.00203366, 0.00203055,\n",
       "       0.00202744, 0.00202433, 0.00202122, 0.00201811, 0.002015  ,\n",
       "       0.00201189, 0.00200878, 0.00200567, 0.00200256, 0.00199945,\n",
       "       0.00199634, 0.00199322, 0.00199011, 0.001987  , 0.00198388,\n",
       "       0.00198077, 0.00197766, 0.00197454, 0.00197143, 0.00196832,\n",
       "       0.0019652 , 0.00196209, 0.00195897, 0.00195585, 0.00195274,\n",
       "       0.00194962, 0.00194651, 0.00194339, 0.00194027, 0.00193716,\n",
       "       0.00193404, 0.00193092, 0.0019278 , 0.00192468, 0.00192156,\n",
       "       0.00191844, 0.00191533, 0.00191221, 0.00190909, 0.00190596,\n",
       "       0.00190284, 0.00189972, 0.0018966 , 0.00189348, 0.00189036,\n",
       "       0.00188724, 0.00188411, 0.00188099, 0.00187787, 0.00187474,\n",
       "       0.00187162, 0.00186849, 0.00186537, 0.00186224, 0.00185912,\n",
       "       0.00185599, 0.00185287, 0.00184974, 0.00184661, 0.00184349,\n",
       "       0.00184036, 0.00183723, 0.0018341 , 0.00183098, 0.00182772,\n",
       "       0.0018228 , 0.00181789, 0.00181298, 0.00180808, 0.00180319,\n",
       "       0.0017983 , 0.00179342, 0.00178855, 0.00178368, 0.00177882,\n",
       "       0.00177397, 0.00176912, 0.00176428, 0.00175945, 0.00175462,\n",
       "       0.0017498 , 0.00174498, 0.00174016, 0.00173535, 0.00173054,\n",
       "       0.00172575, 0.00172095, 0.00171617, 0.00171139, 0.00170662,\n",
       "       0.00170185, 0.00169709, 0.00169234, 0.00168759, 0.00168285,\n",
       "       0.00167812, 0.0016734 , 0.00166868, 0.00166396, 0.00165926,\n",
       "       0.00165456, 0.00164987, 0.00164518, 0.00164051, 0.00163584,\n",
       "       0.00163117, 0.00162651, 0.00162186, 0.00161722, 0.00161258,\n",
       "       0.00160795, 0.00160333, 0.00159871, 0.0015941 , 0.0015895 ,\n",
       "       0.00158491, 0.00158032, 0.00157574, 0.00157116, 0.0015666 ,\n",
       "       0.00156204, 0.00155748, 0.00155294, 0.0015484 , 0.00154387,\n",
       "       0.00153934, 0.00153483, 0.00153031, 0.00152581, 0.00152132,\n",
       "       0.00151683, 0.00151235, 0.00150787, 0.0015034 , 0.00149894,\n",
       "       0.00149449, 0.00149005, 0.00148561, 0.00148118, 0.00147675,\n",
       "       0.00147234, 0.00146793, 0.00146353, 0.00145913, 0.00145475,\n",
       "       0.00145037, 0.001446  , 0.00144163, 0.00143728, 0.00143293,\n",
       "       0.00142859, 0.00142425, 0.00141993, 0.00141561, 0.0014113 ,\n",
       "       0.001407  , 0.0014027 , 0.00139841, 0.00139413, 0.00138986,\n",
       "       0.0013856 , 0.00138134, 0.00137709, 0.00137285, 0.00136862,\n",
       "       0.00136439, 0.00136017, 0.00135596, 0.00135176, 0.00134757,\n",
       "       0.00134338, 0.00133921, 0.00133504, 0.00133087, 0.00132672,\n",
       "       0.00132258, 0.00131844, 0.00131431, 0.00131019, 0.00130608,\n",
       "       0.00130197, 0.00129788, 0.00129379, 0.00128971, 0.00128564,\n",
       "       0.00128158, 0.00127753, 0.00127348, 0.00126945, 0.00126542,\n",
       "       0.0012614 , 0.00125739, 0.00125338, 0.00124939, 0.00124541,\n",
       "       0.00124143, 0.00123746, 0.0012335 , 0.00122955, 0.00122561,\n",
       "       0.00122168, 0.00121775, 0.00121384, 0.00120993, 0.00120604,\n",
       "       0.00120215, 0.00119827, 0.0011944 , 0.00119054, 0.00118669,\n",
       "       0.00118285, 0.00117901, 0.00117519, 0.00117137, 0.00116757,\n",
       "       0.00116377, 0.00115998, 0.00115621, 0.00115244, 0.00114868,\n",
       "       0.00114493, 0.00114119, 0.00113746, 0.00113374, 0.00113002,\n",
       "       0.00112632, 0.00112263, 0.00111894, 0.00111527, 0.00111161,\n",
       "       0.00110795, 0.00110431, 0.00110067, 0.00109704, 0.00109343,\n",
       "       0.00108982, 0.00108622, 0.00108264, 0.00107906, 0.00107549,\n",
       "       0.00107193, 0.00106838, 0.00106485, 0.00106132, 0.0010578 ,\n",
       "       0.00105429, 0.00105079, 0.0010473 , 0.00104382, 0.00104035,\n",
       "       0.00103689, 0.00103344, 0.00103   , 0.00102657, 0.00102315,\n",
       "       0.00101974, 0.00101633, 0.00101294, 0.00100956, 0.00100619,\n",
       "       0.00100283, 0.00099947, 0.00099613, 0.0009928 , 0.00098947,\n",
       "       0.00098616, 0.00098286, 0.00097956, 0.00097628, 0.000973  ,\n",
       "       0.00096974, 0.00096648, 0.00096323, 0.00096   , 0.00095677,\n",
       "       0.00095355, 0.00095034, 0.00094714, 0.00094395, 0.00094077,\n",
       "       0.0009376 , 0.00093444, 0.00093128, 0.00092814, 0.00092501,\n",
       "       0.00092188, 0.00091876, 0.00091566, 0.00091256, 0.00090947,\n",
       "       0.00090638, 0.00090331, 0.00090025, 0.00089719, 0.00089415,\n",
       "       0.00089111, 0.00088808, 0.00088506, 0.00088205, 0.00087904,\n",
       "       0.00087604, 0.00087306, 0.00087008, 0.0008671 , 0.00086414,\n",
       "       0.00086118, 0.00085823, 0.00085529, 0.00085236, 0.00084944,\n",
       "       0.00084652, 0.00084361, 0.0008407 , 0.00083781, 0.00083492,\n",
       "       0.00083204, 0.00082916, 0.00082629, 0.00082343, 0.00082058,\n",
       "       0.00081773, 0.00081489, 0.00081205, 0.00080922, 0.0008064 ,\n",
       "       0.00080358, 0.00050355, 0.        , 0.        , 0.        ,\n",
       "       0.        , 0.        , 0.        , 0.        , 0.        ,\n",
       "       0.        , 0.        , 0.        , 0.        , 0.        ])"
      ]
     },
     "execution_count": 13,
     "metadata": {},
     "output_type": "execute_result"
    }
   ],
   "source": [
    "amplitude_pos"
   ]
  },
  {
   "cell_type": "markdown",
   "id": "705cf0b0",
   "metadata": {},
   "source": [
    "### Negative amplitutes"
   ]
  },
  {
   "cell_type": "code",
   "execution_count": 13,
   "id": "4c2ef603",
   "metadata": {},
   "outputs": [],
   "source": [
    "amplitudes_neg = calc_amp(model, -energy_offsets, h_pos, h_neg)\n",
    "amplitude_neg, idx_limitante_neg = amplitudes_neg \n",
    "idx_limitante_neg = np.array(idx_limitante_neg, dtype = int)"
   ]
  },
  {
   "cell_type": "code",
   "execution_count": 14,
   "id": "7e1a0bca",
   "metadata": {},
   "outputs": [],
   "source": [
    "fig, ax = plt.subplots(figsize=(10,4))\n",
    "\n",
    "ax.set_title('dependência da amplitude com os desvios de energia', fontsize=14)\n",
    "\n",
    "ax.plot(energy_offsets[:355], amplitude_pos[:355], color='black', label='postive amp')\n",
    "ax.plot(-energy_offsets, amplitude_neg, color='blue', label='negative amp')\n",
    "\n",
    "ax.legend(loc='best')\n",
    "\n",
    "# plt.tight_layout()\n",
    "\n",
    "ax.set_xlabel('$\\delta$ [%]', fontsize=14)\n",
    "ax.set_ylabel(r'amplitude [$m^{1/2}$]', fontsize=14)\n",
    "\n",
    "plt.show()"
   ]
  },
  {
   "cell_type": "markdown",
   "id": "92151edc",
   "metadata": {},
   "source": [
    "### Tracking"
   ]
  },
  {
   "cell_type": "code",
   "execution_count": 17,
   "id": "25d99372",
   "metadata": {},
   "outputs": [],
   "source": [
    "model.cavity_on = True\n",
    "model.radiation_on = True\n",
    "model.vchamber_on = False\n",
    "\n",
    "spos = pyaccel.lattice.find_spos(model)\n",
    "lspos = spos[:-1]\n",
    "deltas = np.linspace(0.001, 0.1, 2)\n",
    "\n",
    "shape = spos.shape\n",
    "lind = np.indices(shape)\n",
    "lind = lind.squeeze()"
   ]
  },
  {
   "cell_type": "code",
   "execution_count": 14,
   "id": "0b1c0b5e",
   "metadata": {},
   "outputs": [],
   "source": [
    "rs_pos = load_pickle('/home/ABTLUS/thales.bastos/Downloads/rs_posl')"
   ]
  },
  {
   "cell_type": "code",
   "execution_count": null,
   "id": "15babe90",
   "metadata": {},
   "outputs": [],
   "source": [
    "rs_neg = load_pickle('/home/ABTLUS/thales.bastos/Downloads/rs_negl')"
   ]
  },
  {
   "cell_type": "code",
   "execution_count": null,
   "id": "bcfd8212",
   "metadata": {},
   "outputs": [],
   "source": [
    "fam_data = pymodels.si.get_family_data(model)"
   ]
  },
  {
   "cell_type": "markdown",
   "id": "71238634",
   "metadata": {},
   "source": [
    "### Anotações \n",
    "\n",
    "- 1 Comportamentos semelhantes, quadrupolos (todos os quadrupolos), dispositivos de inserção, sextupolos SDB0, SDA0, SFA0, SFB0, SFP0, SFP2. Os dipolos centrais (BC) também exibem um padrão semelhante.\n",
    "\n",
    "- 2 Os sextupolos SDB1, SDB2, SDA1, SDA2, SDA3, SFA1, SFA2, SFB1 exibem comportamentos semelhantes gerando padrões de perda com desvios de energia possíveis, os elétrons acabam se perdendo na previsão dos limitantes físicos\n",
    "\n",
    "- 3 Os sextupolos SDB3, SFB2, SFP1, geram padrões de perda com desvios de energia um pouco altos, as perdas se deram em grande parte nos limitantes para desvios de energia mais proximos a aceitancia da máquina. Os dipolos B1 e B2 também possuem este comportamento para alguns trechos.\n",
    "\n",
    "- 4 O dipolo B1 e B2 do trecho 5 mostraram um comportamento diferente, semelhante ao caso 2"
   ]
  },
  {
   "cell_type": "markdown",
   "id": "0dd80ff4",
   "metadata": {},
   "source": [
    "### selecting the index of the desired elements along the ring"
   ]
  },
  {
   "cell_type": "code",
   "execution_count": 15,
   "id": "31e5e6d2",
   "metadata": {},
   "outputs": [],
   "source": [
    "lname = ['BC','B1','B2','QDB2', 'SDB1']\n",
    "\n",
    "all_index = el_idx_collector(model, lname)\n",
    "\n",
    "BC_index = all_index[0]\n",
    "B2_index = all_index[2]\n",
    "B1_index = all_index[1]\n",
    "\n",
    "QDB2_index = all_index[3]\n",
    "SFP1_index = all_index[4]"
   ]
  },
  {
   "cell_type": "code",
   "execution_count": null,
   "id": "19ddf576",
   "metadata": {},
   "outputs": [],
   "source": [
    "c = SFP1_index[3]\n",
    "plot_track(rs_pos[c], idx_limitante_pos,energy_offsets,'pos', lind[c], accepp)"
   ]
  },
  {
   "cell_type": "code",
   "execution_count": 22,
   "id": "d37e0947",
   "metadata": {},
   "outputs": [
    {
     "data": {
      "text/plain": [
       "84.29923250000009"
      ]
     },
     "execution_count": 22,
     "metadata": {},
     "output_type": "execute_result"
    }
   ],
   "source": [
    "spos[1046]"
   ]
  },
  {
   "cell_type": "code",
   "execution_count": 541,
   "id": "7ddbe34b",
   "metadata": {},
   "outputs": [],
   "source": [
    "c= Q1_index[20]\n",
    "plot_track(data_neg[c], idx_limitante_neg, energy_offsets,'neg', lindn[c])"
   ]
  },
  {
   "cell_type": "markdown",
   "id": "94db09d3",
   "metadata": {},
   "source": [
    "### Comentando a respeito dos gráficos obtidos\n",
    "\n",
    "### $(\\delta > 0)$\n",
    "\n",
    "- Existe uma região onde o tracking bate com o modelo linear;\n",
    "\n",
    "- Após determinado desvio de energia $\\delta _{nl}$ o regime não linear parece dominar a dinâminca;\n",
    "\n",
    "- A partir deste $\\delta _{nl}$ os elétrons, em geral, se perdem na volta, $n= 0$; \n",
    "\n",
    "- Observando os $\\delta$ 's de energia negativos algo diferente acontece;\n",
    "---\n",
    "\n",
    "### $(\\delta < 0)$\n",
    "\n",
    "- O modelo linear implementado para o caso negativo apresenta algumas limitações comparando com as simulações de tracking. Para alguns elementos regiões caóticas são mais comuns\n",
    "\n",
    "- De maneira análoga ao caso $(\\delta > 0)$, existe uma região de caos, onde não se sabe exatamente onde o elétron se perde a cada volta\n",
    "\n"
   ]
  },
  {
   "cell_type": "markdown",
   "id": "a005b36e",
   "metadata": {},
   "source": [
    "## Plot das amplitudes"
   ]
  },
  {
   "cell_type": "code",
   "execution_count": 84,
   "id": "0985995f",
   "metadata": {},
   "outputs": [],
   "source": [
    "# concatenando os dois arrays para amplitudes e desvios de energia\n",
    "#--------------\n",
    "lisa = np.r_[list_a_inf, list_a]\n",
    "lisoff = np.r_[list_off_neg, list_off]\n",
    "\n",
    "# Plot\n",
    "#--------------\n",
    "plt.figure()\n",
    "plt.plot(lisoff*1e2, lisa,'b,',label =r'$a_{min}$')\n",
    "plt.ylabel(r'$a_{min}$')\n",
    "plt.xlabel(r'$\\delta$ [%]')\n",
    "plt.legend()\n",
    "plt.show()"
   ]
  },
  {
   "cell_type": "markdown",
   "id": "b5247080",
   "metadata": {},
   "source": [
    "# Calculando $\\mathscr{H}$\n",
    "\n",
    "### Dinâmica não linear\n",
    "\n",
    "- Para calcular as amplitudes geradas por espalhamento Touschek as seguintes relações foram utilizadas \n",
    "---\n",
    "$ J = \\frac{1}{2}\\bigg( {\\gamma x^{2}+2 \\alpha x \\cdot p_{x} +\\beta p_{x}^{2}} \\bigg)$\n",
    "\n",
    "- Como a amplitude é dada em função da ação\n",
    "\n",
    "$\\Rightarrow$ $ a = \\sqrt{ 2 J}$ \n",
    "\n",
    "- Assim, a amplitude é dada em termos de $\\mathscr{H}$\n",
    "\n",
    "$ a = \\sqrt{\\gamma x^{2}+2 \\alpha x \\cdot p_{x} +\\beta p_{x}^{2}}$,\n",
    "$\\mathscr{H} = \\frac{1}{\\beta}\\bigg[ {x^{2}+ ({\\beta p_{x}+ \\alpha x})^{2} } \\bigg]$\n",
    "\n",
    "- Portanto,\n",
    "\n",
    "$a = \\sqrt{\\mathscr{H}}$, neste caso $\\mathscr{H} = \\mathscr{H} _{tracking}(x, p_{x})$\n",
    "\n",
    "---\n",
    "### Dinâmica linear\n",
    "- No caso em que a dinânimca é linear e a nova órbita depende linearmente do desvio de energia, $\\mathscr{H}$ assume a seguinte forma;\n",
    "\n",
    "$\\mathscr{H} = \\frac{1}{\\beta}\\bigg[ {\\eta^{2}+ ({\\beta \\eta '+ \\alpha \\eta})^{2} } \\bigg]$ $\\Rightarrow$ $\\mathscr{H}(\\eta, \\eta') = \\gamma \\eta^{2}+2 \\alpha \\eta \\cdot \\eta ' +\\beta \\eta '^{2}$\n",
    "\n",
    "- Neste caso, as amplitudes são reescritas em termos de um desvio de energia $\\delta$\n",
    "\n",
    "$ a = \\delta \\sqrt{\\gamma \\eta^{2}+2 \\alpha \\eta \\cdot \\eta ' +\\beta \\eta '^{2}}$"
   ]
  },
  {
   "cell_type": "code",
   "execution_count": 11,
   "id": "f92d439a",
   "metadata": {},
   "outputs": [],
   "source": [
    "# Nesta etapa vamos calcular o curly H para as novas funções ópticas e seus nvoso valores serão armazenados em um\n",
    "# array\n",
    "\n",
    "c = len(list_off)\n",
    "off = 0\n",
    "delta = 0.0001\n",
    "lista_H = []\n",
    "\n",
    "for _ in range(c):\n",
    "    \n",
    "    H = curl_H(off)\n",
    "    off += delta\n",
    "    lista_H.append(H)"
   ]
  },
  {
   "cell_type": "code",
   "execution_count": 12,
   "id": "579b0c32",
   "metadata": {},
   "outputs": [],
   "source": [
    "c = len(list_off_neg)\n",
    "off = 0\n",
    "delta = -0.0001\n",
    "lista_H_inf = []\n",
    "\n",
    "for _ in range(c):\n",
    "    \n",
    "    H = curl_H(off)\n",
    "    off += delta\n",
    "    lista_H_inf.append(H)"
   ]
  },
  {
   "cell_type": "code",
   "execution_count": 13,
   "id": "1a1e0e0a",
   "metadata": {},
   "outputs": [],
   "source": [
    "model.cavity_on = False\n",
    "model.radiation_on = False\n",
    "model.vchamber_on = False\n",
    "\n",
    "lista_H = np.array(lista_H)\n",
    "H_transpose = np.transpose(lista_H)\n",
    "\n",
    "lista_H_inf = np.array(lista_H_inf)\n",
    "H_transpose_inf = np.transpose(lista_H_inf)"
   ]
  },
  {
   "cell_type": "markdown",
   "id": "4bf4c549",
   "metadata": {},
   "source": [
    "## Plotando os gráficos das amplitudes"
   ]
  },
  {
   "cell_type": "code",
   "execution_count": 86,
   "id": "c212ba78",
   "metadata": {},
   "outputs": [],
   "source": [
    "# plt.figure()\n",
    "\n",
    "# plt.subplot(2,1,1)\n",
    "# plt.title(r'Gráfico $\\delta_{pos}$')\n",
    "# plt.plot(list_off*1e2, list_a, 'k')\n",
    "# for item in H_transpose:\n",
    "#     plt.plot(list_off*1e2, item,'b,')\n",
    "\n",
    "# plt.legend()\n",
    "# plt.ylabel(r'amplitudes $(a)$')\n",
    "# plt.xlabel(r'$\\delta$ [%]')\n",
    "\n",
    "# plt.subplot(2,1,2)\n",
    "# plt.title(r'Gráfico $\\delta_{neg}$')\n",
    "# plt.plot(list_off*1e2, list_a_inf, 'k')\n",
    "# for item in H_transpose_inf:\n",
    "#     plt.plot(list_off*1e2, item,'b,')\n",
    "\n",
    "# plt.tight_layout(h_pad=1)\n",
    "# plt.legend()\n",
    "# plt.ylabel(r'amplitudes $(a)$')\n",
    "# plt.xlabel(r'$\\delta$ [%]')\n",
    "# plt.show()"
   ]
  },
  {
   "cell_type": "markdown",
   "id": "ad0adb26",
   "metadata": {},
   "source": [
    "## Cálculo das aceitancias de energia"
   ]
  },
  {
   "cell_type": "code",
   "execution_count": 224,
   "id": "946fbad1",
   "metadata": {},
   "outputs": [
    {
     "data": {
      "text/plain": [
       "[<matplotlib.lines.Line2D at 0x7fbf0296e940>]"
      ]
     },
     "execution_count": 224,
     "metadata": {},
     "output_type": "execute_result"
    }
   ],
   "source": [
    "plt.figure()\n",
    "plt.plot(spos, lista_H_inf[84])"
   ]
  },
  {
   "cell_type": "code",
   "execution_count": 15,
   "id": "165f3d2f",
   "metadata": {},
   "outputs": [],
   "source": [
    "accep = []\n",
    "accep_neg = []\n",
    "\n",
    "for item in H_transpose:\n",
    "    dif  = np.abs(item-list_a)\n",
    "    idx = np.argmin(dif)\n",
    "    accep.append(list_off[idx])\n",
    "\n",
    "for item in H_transpose_inf:\n",
    "    dif  = np.abs(item-list_a_inf)\n",
    "    idx = np.argmin(dif)\n",
    "    accep_neg.append(list_off_neg[idx])\n",
    "\n",
    "accep = np.array(accep)    \n",
    "accep_neg = np.array(accep_neg)"
   ]
  },
  {
   "cell_type": "markdown",
   "id": "894a34e1",
   "metadata": {},
   "source": [
    "### Plot das aceitancias "
   ]
  },
  {
   "cell_type": "code",
   "execution_count": 31,
   "id": "73d52f97",
   "metadata": {},
   "outputs": [],
   "source": [
    "# # Plotando a aceitancia positiva \n",
    "# plt.figure()\n",
    "\n",
    "# plt.title(r'Gráfico $\\delta _{pos}$')\n",
    "# plt.subplot(1,2,1)\n",
    "\n",
    "# plt.plot(spos, accep*1e2,'k-', label='aceitancia')\n",
    "# plt.legend()\n",
    "# plt.xlabel(r'$s$ [m]')\n",
    "# plt.ylabel(r'$\\delta $ [%]')\n",
    "\n",
    "# plt.title(r'Gráfico $\\delta _{neg}$')\n",
    "# plt.subplot(1,2,2)\n",
    "\n",
    "# plt.plot(spos, accep_neg*1e2,'k', label='aceitancia')\n",
    "# plt.legend()\n",
    "# plt.xlabel(r'$s$ [m]')\n",
    "# plt.ylabel(r'$ - \\delta $ [%]')\n",
    "\n",
    "# plt.tight_layout(w_pad=2,rect = (0,0,3,2))\n",
    "# plt.show()"
   ]
  },
  {
   "cell_type": "markdown",
   "id": "b6c2e22b",
   "metadata": {},
   "source": [
    "### Plotando meu modelo e tracking e ao mesmo tempo a função beta para um desvio de energia"
   ]
  },
  {
   "cell_type": "markdown",
   "id": "5478f1bf",
   "metadata": {},
   "source": [
    "### Plotando aceitancias positivas e negativas juntas"
   ]
  },
  {
   "cell_type": "code",
   "execution_count": 16,
   "id": "e36f4ec4",
   "metadata": {},
   "outputs": [],
   "source": [
    "# offs = np.r_[list_off_neg, list_off]\n",
    "# s = np.r_[spos[list_idx_inf],spos[list_idx]]\n",
    "\n",
    "# plt.figure()\n",
    "\n",
    "# # plt.plot(spos, accep*1e2, 'b', label = r'$\\delta _{pos} (s)$')\n",
    "# # plt.plot(spos, accep_neg*1e2, 'k', label = r'$\\delta _{neg} (s)$')\n",
    "# plt.plot(s, (offs*1e2),'r.', label=r'limitantes', markersize = 4)\n",
    "# pyaccel.graphics.draw_lattice(model, offset=0, height=0.1, gca=True)\n",
    "\n",
    "# plt.xlabel(r'$s$ [m]')\n",
    "# plt.ylabel(r'$energy \\ acceptance \\ -\\delta(s)$ [%]')\n",
    "# # plt.xlim(0,100)\n",
    "# plt.legend()\n",
    "# plt.show()"
   ]
  },
  {
   "cell_type": "markdown",
   "id": "6297dc60",
   "metadata": {},
   "source": [
    "### Anotações\n",
    "\n",
    "- Utilizando o código para o cálculo da aceitancia touschek pode-se perceber:\n",
    "\n",
    "- As taxas de perda de elétrons nas regiões que possuem dipolos B1, B2 e BC são as que mais proporcionam a perda de elétrons ao longo da trajetória do anel de armazenamento;\n",
    "\n",
    "- Isso ocorre porque essas são regiões baixo beta e, nesse sentido, a densidade de elétrons é maior;\n",
    "\n",
    "- A densidade eletrônica é uma grandeza importante, porque quanto mais elétrons constituírem o feixe, maiores são as chances de ocorrer espalhamento Touschek;\n",
    "\n",
    "- Percebe-se que nos trechos retos de baixo beta não ocorre perda de elétrons por espalhamento Touschek e isso é coerente porque a aceitancia de energia nessas regiões é mais alta.\n",
    "\n",
    "---\n",
    " ### Perguntas:\n",
    " \n",
    " - Em qual limite de desvio de energia devo trabalhar ?\n"
   ]
  },
  {
   "cell_type": "markdown",
   "id": "0670a389",
   "metadata": {},
   "source": [
    "### Espalhamento touschek\n",
    "\n",
    "- Ocorre devido às colisões entre os elétrons ou partículas que constituem o feixe\n",
    "\n",
    "- O fenômeno mais relevante no espalhamento Touschek é a troca de momento transversal e longitudinal;\n",
    "\n",
    "- É importante ressaltar que uma pequena quantidade de momento transversal gera um grande desvio de momento longitudinal; (https://arxiv.org/pdf/physics/9903034.pdf) $\\Rightarrow$ [As anotações a seguir são referentes a este artigo]\n",
    "\n",
    "- Esta amplificação de momento ocorre devido a efeitos relativísticos, de forma que a variação de momento longitudinal é aumentada pelo fator de Lorentz.\n",
    "\n",
    "- O espalhamento Touschek é diferente do denominado espalhamento intra-feixe, uma vez que o último é responsável pela variação das dimensões do feixe de elétrons e este efeito também é caracterizado por colisões múltiplas de elétrons. O espalhamento Touschek, por sua vez, é um fenômeno que ocorre devido a colisão de partículas individuais. \n",
    "\n",
    "- Esse efeito intra-feixe também é devido ao espalhamento Coulomb.\n",
    "\n",
    "#### Apenas por curiosidade: \n",
    "\n",
    "- O espalhamento Touschek foi vizulizado pela primeira vez em um pequeno acelerador de partículas denominado ADA.\n",
    "\n",
    "- Isso se tornou um grande problema em aneis de armazenamento e em fonstes de luz sincrotron uma vez que o tempo de vida era drasticamente reduzido\n",
    "\n",
    "---\n",
    "\n",
    "- Na maior parte das abordagens associadas aos cálculos de tempode vida apenas a transferência de momento horizontal para longitudinal foi considerado, enquanto que a troca de momento transversal para vertical foi negligenciado;\n",
    "\n",
    "- É a partir da abordagem deste artigo que passa a se considerar a troca de momento transversal para a vertical e, neste caso, a distribuição bidimensional de momento na transversal levando a uma dependência mais fraca com o desvio máximo de energia;\n",
    "\n"
   ]
  },
  {
   "cell_type": "markdown",
   "id": "778dc630",
   "metadata": {},
   "source": [
    "### Cell for visualizing the lattice with beta function and testing"
   ]
  },
  {
   "cell_type": "code",
   "execution_count": 167,
   "id": "b9dc7ea6",
   "metadata": {},
   "outputs": [
    {
     "ename": "AttributeError",
     "evalue": "module 'matplotlib.pyplot' has no attribute 'tyght_layout'",
     "output_type": "error",
     "traceback": [
      "\u001b[0;31m---------------------------------------------------------------------------\u001b[0m",
      "\u001b[0;31mAttributeError\u001b[0m                            Traceback (most recent call last)",
      "Cell \u001b[0;32mIn[167], line 13\u001b[0m\n\u001b[1;32m     10\u001b[0m plt\u001b[38;5;241m.\u001b[39mplot(spos, betax , color\u001b[38;5;241m=\u001b[39m\u001b[38;5;124m'\u001b[39m\u001b[38;5;124mlightblue\u001b[39m\u001b[38;5;124m'\u001b[39m)\n\u001b[1;32m     11\u001b[0m pyaccel\u001b[38;5;241m.\u001b[39mgraphics\u001b[38;5;241m.\u001b[39mdraw_lattice(model, offset\u001b[38;5;241m=\u001b[39m\u001b[38;5;241m0\u001b[39m, height\u001b[38;5;241m=\u001b[39m \u001b[38;5;241m0.3\u001b[39m, gca \u001b[38;5;241m=\u001b[39m \u001b[38;5;28;01mTrue\u001b[39;00m)\n\u001b[0;32m---> 13\u001b[0m \u001b[43mplt\u001b[49m\u001b[38;5;241;43m.\u001b[39;49m\u001b[43mtyght_layout\u001b[49m()\n\u001b[1;32m     14\u001b[0m plt\u001b[38;5;241m.\u001b[39mplot(spos[element_idex], \u001b[38;5;241m0\u001b[39m, \u001b[38;5;124m'\u001b[39m\u001b[38;5;124mko\u001b[39m\u001b[38;5;124m'\u001b[39m)\n\u001b[1;32m     16\u001b[0m plt\u001b[38;5;241m.\u001b[39mshow()\n",
      "\u001b[0;31mAttributeError\u001b[0m: module 'matplotlib.pyplot' has no attribute 'tyght_layout'"
     ]
    }
   ],
   "source": [
    "#This cell was used to vizualize the lattice when I was understandig what locals the touschel scattering\n",
    "# is most probable analizing the beta function and looking for the lattice\n",
    "# I think that the future of this cell will be the trash, but I'll keep this for a little while\n",
    "\n",
    "\n"
   ]
  },
  {
   "cell_type": "code",
   "execution_count": 92,
   "id": "839c37cb",
   "metadata": {},
   "outputs": [],
   "source": [
    "vmax = pyaccel.lattice.get_attribute(model,'vmax',indices='closed')\n",
    "vmin = pyaccel.lattice.get_attribute(model,'vmin',indices='closed')"
   ]
  },
  {
   "cell_type": "code",
   "execution_count": null,
   "id": "a9bd309b",
   "metadata": {},
   "outputs": [],
   "source": [
    "energy_offsets = np.linspace(0,0.046,460)\n",
    "calc_y = calc_amp_y(model, deltas, vmax, vmin)"
   ]
  },
  {
   "cell_type": "code",
   "execution_count": 103,
   "id": "a70b446b",
   "metadata": {},
   "outputs": [],
   "source": [
    "amplitudes_pos_y, indices = calc_y\n",
    "\n",
    "# depois preciso plotar estes gráficos que foram calculados agora para desvios de energia no eixo y \n",
    "\n",
    "# preciso saber se a aceitancia em y varia, precios me responder urgentemente essa questão"
   ]
  }
 ],
 "metadata": {
  "kernelspec": {
   "display_name": "Python 3 (ipykernel)",
   "language": "python",
   "name": "python3"
  },
  "language_info": {
   "codemirror_mode": {
    "name": "ipython",
    "version": 3
   },
   "file_extension": ".py",
   "mimetype": "text/x-python",
   "name": "python",
   "nbconvert_exporter": "python",
   "pygments_lexer": "ipython3",
   "version": "3.9.2"
  }
 },
 "nbformat": 4,
 "nbformat_minor": 5
}
