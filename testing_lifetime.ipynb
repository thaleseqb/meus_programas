{
 "cells": [
  {
   "cell_type": "code",
   "execution_count": 1,
   "metadata": {},
   "outputs": [],
   "source": [
    "# pip install seaborn"
   ]
  },
  {
   "cell_type": "code",
   "execution_count": 2,
   "metadata": {},
   "outputs": [
    {
     "name": "stderr",
     "output_type": "stream",
     "text": [
      "Warning: Ignoring XDG_SESSION_TYPE=wayland on Gnome. Use QT_QPA_PLATFORM=wayland to run on Wayland anyway.\n"
     ]
    }
   ],
   "source": [
    "%matplotlib qt5\n",
    "import pyaccel\n",
    "import pymodels\n",
    "import numpy as np\n",
    "import matplotlib.pyplot as plt\n",
    "import scipy.integrate as scyint\n",
    "import pandas as pd\n",
    "from mathphys import constants\n",
    "from mathphys.functions import save_pickle, load_pickle\n",
    "from mathphys.beam_optics import beam_rigidity\n"
   ]
  },
  {
   "cell_type": "code",
   "execution_count": 3,
   "metadata": {},
   "outputs": [],
   "source": [
    "import seaborn"
   ]
  },
  {
   "cell_type": "code",
   "execution_count": 4,
   "metadata": {},
   "outputs": [],
   "source": [
    "import touschek_pack.functions as tousfunc"
   ]
  },
  {
   "cell_type": "code",
   "execution_count": 5,
   "metadata": {},
   "outputs": [],
   "source": [
    "import touschek_pack.Classes as tousclass"
   ]
  },
  {
   "cell_type": "code",
   "execution_count": 6,
   "metadata": {},
   "outputs": [],
   "source": [
    "# eu preciso lembrar de depois acrescentar uma função que faça o trakcing nao tornando explicito a diferenciação entre desvios de energia \n",
    "# positivos e negativos para contabilizar de maneira correta a taxa de espalhamento touschek porque na biblioteca lifetime a taxa de espalhamento\n",
    "# calculada esta implementada com base nos espalhamentos tanto negativos como positivos"
   ]
  },
  {
   "cell_type": "code",
   "execution_count": 7,
   "metadata": {},
   "outputs": [],
   "source": [
    "# This function will probably will be in my repositories\n",
    "# I dont know if I will use it again, but it seems to me that it could be uselfull in some point\n",
    "\n",
    "def extract_delt(groups, deltas):\n",
    "    c = 0\n",
    "    big_list = []\n",
    "    for lists in groups:\n",
    "        lil_list = []\n",
    "        for _ in lists:\n",
    "            lil_list.append(c)\n",
    "            c+=1\n",
    "            \n",
    "        big_list.append(lil_list)\n",
    "    \n",
    "    sep_deltas = []\n",
    "    comp_l = []\n",
    "\n",
    "    for iten in big_list:\n",
    "        sep_deltas.append(deltas[iten])\n",
    "        comp_l.append(len(iten))\n",
    "\n",
    "\n",
    "    return sep_deltas, comp_l"
   ]
  },
  {
   "cell_type": "code",
   "execution_count": 8,
   "metadata": {},
   "outputs": [],
   "source": [
    "acc = pymodels.si.create_accelerator()\n",
    "acc = pymodels.si.fitted_models.vertical_dispersion_and_coupling(acc)\n",
    "\n",
    "tousan = tousclass.Tous_analysis(acc)\n",
    "spos = pyaccel.lattice.find_spos(acc, indices='closed')\n"
   ]
  },
  {
   "cell_type": "code",
   "execution_count": 85,
   "metadata": {},
   "outputs": [],
   "source": [
    "indices = pyaccel.lattice.find_indices(acc, 'fam_name', 'B1')"
   ]
  },
  {
   "cell_type": "code",
   "execution_count": 87,
   "metadata": {},
   "outputs": [],
   "source": [
    "s = spos[29:51]\n",
    "dic = tousan.get_table(s)"
   ]
  },
  {
   "cell_type": "code",
   "execution_count": null,
   "metadata": {},
   "outputs": [],
   "source": []
  },
  {
   "cell_type": "code",
   "execution_count": 121,
   "metadata": {},
   "outputs": [],
   "source": [
    "df = pd.DataFrame(dic)\n",
    "\n",
    "df = df.set_index('lost_positions')\n",
    "\n",
    "# Crie um mapa de calor com o matplotlib\n",
    "plt.figure(figsize=(10, 6))  # Define o tamanho da figura\n",
    "heatmap = plt.pcolor(df, cmap='jet')  # Crie o mapa de calor\n",
    "plt.colorbar(heatmap)  # Adicione uma barra de cores\n",
    "plt.xticks(np.arange(df.shape[1]) + 0.5, df.columns, rotation=90)  #  Rótulos do eixo X\n",
    "plt.yticks(np.arange(df.shape[0]) + 0.5, df.index)  # Rótulos do eixo Y\n",
    "plt.title('Mapa de Calor')  # Define o título do gráfico\n",
    "plt.show()  # Mostra o mapa de calor"
   ]
  },
  {
   "cell_type": "code",
   "execution_count": null,
   "metadata": {},
   "outputs": [],
   "source": [
    "ltime = pyaccel.lifetime.Lifetime(acc)\n",
    "tous_rate = ltime.touschek_data['rate']\n",
    "np.where(tous_rate <= 1e-6)[0].shape"
   ]
  },
  {
   "cell_type": "code",
   "execution_count": 106,
   "metadata": {},
   "outputs": [
    {
     "data": {
      "text/plain": [
       "Float64Index([ 73.37,  91.24,  91.95,  92.07,  95.78,  99.29,  99.36,  99.44,\n",
       "               99.53,  99.73,\n",
       "              ...\n",
       "               18.02,  18.22,  43.77, 410.17,   17.7,  21.53,  21.77,  43.62,\n",
       "               43.94,  24.92],\n",
       "             dtype='float64', name='lost_positions', length=129)"
      ]
     },
     "execution_count": 106,
     "metadata": {},
     "output_type": "execute_result"
    }
   ],
   "source": [
    "df.index"
   ]
  },
  {
   "cell_type": "code",
   "execution_count": null,
   "metadata": {},
   "outputs": [],
   "source": [
    "\n"
   ]
  }
 ],
 "metadata": {
  "kernelspec": {
   "display_name": "sirius",
   "language": "python",
   "name": "python3"
  },
  "language_info": {
   "codemirror_mode": {
    "name": "ipython",
    "version": 3
   },
   "file_extension": ".py",
   "mimetype": "text/x-python",
   "name": "python",
   "nbconvert_exporter": "python",
   "pygments_lexer": "ipython3",
   "version": "3.9.2"
  },
  "orig_nbformat": 4
 },
 "nbformat": 4,
 "nbformat_minor": 2
}
