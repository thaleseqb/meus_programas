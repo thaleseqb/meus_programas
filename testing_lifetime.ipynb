{
 "cells": [
  {
   "cell_type": "code",
   "execution_count": 4,
   "metadata": {},
   "outputs": [],
   "source": [
    "# pip install seaborn"
   ]
  },
  {
   "cell_type": "code",
   "execution_count": 5,
   "metadata": {},
   "outputs": [],
   "source": [
    "%matplotlib qt5\n",
    "import pyaccel\n",
    "import pymodels\n",
    "import numpy as np\n",
    "import matplotlib.pyplot as plt\n",
    "import scipy.integrate as scyint\n",
    "import pandas as pd\n",
    "from mathphys import constants\n",
    "from mathphys.functions import save_pickle, load_pickle\n",
    "from mathphys.beam_optics import beam_rigidity\n",
    "\n",
    "import touschek_pack.functions as tousfunc\n",
    "import touschek_pack.Classes as tousclass\n"
   ]
  },
  {
   "cell_type": "code",
   "execution_count": 6,
   "metadata": {},
   "outputs": [],
   "source": [
    "acc = pymodels.si.create_accelerator()\n",
    "acc = pymodels.si.fitted_models.vertical_dispersion_and_coupling(acc)\n",
    "\n",
    "tousan = tousclass.Tous_analysis(acc)\n",
    "spos = pyaccel.lattice.find_spos(acc, indices='closed')\n"
   ]
  },
  {
   "cell_type": "code",
   "execution_count": 7,
   "metadata": {},
   "outputs": [],
   "source": [
    "# # indices = pyaccel.lattice.find_indices(acc, 'fam_name', 'B2')\n",
    "# fam_data = pymodels.si.get_family_data(acc)\n",
    "\n",
    "# s = spos[10:30]\n",
    "# tousan.plot_scat_table(s, n_c=1, n_r=1)\n",
    "\n",
    "# # fam_data['QN']['index']\n"
   ]
  },
  {
   "cell_type": "code",
   "execution_count": 8,
   "metadata": {},
   "outputs": [],
   "source": [
    "# indices = fam_data['QN']['index']\n",
    "\n",
    "# for index_list in indices:\n",
    "#     init, final = index_list[0], index_list[-1]\n",
    "#     s = spos[init:final]\n",
    "#     tousan.plot_scat_table(s, n_c=1, n_r=1)\n"
   ]
  },
  {
   "cell_type": "code",
   "execution_count": 9,
   "metadata": {},
   "outputs": [],
   "source": [
    "# len(indices)"
   ]
  },
  {
   "cell_type": "code",
   "execution_count": 10,
   "metadata": {},
   "outputs": [],
   "source": [
    "# ltime = pyaccel.lifetime.Lifetime(acc)\n",
    "# tous_rate = ltime.touschek_data['rate']\n",
    "# np.where(tous_rate <= 1e-6)[0].shape"
   ]
  },
  {
   "cell_type": "code",
   "execution_count": 11,
   "metadata": {},
   "outputs": [],
   "source": [
    "fam_data = pymodels.si.get_family_data(acc)"
   ]
  },
  {
   "cell_type": "code",
   "execution_count": 12,
   "metadata": {},
   "outputs": [],
   "source": [
    "spos[np.array(fam_data['B1']['index'])]\n",
    "\n",
    "\n",
    "# BC, Q1, B1\n",
    "s_test = [12.4387475, 6.8607475, 4.9667475, 7.3207475]"
   ]
  },
  {
   "cell_type": "code",
   "execution_count": 13,
   "metadata": {},
   "outputs": [
    {
     "data": {
      "text/plain": [
       "(array([-0.04372908, -0.04372908, -0.04372908, ..., -0.04372908,\n",
       "        -0.04372908, -0.04372908]),\n",
       " array([0.04372908, 0.04372908, 0.04372908, ..., 0.04372908, 0.04372908,\n",
       "        0.04372908]))"
      ]
     },
     "execution_count": 13,
     "metadata": {},
     "output_type": "execute_result"
    }
   ],
   "source": [
    "tousan.accep\n"
   ]
  },
  {
   "cell_type": "code",
   "execution_count": 14,
   "metadata": {},
   "outputs": [
    {
     "data": {
      "text/plain": [
       "(array([-0.04372908, -0.04372908, -0.04372908, ..., -0.04372908,\n",
       "        -0.04372908, -0.04372908]),\n",
       " array([0.04372908, 0.04372908, 0.04372908, ..., 0.04372908, 0.04372908,\n",
       "        0.04372908]))"
      ]
     },
     "execution_count": 14,
     "metadata": {},
     "output_type": "execute_result"
    }
   ],
   "source": [
    "tousan._accep"
   ]
  },
  {
   "cell_type": "code",
   "execution_count": 19,
   "metadata": {},
   "outputs": [],
   "source": [
    "tousan.plot_normtousd(s_test)"
   ]
  },
  {
   "cell_type": "code",
   "execution_count": 16,
   "metadata": {},
   "outputs": [
    {
     "data": {
      "text/plain": [
       "array([  7.3207475,  96.2072325, 110.9987275, 199.8852125, 214.6767075,\n",
       "       303.5631925, 318.3546875, 407.2411725, 422.0326675, 510.9191525])"
      ]
     },
     "execution_count": 16,
     "metadata": {},
     "output_type": "execute_result"
    }
   ],
   "source": [
    "spos[np.intp(pyaccel.lattice.find_indices(acc, 'fam_name', 'SFA1'))]"
   ]
  },
  {
   "cell_type": "code",
   "execution_count": 17,
   "metadata": {},
   "outputs": [
    {
     "data": {
      "text/plain": [
       "array([  74, 1238, 1374, 2538, 2672, 3846, 3982, 5154, 5297, 6470])"
      ]
     },
     "execution_count": 17,
     "metadata": {},
     "output_type": "execute_result"
    }
   ],
   "source": [
    "np.intp(pyaccel.lattice.find_indices(acc, 'fam_name', 'SFA1'))"
   ]
  },
  {
   "cell_type": "code",
   "execution_count": 27,
   "metadata": {},
   "outputs": [
    {
     "data": {
      "text/plain": [
       "array([ 3,  7, 12, 17])"
      ]
     },
     "execution_count": 27,
     "metadata": {},
     "output_type": "execute_result"
    }
   ],
   "source": [
    "array  = np.array([1,54,7,8,4,7,4,8,9,6,3,3,8,57,45,3,7756,8,34,5])\n",
    "a = 8 \n",
    "\n",
    "np.where(array == a)[0]"
   ]
  }
 ],
 "metadata": {
  "kernelspec": {
   "display_name": "sirius",
   "language": "python",
   "name": "python3"
  },
  "language_info": {
   "codemirror_mode": {
    "name": "ipython",
    "version": 3
   },
   "file_extension": ".py",
   "mimetype": "text/x-python",
   "name": "python",
   "nbconvert_exporter": "python",
   "pygments_lexer": "ipython3",
   "version": "3.9.2"
  },
  "orig_nbformat": 4
 },
 "nbformat": 4,
 "nbformat_minor": 2
}
