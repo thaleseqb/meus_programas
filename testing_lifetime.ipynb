{
 "cells": [
  {
   "cell_type": "code",
   "execution_count": 1,
   "metadata": {},
   "outputs": [
    {
     "name": "stderr",
     "output_type": "stream",
     "text": [
      "Warning: Ignoring XDG_SESSION_TYPE=wayland on Gnome. Use QT_QPA_PLATFORM=wayland to run on Wayland anyway.\n"
     ]
    }
   ],
   "source": [
    "%matplotlib qt5"
   ]
  },
  {
   "cell_type": "code",
   "execution_count": 2,
   "metadata": {},
   "outputs": [],
   "source": [
    "import pyaccel\n",
    "import pymodels\n",
    "import numpy as np\n",
    "import matplotlib.pyplot as plt\n",
    "import scipy.integrate as scyint\n",
    "import pandas as pd"
   ]
  },
  {
   "cell_type": "code",
   "execution_count": 3,
   "metadata": {},
   "outputs": [],
   "source": [
    "import touschek_pack.functions as tousfunc"
   ]
  },
  {
   "cell_type": "code",
   "execution_count": 4,
   "metadata": {},
   "outputs": [],
   "source": [
    "import touschek_pack.Classes as tousclass"
   ]
  },
  {
   "cell_type": "code",
   "execution_count": 5,
   "metadata": {},
   "outputs": [],
   "source": [
    "acc = pymodels.si.create_accelerator()\n",
    "acc = pymodels.si.fitted_models.vertical_dispersion_and_coupling(acc)\n",
    "ltime = pyaccel.lifetime.Lifetime(acc)"
   ]
  },
  {
   "cell_type": "code",
   "execution_count": 6,
   "metadata": {},
   "outputs": [],
   "source": [
    "rate = ltime.touschek_data['rate']\n",
    "spos = pyaccel.lattice.find_spos(acc, indices='closed')\n",
    "accep = pyaccel.optics.calc_touschek_energy_acceptance(acc)"
   ]
  },
  {
   "cell_type": "code",
   "execution_count": 7,
   "metadata": {},
   "outputs": [],
   "source": [
    "get_sc = tousfunc.get_scaccep(acc, accep)\n"
   ]
  },
  {
   "cell_type": "code",
   "execution_count": 8,
   "metadata": {},
   "outputs": [],
   "source": [
    "scalc, daccp, daccn = get_sc"
   ]
  },
  {
   "cell_type": "code",
   "execution_count": 9,
   "metadata": {},
   "outputs": [],
   "source": [
    "acc = pymodels.si.create_accelerator()\n",
    "acc = pymodels.si.fitted_models.vertical_dispersion_and_coupling(acc)\n",
    "\n",
    "tousan = tousclass.Tous_analysis(acc)"
   ]
  },
  {
   "cell_type": "code",
   "execution_count": 10,
   "metadata": {},
   "outputs": [],
   "source": [
    "# lembre-se que queremos contruir uma função que transforme dados que eu já possuo em tabelas\n",
    "# uma biblioteca bastante util para isso seria a bib pandas\n",
    "# vamos tentar usar ela para nossos calculos\n",
    "\n",
    "s = [spos[1046]]\n",
    "\n",
    "ress = tousan.fast_aquisition(s, 'pos')"
   ]
  },
  {
   "cell_type": "code",
   "execution_count": 11,
   "metadata": {},
   "outputs": [],
   "source": [
    "res, fp, dp = ress"
   ]
  },
  {
   "cell_type": "code",
   "execution_count": 12,
   "metadata": {},
   "outputs": [],
   "source": [
    "dataframe = pd.DataFrame({'touschek_dens': fp, 'energy_dev':dp})"
   ]
  },
  {
   "cell_type": "code",
   "execution_count": 13,
   "metadata": {},
   "outputs": [],
   "source": [
    "# para este caso específico a posição analisada é spos[1046], ou seja, o indice em que a simulação tracking começa é em 1046\n",
    "# a para este valor teremos então diversas posições em que o eletron é perdido e a partir disso eu vou ter organizar meu pensamento\n",
    "\n",
    "lostinds, deltas = np.zeros(len(res)), np.zeros(len(res))\n",
    "for idx,iten in enumerate(res):\n",
    "    tloss, ellost, delta = iten\n",
    "    lostinds[idx] = ellost\n",
    "    deltas[idx] = delta\n",
    "\n",
    "# deltas são os desvios de energia perdidos pelo tracking\n"
   ]
  },
  {
   "cell_type": "code",
   "execution_count": null,
   "metadata": {},
   "outputs": [],
   "source": [
    "lost_pos = spos[np.intp(lostinds)]"
   ]
  },
  {
   "cell_type": "code",
   "execution_count": 92,
   "metadata": {},
   "outputs": [],
   "source": [
    "# o que precisamos fazer seria, uma forma de definir os elementos do array como sendo os intervalos em que os desvios de energia estarão inseridos\n",
    "# se eu tenho n elementos dentro do meu array então eu vou ter n-1 intervalos para analisar\n",
    "\n",
    "# esse interv_delta_tracking é definido como sendo os intervalos de desvio de energia onde os elétrons vão se perdendo\n",
    "\n",
    "step = int((deltas[0]+deltas[-1])/0.03)\n",
    "interv_delta_tracking = np.linspace(deltas[0], deltas[-1], step)\n",
    "\n",
    "# então é ai que vem entra o cats jump kk, temos realmente que contar a quantidade de particulas perdidas em cada intervalo de desvio de energia\n",
    "\n",
    "# é que na verdade os desvios de energia que eu estou querendo contar em cada intervalo são os próprios deltas\n"
   ]
  },
  {
   "cell_type": "code",
   "execution_count": 108,
   "metadata": {},
   "outputs": [],
   "source": [
    "from itertools import groupby"
   ]
  },
  {
   "cell_type": "code",
   "execution_count": 123,
   "metadata": {},
   "outputs": [],
   "source": [
    "lostinds = np.intp(lostinds)\n",
    "groups = [list(group) for key, group in groupby(lostinds)]\n",
    "\n",
    "# agora que eu agrupei em elementos iguais eu também preciso agrupar os deltas correspondentes as posições s do anel onde esses elétrons foram perdidos\n",
    "\n",
    "# como fazer isso em \n"
   ]
  },
  {
   "cell_type": "code",
   "execution_count": 153,
   "metadata": {},
   "outputs": [],
   "source": [
    "def extract_delt(groups, deltas):\n",
    "    c = 0\n",
    "    big_list = []\n",
    "    for lists in groups:\n",
    "        lil_list = []\n",
    "        for _ in lists:\n",
    "            lil_list.append(c)\n",
    "            c+=1\n",
    "            \n",
    "        big_list.append(lil_list)\n",
    "    \n",
    "    sep_deltas = []\n",
    "\n",
    "    for iten in big_list:\n",
    "        sep_deltas.append(deltas[iten])\n",
    "\n",
    "    return sep_deltas\n"
   ]
  },
  {
   "cell_type": "code",
   "execution_count": 154,
   "metadata": {},
   "outputs": [],
   "source": [
    "smidx = extract_delt(groups,deltas)"
   ]
  },
  {
   "cell_type": "code",
   "execution_count": 28,
   "metadata": {},
   "outputs": [
    {
     "name": "stdout",
     "output_type": "stream",
     "text": [
      "Item Atual: 0.02909358829884054, Próximo Item: 0.032626381163699744\n",
      "Item Atual: 0.032626381163699744, Próximo Item: 0.036159174028558956\n",
      "Item Atual: 0.036159174028558956, Próximo Item: 0.03969196689341817\n",
      "Item Atual: 0.03969196689341817, Próximo Item: 0.04322475975827737\n",
      "Item Atual: 0.04322475975827737, Próximo Item: 0.04675755262313658\n",
      "Item Atual: 0.04675755262313658, Próximo Item: 0.05029034548799579\n",
      "Item Atual: 0.05029034548799579, Próximo Item: 0.053823138352855\n",
      "Item Atual: 0.053823138352855, Próximo Item: 0.05735593121771421\n",
      "Item Atual: 0.05735593121771421, Próximo Item: 0.06088872408257341\n",
      "Item Atual: 0.06088872408257341, Próximo Item: 0.06442151694743262\n",
      "Item Atual: 0.06442151694743262, Próximo Item: 0.06795430981229184\n",
      "Item Atual: 0.06795430981229184, Próximo Item: 0.07148710267715104\n",
      "Item Atual: 0.07148710267715104, Próximo Item: 0.07501989554201025\n",
      "Item Atual: 0.07501989554201025, Próximo Item: 0.07855268840686946\n",
      "Item Atual: 0.07855268840686946, Próximo Item: 0.08208548127172867\n",
      "Item Atual: 0.08208548127172867, Próximo Item: 0.08561827413658787\n",
      "Item Atual: 0.08561827413658787, Próximo Item: 0.08915106700144708\n",
      "Item Atual: 0.08915106700144708, Próximo Item: 0.09268385986630628\n",
      "Item Atual: 0.09268385986630628, Próximo Item: 0.0962166527311655\n",
      "Item Atual: 0.0962166527311655, Próximo Item: 0.09974944559602471\n",
      "Item Atual: 0.09974944559602471, Próximo Item: 0.10328223846088391\n",
      "Item Atual: 0.10328223846088391, Próximo Item: 0.10681503132574313\n",
      "Item Atual: 0.10681503132574313, Próximo Item: 0.11034782419060234\n",
      "Item Atual: 0.11034782419060234, Próximo Item: 0.11388061705546154\n",
      "Item Atual: 0.11388061705546154, Próximo Item: 0.11741340992032075\n",
      "Item Atual: 0.11741340992032075, Próximo Item: 0.12094620278517995\n",
      "Item Atual: 0.12094620278517995, Próximo Item: 0.12447899565003917\n",
      "Item Atual: 0.12447899565003917, Próximo Item: 0.12801178851489836\n",
      "Item Atual: 0.12801178851489836, Próximo Item: 0.13154458137975758\n",
      "Item Atual: 0.13154458137975758, Próximo Item: 0.1350773742446168\n",
      "Item Atual: 0.1350773742446168, Próximo Item: 0.138610167109476\n",
      "Item Atual: 0.138610167109476, Próximo Item: 0.1421429599743352\n",
      "Item Atual: 0.1421429599743352, Próximo Item: 0.14567575283919443\n",
      "Item Atual: 0.14567575283919443, Próximo Item: 0.14920854570405362\n",
      "Item Atual: 0.14920854570405362, Próximo Item: 0.15274133856891284\n"
     ]
    }
   ],
   "source": [
    "# eu quero pegar todos os desvios de energia que se encontram dentro de um determinado intervalo que esta sendo definido pela\n",
    "# variável interv\n",
    "\n",
    "# como eu posso fazer isso ?\n",
    "\n",
    "# com certeza fazer um for não é a melhor opção, porque deve existir alguma função numpy que faça esse trabalho de forma mais otimizada\n",
    "array = [1, 2, 3, 4, 5]\n",
    "\n",
    "# Crie um iterador deslocado do array\n",
    "\n",
    "    "
   ]
  },
  {
   "cell_type": "code",
   "execution_count": 14,
   "metadata": {},
   "outputs": [
    {
     "data": {
      "text/plain": [
       "(True,\n",
       " (array([-0.04372908, -0.04372908, -0.04372908, ..., -0.04372908,\n",
       "         -0.04372908, -0.04372908]),\n",
       "  array([0.04372908, 0.04372908, 0.04372908, ..., 0.04372908, 0.04372908,\n",
       "         0.04372908])),\n",
       " (array([0.00000000e+00, 1.00036646e-01, 2.00073292e-01, ...,\n",
       "         5.18189827e+02, 5.18289863e+02, 5.18389900e+02]),\n",
       "  array([0.04372908, 0.04372908, 0.04372908, ..., 0.04372908, 0.04372908,\n",
       "         0.04372908]),\n",
       "  array([-0.04372908, -0.04372908, -0.04372908, ..., -0.04372908,\n",
       "         -0.04372908, -0.04372908])))"
      ]
     },
     "execution_count": 14,
     "metadata": {},
     "output_type": "execute_result"
    }
   ],
   "source": [
    "tousan.get_amps_idxs()"
   ]
  },
  {
   "cell_type": "code",
   "execution_count": null,
   "metadata": {},
   "outputs": [],
   "source": [
    "accep = pyaccel.optics.calc_touschek_energy_acceptance(acc)"
   ]
  },
  {
   "cell_type": "code",
   "execution_count": null,
   "metadata": {},
   "outputs": [],
   "source": [
    "tousan.plot_analysis_at_position([spos[1046]], 'pos', accep)"
   ]
  },
  {
   "cell_type": "code",
   "execution_count": null,
   "metadata": {},
   "outputs": [],
   "source": []
  }
 ],
 "metadata": {
  "kernelspec": {
   "display_name": "sirius",
   "language": "python",
   "name": "python3"
  },
  "language_info": {
   "codemirror_mode": {
    "name": "ipython",
    "version": 3
   },
   "file_extension": ".py",
   "mimetype": "text/x-python",
   "name": "python",
   "nbconvert_exporter": "python",
   "pygments_lexer": "ipython3",
   "version": "3.9.2"
  },
  "orig_nbformat": 4
 },
 "nbformat": 4,
 "nbformat_minor": 2
}
