{
 "cells": [
  {
   "cell_type": "code",
   "execution_count": 1,
   "metadata": {},
   "outputs": [
    {
     "name": "stderr",
     "output_type": "stream",
     "text": [
      "Warning: Ignoring XDG_SESSION_TYPE=wayland on Gnome. Use QT_QPA_PLATFORM=wayland to run on Wayland anyway.\n"
     ]
    }
   ],
   "source": [
    "%matplotlib qt5"
   ]
  },
  {
   "cell_type": "code",
   "execution_count": 2,
   "metadata": {},
   "outputs": [],
   "source": [
    "import pyaccel\n",
    "import pymodels\n",
    "import numpy as np\n",
    "import matplotlib.pyplot as plt\n",
    "import scipy.integrate as scyint\n",
    "import pandas as pd"
   ]
  },
  {
   "cell_type": "code",
   "execution_count": 3,
   "metadata": {},
   "outputs": [],
   "source": [
    "import touschek_pack.functions as tousfunc"
   ]
  },
  {
   "cell_type": "code",
   "execution_count": 4,
   "metadata": {},
   "outputs": [],
   "source": [
    "import touschek_pack.Classes as tousclass"
   ]
  },
  {
   "cell_type": "code",
   "execution_count": 5,
   "metadata": {},
   "outputs": [],
   "source": [
    "acc = pymodels.si.create_accelerator()\n",
    "acc = pymodels.si.fitted_models.vertical_dispersion_and_coupling(acc)\n",
    "ltime = pyaccel.lifetime.Lifetime(acc)"
   ]
  },
  {
   "cell_type": "code",
   "execution_count": 14,
   "metadata": {},
   "outputs": [],
   "source": [
    "rate = ltime.touschek_data['rate']\n",
    "\n",
    "spos = pyaccel.lattice.find_spos(acc, indices='closed')\n",
    "\n",
    "accep = pyaccel.optics.calc_touschek_energy_acceptance(acc)"
   ]
  },
  {
   "cell_type": "code",
   "execution_count": 15,
   "metadata": {},
   "outputs": [],
   "source": [
    "get_sc = tousfunc.get_scaccep(acc, accep)\n"
   ]
  },
  {
   "cell_type": "code",
   "execution_count": 16,
   "metadata": {},
   "outputs": [],
   "source": [
    "scalc, daccp, daccn = get_sc"
   ]
  },
  {
   "cell_type": "code",
   "execution_count": 21,
   "metadata": {},
   "outputs": [
    {
     "data": {
      "text/plain": [
       "{'rate': array([4.81650628e-10, 4.74269276e-10, 4.67035040e-10, ...,\n",
       "        4.79696053e-10, 4.80696668e-10, 4.81650628e-10]),\n",
       " 'avg_rate': 3.184266945178688e-06,\n",
       " 'volume': array([6.61909476e-13, 6.67803553e-13, 6.73709370e-13, ...,\n",
       "        6.62894710e-13, 6.62373907e-13, 6.61909476e-13]),\n",
       " 'pos': array([0.00000000e+00, 1.00036646e-01, 2.00073292e-01, ...,\n",
       "        5.18189827e+02, 5.18289863e+02, 5.18389900e+02]),\n",
       " 'touschek_coeffs': {'b1': array([10922.96480184, 11083.86010819, 11247.95795055, ...,\n",
       "         10946.14256218, 10933.160214  , 10922.96480184]),\n",
       "  'b2': array([8920.00594302, 9079.54334195, 9242.28327009, ..., 8942.59471841,\n",
       "         8929.90686774, 8920.00594302]),\n",
       "  'taum_p': array([0.00344115, 0.00344115, 0.00344115, ..., 0.00344115, 0.00344115,\n",
       "         0.00344115]),\n",
       "  'taum_n': array([0.00344115, 0.00344115, 0.00344115, ..., 0.00344115, 0.00344115,\n",
       "         0.00344115]),\n",
       "  'f_int_p': array([[0.00031958, 0.00031749, 0.00031541, ..., 0.00031876, 0.00031917,\n",
       "          0.00031958]]),\n",
       "  'f_int_n': array([[0.00031958, 0.00031749, 0.00031541, ..., 0.00031876, 0.00031917,\n",
       "          0.00031958]])}}"
      ]
     },
     "execution_count": 21,
     "metadata": {},
     "output_type": "execute_result"
    }
   ],
   "source": [
    "ltime.touschek_data"
   ]
  },
  {
   "cell_type": "code",
   "execution_count": 8,
   "metadata": {},
   "outputs": [],
   "source": [
    "spos = pyaccel.lattice.find_spos(acc, indices='open')"
   ]
  },
  {
   "cell_type": "code",
   "execution_count": 6,
   "metadata": {},
   "outputs": [],
   "source": [
    "acc = pymodels.si.create_accelerator()\n",
    "acc = pymodels.si.fitted_models.vertical_dispersion_and_coupling(acc)\n",
    "\n",
    "tousan = tousclass.Tous_analysis(acc)"
   ]
  },
  {
   "cell_type": "code",
   "execution_count": 9,
   "metadata": {},
   "outputs": [],
   "source": [
    "# lembre-se que queremos contruir uma função que transforme dados que eu já possuo em tabelas\n",
    "# uma biblioteca bastante util para isso seria a bib pandas\n",
    "# vamos tentar usar ela para nossos calculos\n",
    "\n",
    "s = [spos[1046]]\n",
    "\n",
    "ress = tousan.fast_aquisition(s, 'pos')"
   ]
  },
  {
   "cell_type": "code",
   "execution_count": 10,
   "metadata": {},
   "outputs": [],
   "source": [
    "res, fp, dp = ress"
   ]
  },
  {
   "cell_type": "code",
   "execution_count": 11,
   "metadata": {},
   "outputs": [],
   "source": [
    "dataframe = pd.DataFrame({'touschek_dens': fp, 'energy_dev':dp})"
   ]
  },
  {
   "cell_type": "code",
   "execution_count": 74,
   "metadata": {},
   "outputs": [],
   "source": [
    "dataframe = dataframe.set_index((dataframe.columns[0]))\n"
   ]
  },
  {
   "cell_type": "code",
   "execution_count": 13,
   "metadata": {},
   "outputs": [],
   "source": [
    "# para este caso específico a posição analisada é spos[1046], ou seja, o indice em que a simulação tracking começa é em 1046\n",
    "# a para este valor teremos então diversas posições em que o eletron é perdido e a partir disso eu vou ter organizar meu pensamento\n",
    "\n",
    "lostinds, deltas = np.zeros(len(res)), np.zeros(len(res))\n",
    "for idx,iten in enumerate(res):\n",
    "    tloss, ellost, delta = iten\n",
    "    lostinds[idx] = ellost\n",
    "    deltas[idx] = delta\n",
    "\n"
   ]
  },
  {
   "cell_type": "code",
   "execution_count": 19,
   "metadata": {},
   "outputs": [],
   "source": [
    "lost_pos = spos[np.intp(lostinds)]\n"
   ]
  },
  {
   "cell_type": "code",
   "execution_count": 37,
   "metadata": {},
   "outputs": [],
   "source": [
    "df = pd.DataFrame({'spos[1046]':lost_pos, 'energy_dev': deltas})"
   ]
  },
  {
   "cell_type": "code",
   "execution_count": 38,
   "metadata": {},
   "outputs": [
    {
     "data": {
      "text/html": [
       "<div>\n",
       "<style scoped>\n",
       "    .dataframe tbody tr th:only-of-type {\n",
       "        vertical-align: middle;\n",
       "    }\n",
       "\n",
       "    .dataframe tbody tr th {\n",
       "        vertical-align: top;\n",
       "    }\n",
       "\n",
       "    .dataframe thead th {\n",
       "        text-align: right;\n",
       "    }\n",
       "</style>\n",
       "<table border=\"1\" class=\"dataframe\">\n",
       "  <thead>\n",
       "    <tr style=\"text-align: right;\">\n",
       "      <th></th>\n",
       "      <th>0</th>\n",
       "      <th>1</th>\n",
       "      <th>2</th>\n",
       "      <th>3</th>\n",
       "      <th>4</th>\n",
       "      <th>5</th>\n",
       "      <th>6</th>\n",
       "      <th>7</th>\n",
       "      <th>8</th>\n",
       "      <th>9</th>\n",
       "      <th>...</th>\n",
       "      <th>314</th>\n",
       "      <th>315</th>\n",
       "      <th>316</th>\n",
       "      <th>317</th>\n",
       "      <th>318</th>\n",
       "      <th>319</th>\n",
       "      <th>320</th>\n",
       "      <th>321</th>\n",
       "      <th>322</th>\n",
       "      <th>323</th>\n",
       "    </tr>\n",
       "  </thead>\n",
       "  <tbody>\n",
       "    <tr>\n",
       "      <th>spos[1046]</th>\n",
       "      <td>99.525233</td>\n",
       "      <td>99.443233</td>\n",
       "      <td>514.237152</td>\n",
       "      <td>514.237152</td>\n",
       "      <td>514.155152</td>\n",
       "      <td>514.071152</td>\n",
       "      <td>514.071152</td>\n",
       "      <td>513.997152</td>\n",
       "      <td>513.847152</td>\n",
       "      <td>513.847152</td>\n",
       "      <td>...</td>\n",
       "      <td>88.010233</td>\n",
       "      <td>88.010233</td>\n",
       "      <td>88.010233</td>\n",
       "      <td>88.010233</td>\n",
       "      <td>88.010233</td>\n",
       "      <td>88.010233</td>\n",
       "      <td>88.010233</td>\n",
       "      <td>88.010233</td>\n",
       "      <td>88.010233</td>\n",
       "      <td>88.010233</td>\n",
       "    </tr>\n",
       "    <tr>\n",
       "      <th>energy_dev</th>\n",
       "      <td>0.029094</td>\n",
       "      <td>0.029476</td>\n",
       "      <td>0.029859</td>\n",
       "      <td>0.030242</td>\n",
       "      <td>0.030625</td>\n",
       "      <td>0.031008</td>\n",
       "      <td>0.031390</td>\n",
       "      <td>0.031773</td>\n",
       "      <td>0.032156</td>\n",
       "      <td>0.032539</td>\n",
       "      <td>...</td>\n",
       "      <td>0.149296</td>\n",
       "      <td>0.149679</td>\n",
       "      <td>0.150062</td>\n",
       "      <td>0.150444</td>\n",
       "      <td>0.150827</td>\n",
       "      <td>0.151210</td>\n",
       "      <td>0.151593</td>\n",
       "      <td>0.151976</td>\n",
       "      <td>0.152359</td>\n",
       "      <td>0.152741</td>\n",
       "    </tr>\n",
       "  </tbody>\n",
       "</table>\n",
       "<p>2 rows × 324 columns</p>\n",
       "</div>"
      ],
      "text/plain": [
       "                  0          1           2           3           4    \\\n",
       "spos[1046]  99.525233  99.443233  514.237152  514.237152  514.155152   \n",
       "energy_dev   0.029094   0.029476    0.029859    0.030242    0.030625   \n",
       "\n",
       "                   5           6           7           8           9    ...  \\\n",
       "spos[1046]  514.071152  514.071152  513.997152  513.847152  513.847152  ...   \n",
       "energy_dev    0.031008    0.031390    0.031773    0.032156    0.032539  ...   \n",
       "\n",
       "                  314        315        316        317        318        319  \\\n",
       "spos[1046]  88.010233  88.010233  88.010233  88.010233  88.010233  88.010233   \n",
       "energy_dev   0.149296   0.149679   0.150062   0.150444   0.150827   0.151210   \n",
       "\n",
       "                  320        321        322        323  \n",
       "spos[1046]  88.010233  88.010233  88.010233  88.010233  \n",
       "energy_dev   0.151593   0.151976   0.152359   0.152741  \n",
       "\n",
       "[2 rows x 324 columns]"
      ]
     },
     "execution_count": 38,
     "metadata": {},
     "output_type": "execute_result"
    }
   ],
   "source": [
    "df.transpose()"
   ]
  },
  {
   "cell_type": "code",
   "execution_count": 65,
   "metadata": {},
   "outputs": [],
   "source": [
    "step = int((deltas[0]+deltas[-1])/0.005)\n",
    "interv = np.linspace(deltas[0], deltas[-1], step)"
   ]
  },
  {
   "cell_type": "code",
   "execution_count": 69,
   "metadata": {},
   "outputs": [
    {
     "data": {
      "text/plain": [
       "(array([0.02909359, 0.03262638, 0.03615917, 0.03969197, 0.04322476,\n",
       "        0.04675755, 0.05029035, 0.05382314, 0.05735593, 0.06088872,\n",
       "        0.06442152, 0.06795431, 0.0714871 , 0.0750199 , 0.07855269,\n",
       "        0.08208548, 0.08561827, 0.08915107, 0.09268386, 0.09621665,\n",
       "        0.09974945, 0.10328224, 0.10681503, 0.11034782, 0.11388062,\n",
       "        0.11741341, 0.1209462 , 0.124479  , 0.12801179, 0.13154458,\n",
       "        0.13507737, 0.13861017, 0.14214296, 0.14567575, 0.14920855,\n",
       "        0.15274134]),\n",
       " 36)"
      ]
     },
     "execution_count": 69,
     "metadata": {},
     "output_type": "execute_result"
    }
   ],
   "source": [
    "interv, step"
   ]
  },
  {
   "cell_type": "code",
   "execution_count": 27,
   "metadata": {},
   "outputs": [
    {
     "data": {
      "text/plain": [
       "(True,\n",
       " (array([-0.04372908, -0.04372908, -0.04372908, ..., -0.04372908,\n",
       "         -0.04372908, -0.04372908]),\n",
       "  array([0.04372908, 0.04372908, 0.04372908, ..., 0.04372908, 0.04372908,\n",
       "         0.04372908])),\n",
       " (array([0.00000000e+00, 1.00036646e-01, 2.00073292e-01, ...,\n",
       "         5.18189827e+02, 5.18289863e+02, 5.18389900e+02]),\n",
       "  array([0.04372908, 0.04372908, 0.04372908, ..., 0.04372908, 0.04372908,\n",
       "         0.04372908]),\n",
       "  array([-0.04372908, -0.04372908, -0.04372908, ..., -0.04372908,\n",
       "         -0.04372908, -0.04372908])))"
      ]
     },
     "execution_count": 27,
     "metadata": {},
     "output_type": "execute_result"
    }
   ],
   "source": [
    "tousan.get_amps_idxs()"
   ]
  },
  {
   "cell_type": "code",
   "execution_count": 31,
   "metadata": {},
   "outputs": [],
   "source": [
    "accep = pyaccel.optics.calc_touschek_energy_acceptance(acc)"
   ]
  },
  {
   "cell_type": "code",
   "execution_count": 33,
   "metadata": {},
   "outputs": [],
   "source": [
    "tousan.plot_analysis_at_position([spos[1046]], 'pos', accep)"
   ]
  },
  {
   "cell_type": "code",
   "execution_count": null,
   "metadata": {},
   "outputs": [],
   "source": []
  }
 ],
 "metadata": {
  "kernelspec": {
   "display_name": "sirius",
   "language": "python",
   "name": "python3"
  },
  "language_info": {
   "codemirror_mode": {
    "name": "ipython",
    "version": 3
   },
   "file_extension": ".py",
   "mimetype": "text/x-python",
   "name": "python",
   "nbconvert_exporter": "python",
   "pygments_lexer": "ipython3",
   "version": "3.9.2"
  },
  "orig_nbformat": 4
 },
 "nbformat": 4,
 "nbformat_minor": 2
}
