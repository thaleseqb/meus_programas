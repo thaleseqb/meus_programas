{
 "cells": [
  {
   "cell_type": "code",
   "execution_count": 1,
   "metadata": {},
   "outputs": [],
   "source": [
    "%matplotlib qt5\n",
    "import pyaccel\n",
    "import pymodels\n",
    "import numpy as np\n",
    "import matplotlib.pyplot as plt\n",
    "import scipy.integrate as scyint\n",
    "import pandas as pd\n",
    "from mathphys import constants\n",
    "from mathphys.functions import save_pickle, load_pickle\n",
    "from mathphys.beam_optics import beam_rigidity"
   ]
  },
  {
   "cell_type": "code",
   "execution_count": 2,
   "metadata": {},
   "outputs": [],
   "source": [
    "import touschek_pack.functions as tousfunc"
   ]
  },
  {
   "cell_type": "code",
   "execution_count": 3,
   "metadata": {},
   "outputs": [],
   "source": [
    "import touschek_pack.Classes as tousclass"
   ]
  },
  {
   "cell_type": "code",
   "execution_count": 4,
   "metadata": {},
   "outputs": [],
   "source": [
    "# eu preciso lembrar de depois acrescentar uma função que faça o trakcing nao tornando explicito a diferenciação entre desvios de energia \n",
    "# positivos e negativos para contabilizar de maneira correta a taxa de espalhamento touschek porque na biblioteca lifetime a taxa de espalhamento\n",
    "# calculada esta implementada com base nos espalhamentos tanto negativos como positivos"
   ]
  },
  {
   "cell_type": "code",
   "execution_count": 5,
   "metadata": {},
   "outputs": [],
   "source": [
    "# This function will probably will be in my repositories\n",
    "# I dont know if I will use it again, but it seems to me that it could be uselfull in some point\n",
    "\n",
    "def extract_delt(groups, deltas):\n",
    "    c = 0\n",
    "    big_list = []\n",
    "    for lists in groups:\n",
    "        lil_list = []\n",
    "        for _ in lists:\n",
    "            lil_list.append(c)\n",
    "            c+=1\n",
    "            \n",
    "        big_list.append(lil_list)\n",
    "    \n",
    "    sep_deltas = []\n",
    "    comp_l = []\n",
    "\n",
    "    for iten in big_list:\n",
    "        sep_deltas.append(deltas[iten])\n",
    "        comp_l.append(len(iten))\n",
    "\n",
    "\n",
    "    return sep_deltas, comp_l"
   ]
  },
  {
   "cell_type": "code",
   "execution_count": 6,
   "metadata": {},
   "outputs": [
    {
     "ename": "IndexError",
     "evalue": "invalid index to scalar variable.",
     "output_type": "error",
     "traceback": [
      "\u001b[0;31m---------------------------------------------------------------------------\u001b[0m",
      "\u001b[0;31mIndexError\u001b[0m                                Traceback (most recent call last)",
      "\u001b[1;32m/home/thaleseqb/repos/nova_pasta/meus_programas/testing_lifetime.ipynb Cell 6\u001b[0m line \u001b[0;36m9\n\u001b[1;32m      <a href='vscode-notebook-cell://wsl%2Bdebian/home/thaleseqb/repos/nova_pasta/meus_programas/testing_lifetime.ipynb#W5sdnNjb2RlLXJlbW90ZQ%3D%3D?line=5'>6</a>\u001b[0m s \u001b[39m=\u001b[39m [np\u001b[39m.\u001b[39mround([spos[\u001b[39m30\u001b[39m]], \u001b[39m2\u001b[39m), np\u001b[39m.\u001b[39mround([spos[\u001b[39m350\u001b[39m]], \u001b[39m2\u001b[39m)]\n\u001b[1;32m      <a href='vscode-notebook-cell://wsl%2Bdebian/home/thaleseqb/repos/nova_pasta/meus_programas/testing_lifetime.ipynb#W5sdnNjb2RlLXJlbW90ZQ%3D%3D?line=6'>7</a>\u001b[0m \u001b[39m# s = 30\u001b[39;00m\n\u001b[0;32m----> <a href='vscode-notebook-cell://wsl%2Bdebian/home/thaleseqb/repos/nova_pasta/meus_programas/testing_lifetime.ipynb#W5sdnNjb2RlLXJlbW90ZQ%3D%3D?line=8'>9</a>\u001b[0m df \u001b[39m=\u001b[39m tousan\u001b[39m.\u001b[39;49mget_finally(s)\n",
      "File \u001b[0;32m~/repos/pack_thales/thales_pack/touschek_pack/Classes.py:536\u001b[0m, in \u001b[0;36mTous_analysis.get_finally\u001b[0;34m(self, l_scattered_pos)\u001b[0m\n\u001b[1;32m    534\u001b[0m     \u001b[39mfor\u001b[39;00m j, boo \u001b[39min\u001b[39;00m \u001b[39menumerate\u001b[39m(l_bool):\n\u001b[1;32m    535\u001b[0m         \u001b[39mif\u001b[39;00m boo:\n\u001b[0;32m--> 536\u001b[0m             var \u001b[39m=\u001b[39m all_lostp[i][j]\n\u001b[1;32m    537\u001b[0m             \u001b[39mprint\u001b[39m(_np\u001b[39m.\u001b[39mwhere(lostp[i]\u001b[39m==\u001b[39mvar))\n\u001b[1;32m    539\u001b[0m \u001b[39mreturn\u001b[39;00m \u001b[39mNone\u001b[39;00m\n",
      "\u001b[0;31mIndexError\u001b[0m: invalid index to scalar variable."
     ]
    }
   ],
   "source": [
    "acc = pymodels.si.create_accelerator()\n",
    "acc = pymodels.si.fitted_models.vertical_dispersion_and_coupling(acc)\n",
    "\n",
    "tousan = tousclass.Tous_analysis(acc)\n",
    "spos = pyaccel.lattice.find_spos(acc, indices='closed')\n",
    "s = [np.round([spos[30]], 2), np.round([spos[350]], 2)]\n",
    "# s = 30\n",
    "\n",
    "df = tousan.get_finally(s)"
   ]
  },
  {
   "cell_type": "code",
   "execution_count": 11,
   "metadata": {},
   "outputs": [
    {
     "data": {
      "text/plain": [
       "22"
      ]
     },
     "execution_count": 11,
     "metadata": {},
     "output_type": "execute_result"
    }
   ],
   "source": [
    "c = 0\n",
    "for iten in df[1]:\n",
    "    if not iten:\n",
    "        c+=1\n",
    "\n",
    "c"
   ]
  },
  {
   "cell_type": "code",
   "execution_count": 7,
   "metadata": {},
   "outputs": [
    {
     "data": {
      "text/plain": [
       "([array([ True,  True,  True,  True,  True,  True,  True,  True,  True,\n",
       "          True,  True,  True,  True,  True,  True,  True,  True,  True,\n",
       "          True,  True,  True,  True,  True,  True,  True,  True,  True,\n",
       "          True,  True,  True,  True,  True,  True,  True,  True,  True,\n",
       "          True,  True,  True,  True,  True,  True,  True,  True,  True,\n",
       "          True,  True,  True,  True,  True,  True,  True,  True, False,\n",
       "         False, False, False, False, False, False, False, False, False,\n",
       "         False, False, False, False, False, False, False, False, False]),\n",
       "  array([False, False,  True,  True,  True,  True,  True,  True,  True,\n",
       "          True,  True, False, False,  True, False, False,  True, False,\n",
       "         False,  True,  True,  True,  True,  True,  True,  True,  True,\n",
       "          True,  True, False, False, False, False, False, False, False,\n",
       "          True,  True,  True,  True, False, False, False, False, False,\n",
       "         False,  True,  True,  True,  True,  True,  True, False,  True,\n",
       "          True,  True,  True,  True,  True,  True,  True,  True,  True,\n",
       "          True,  True,  True,  True,  True,  True,  True,  True,  True])],\n",
       " [array([5.84241077e-09, 5.84241077e-09, 4.67392862e-08, 1.22690626e-07,\n",
       "         7.01089293e-08, 4.67392862e-08, 5.84241077e-09, 5.84241077e-08,\n",
       "         4.08968754e-08, 5.25816970e-08, 1.16848215e-08, 5.84241077e-09,\n",
       "         5.84241077e-09, 5.84241077e-09, 5.84241077e-09, 5.84241077e-09,\n",
       "         1.16848215e-08, 5.84241077e-09, 5.84241077e-09, 5.84241077e-09,\n",
       "         1.75272323e-08, 2.92120539e-08, 5.84241077e-09, 1.16848215e-08,\n",
       "         1.16848215e-08, 1.75272323e-08, 1.16848215e-08, 5.84241077e-09,\n",
       "         5.84241077e-09, 4.67392862e-08, 1.16848215e-08, 2.92120539e-08,\n",
       "         7.59513401e-08, 1.75272323e-08, 1.16848215e-08, 1.16848215e-08,\n",
       "         5.25816970e-08, 5.25816970e-08, 1.16848215e-08, 5.84241077e-09,\n",
       "         2.92120539e-08, 5.84241077e-09, 5.84241077e-09, 1.16848215e-08,\n",
       "         5.84241077e-09, 1.16848215e-08, 1.75272323e-08, 1.16848215e-08,\n",
       "         5.84241077e-09, 5.84241077e-09, 5.84241077e-09, 5.84241077e-09,\n",
       "         5.84241077e-09]),\n",
       "  array([2.51728725e-10, 1.00691490e-09, 5.03457450e-10, 3.59612464e-11,\n",
       "         3.59612464e-11, 3.23651218e-10, 3.23651218e-10, 2.15767479e-10,\n",
       "         3.59612464e-11, 7.19224929e-11, 3.59612464e-11, 1.07883739e-10,\n",
       "         3.23651218e-10, 2.15767479e-10, 2.51728725e-10, 7.19224929e-11,\n",
       "         3.59612464e-11, 3.59612464e-11, 3.59612464e-11, 7.19224929e-11,\n",
       "         3.59612464e-11, 1.07883739e-10, 1.79806232e-10, 3.59612464e-11,\n",
       "         3.59612464e-11, 7.19224929e-11, 1.79806232e-10, 1.43844986e-10,\n",
       "         7.19224929e-11, 3.59612464e-11, 3.59612464e-11, 3.59612464e-11,\n",
       "         1.43844986e-10, 1.79806232e-10, 3.59612464e-11, 3.59612464e-11,\n",
       "         3.59612464e-10, 3.59612464e-10, 1.43844986e-10, 3.59612464e-11,\n",
       "         7.19224929e-11, 1.07883739e-10, 7.19224929e-11, 3.59612464e-11,\n",
       "         3.59612464e-11, 3.59612464e-11, 7.19224929e-11, 3.59612464e-11,\n",
       "         3.59612464e-11, 3.59612464e-11])],\n",
       " [array([  0.  ,  47.45,  69.86,  91.24,  91.95,  92.07,  99.29,  99.36,\n",
       "          99.44,  99.53,  99.73,  99.88, 100.16, 102.68, 104.68, 147.62,\n",
       "         151.12, 169.71, 169.82, 173.37, 176.89, 177.04, 177.28, 195.63,\n",
       "         198.92, 199.14, 199.29, 199.46, 203.2 , 208.51, 210.37, 280.57,\n",
       "         280.72, 280.96, 299.42, 302.6 , 302.81, 302.96, 303.13, 306.72,\n",
       "         306.88, 308.02, 312.53, 380.89, 384.64, 403.1 , 406.49, 406.64,\n",
       "         406.81, 410.39, 410.48, 410.56, 506.78]),\n",
       "  array([ 69.54,  69.69,  69.86,  73.37,  73.61,  91.24,  91.95,  92.07,\n",
       "          95.24,  95.46,  95.61,  99.29,  99.36,  99.44,  99.53,  99.73,\n",
       "         100.66, 102.68, 105.18, 151.12, 173.37, 176.89, 177.04, 177.28,\n",
       "         195.63, 198.92, 199.14, 199.29, 199.46, 203.12, 203.2 , 299.31,\n",
       "         302.81, 302.96, 303.13, 306.72, 406.49, 406.64, 406.81, 410.32,\n",
       "         410.39, 410.48, 410.56, 410.76, 415.7 , 488.08, 510.32, 510.49,\n",
       "         514.16, 514.24])])"
      ]
     },
     "execution_count": 7,
     "metadata": {},
     "output_type": "execute_result"
    }
   ],
   "source": [
    "df"
   ]
  },
  {
   "cell_type": "code",
   "execution_count": 26,
   "metadata": {},
   "outputs": [
    {
     "data": {
      "text/plain": [
       "(array([ True,  True,  True,  True, False, False, False]),\n",
       " array([ True,  True,  True,  True, False, False, False, False, False,\n",
       "        False]))"
      ]
     },
     "execution_count": 26,
     "metadata": {},
     "output_type": "execute_result"
    }
   ],
   "source": [
    "a = np.array([1,2,3,4,5,6,7])\n",
    "\n",
    "b = np.array([1,2,3,4,9,12,34,56,75,96])\n",
    "\n",
    "\n",
    "np.isin(a,b), np.isin(b,a)"
   ]
  },
  {
   "cell_type": "code",
   "execution_count": null,
   "metadata": {},
   "outputs": [],
   "source": [
    "# l_ost, deltas = np.zeros(len(res)), np.zeros(len(res))\n",
    "# for idx, iten in enumerate(res):\n",
    "#     _, ellost, delta = iten\n",
    "#     l_ost[idx] = ellost\n",
    "#     deltas[idx] = delta\n"
   ]
  },
  {
   "cell_type": "code",
   "execution_count": null,
   "metadata": {},
   "outputs": [],
   "source": [
    "\n",
    "ltime = pyaccel.lifetime.Lifetime(acc)\n",
    "tous_rate = ltime.touschek_data['rate']\n",
    "spos = pyaccel.lattice.find_spos(acc, indices='closed')\n",
    "\n",
    "npt = int((spos[-1]-spos[0])/0.1)\n",
    "\n",
    "\n",
    "scalc = np.linspace(spos[0], spos[-1], npt)\n",
    "\n",
    "ltime = pyaccel.lifetime.Lifetime(acc)\n",
    "tous_rate = ltime.touschek_data['rate']\n",
    "rate_nom_lattice = np.interp(spos, scalc, tous_rate)"
   ]
  },
  {
   "cell_type": "code",
   "execution_count": null,
   "metadata": {},
   "outputs": [],
   "source": [
    "spos = pyaccel.lattice.find_spos(acc, indices='closed')\n",
    "i = np.argmin(np.abs(spos-np.round([spos[350]], 2)))\n",
    "\n",
    "model = pymodels.si.create_accelerator()\n",
    "model.cavity_on = True\n",
    "model.radiation_on = True\n",
    "model.vchamber_on = True\n",
    "\n",
    "\n",
    "res = tousfunc.track_eletrons(tousan._deltas, tousan._nturns, i, model)\n",
    "\n",
    "\n",
    "# para este caso específico a posição analisada é spos[1046], ou seja, o indice em que a simulação tracking começa é em 1046\n",
    "# a para este valor teremos então diversas posições em que o eletron é perdido e a partir disso eu vou ter organizar meu pensamento\n",
    "\n",
    "lostinds, deltas = np.zeros(len(res)), np.zeros(len(res))\n",
    "for idx,iten in enumerate(res):\n",
    "    tloss, ellost, delta = iten\n",
    "    lostinds[idx] = ellost\n",
    "    deltas[idx] = delta # alguns elétrons possuem desvio de energia abaixo da aceitancia e acabam não sendo perdidos\n",
    "\n",
    "lostinds = np.intp(lostinds)\n",
    "\n",
    "# deltas são os desvios de energia perdidos pelo tracking\n",
    "lost_positions = spos[lostinds]\n",
    "lost_positions = np.round(lost_positions, 2)"
   ]
  },
  {
   "cell_type": "code",
   "execution_count": null,
   "metadata": {},
   "outputs": [],
   "source": [
    "np.unique(lost_positions)"
   ]
  },
  {
   "cell_type": "code",
   "execution_count": null,
   "metadata": {},
   "outputs": [],
   "source": [
    "\n",
    "fact = 0.03\n",
    "step = int((deltas[0]+deltas[-1])/fact)\n",
    "itv_track = np.linspace(deltas[0], deltas[-1], step) # method learned by fac repositories\n",
    "\n",
    "data = pd.DataFrame({'lost_pos_by_tracking': lost_positions}) # create the dataframe that is obtained by tracking\n",
    "lost_pos_column = (data.groupby('lost_pos_by_tracking').groups).keys()\n",
    "data = pd.DataFrame({'lost_pos_by_tracking':lost_pos_column}) # this step agroups the lost_positions\n",
    "\n",
    "# scat_lost_df = pd.DataFrame(f'{s}':) # dataframe will contain the scattered positions and the lost positions after scattering\n",
    "\n",
    "itv_delta = []\n",
    "for current, next_iten in zip(itv_track, itv_track[1:]):\n",
    "    data['{:.2f} % < delta < {:.2f} %'.format(current*1e2, next_iten*1e2)] = np.zeros(len(list(lost_pos_column))) # this step creates new columns in the dataframe and fill with zeros\n",
    "    itv_delta.append((current, next_iten))\n",
    "    # Next step must calculate each matrix element from the dataframe\n",
    "\n",
    "var = list(data.index) \n",
    "# quando as duas variáveis são iguais isso acab resultando em um erro então estou colocando essa condição.\n",
    "if var == lost_pos_column:\n",
    "    pass\n",
    "else:\n",
    "    data = data.set_index('lost_pos_by_tracking')\n",
    "\n",
    "\n",
    "for idx, lost_pos in enumerate(lost_positions): # essas duas estruturas de repetição são responsáveis por calcular \n",
    "    # o percentual dos eletrons que possuem um determinado desvio de energia e se perdem em um intervalo de desvio de energia específico\n",
    "    delta = deltas[idx]\n",
    "    lps = []\n",
    "    for j, interval in enumerate(itv_delta):\n",
    "        if j == 0:\n",
    "            if interval[0]<= delta <= interval[1]:\n",
    "                data.loc[lost_pos, '{:.2f} % < delta < {:.2f} %'.format(interval[0]*1e2, interval[1]*1e2)] += 1\n",
    "        else:\n",
    "            if interval[0]< delta <= interval[1]:\n",
    "                data.loc[lost_pos, '{:.2f} % < delta < {:.2f} %'.format(interval[0]*1e2, interval[1]*1e2)] += 1\n",
    "\n",
    "data = data / len(deltas)\n",
    "\n",
    "npt = int((spos[-1]-spos[0])/0.1)\n",
    "\n",
    "\n",
    "scalc = np.linspace(spos[0], spos[-1], npt)\n",
    "rate_nom_lattice = np.interp(spos, scalc, tous_rate)\n",
    "\n",
    "dic_res = {}\n",
    "lost_pos_df = []\n",
    "part_prob = []\n",
    "for index, iten in data.iterrows():\n",
    "    t_prob = 0\n",
    "    for idx, m in enumerate(iten):\n",
    "        t_prob += m\n",
    "        if idx == iten.count()-1:\n",
    "            part_prob.append(t_prob)\n",
    "            lost_pos_df.append(index)\n",
    "\n",
    "lost_pos_df = np.array(lost_pos_df)\n",
    "part_prob = np.array(part_prob)\n",
    "\n",
    "idx = np.argmin(np.abs(spos-np.round([spos[350]], 2)))\n",
    "\n",
    "dic_res['lost_position'] = lost_pos_df\n",
    "dic_res['scat. at {}'.format(s)] = part_prob * rate_nom_lattice[idx]\n",
    "\n",
    "dataframe = pd.DataFrame(dic_res)"
   ]
  },
  {
   "cell_type": "code",
   "execution_count": null,
   "metadata": {},
   "outputs": [],
   "source": [
    "meu_array = np.array(dataframe.index.tolist())\n",
    "dic_res['lost_position'], np.isin(lost_pos_df[0],meu_array)"
   ]
  },
  {
   "cell_type": "code",
   "execution_count": null,
   "metadata": {},
   "outputs": [],
   "source": [
    "pd.set_option('display.max_rows', None)\n",
    "\n",
    "dataframe"
   ]
  },
  {
   "cell_type": "code",
   "execution_count": null,
   "metadata": {},
   "outputs": [],
   "source": [
    "np.round(np.unique(spos[np.intp(l_ost)]),2), np.unique(lost_positions)"
   ]
  },
  {
   "cell_type": "code",
   "execution_count": null,
   "metadata": {},
   "outputs": [],
   "source": [
    "# Criar um DataFrame de exemplo\n",
    "data = {'A': [1, 2, 3], 'B': [4, 5, 6]}\n",
    "df = pd.DataFrame(data)\n",
    "\n",
    "# Adicionar uma nova linha ao DataFrame\n",
    "novo_valor = 10\n",
    "nova_linha = pd.Series({'A': novo_valor})\n",
    "\n",
    "indice_nova_linha = len(df)  # Obtém o índice da nova linha\n",
    "\n",
    "df.loc[indice_nova_linha] = nova_linha\n",
    "\n",
    "df"
   ]
  },
  {
   "cell_type": "code",
   "execution_count": null,
   "metadata": {},
   "outputs": [],
   "source": []
  },
  {
   "cell_type": "code",
   "execution_count": null,
   "metadata": {},
   "outputs": [],
   "source": [
    "\n",
    "df_ltime = pd.DataFrame({'rate':rate_nom_lattice})"
   ]
  },
  {
   "cell_type": "code",
   "execution_count": null,
   "metadata": {},
   "outputs": [],
   "source": [
    "ind = np.argmin(np.abs(spos-s))\n",
    "\n",
    "rate_nom_lattice[ind], ind"
   ]
  },
  {
   "cell_type": "code",
   "execution_count": null,
   "metadata": {},
   "outputs": [],
   "source": [
    "if data.values.sum() == 1:\n",
    "    pass\n",
    "else:\n",
    "    data = data/len(deltas)"
   ]
  },
  {
   "cell_type": "code",
   "execution_count": null,
   "metadata": {},
   "outputs": [],
   "source": [
    "ind = np.arange(len(df_ltime))\n",
    "df_index = spos[ind]\n",
    "\n",
    "def_df_index = np.round(df_index, 2)\n",
    "def_df_index"
   ]
  },
  {
   "cell_type": "code",
   "execution_count": null,
   "metadata": {},
   "outputs": [],
   "source": [
    "plt.figure()\n",
    "plt.plot(spos, rate_nom_lattice*1e7)"
   ]
  },
  {
   "cell_type": "code",
   "execution_count": null,
   "metadata": {},
   "outputs": [],
   "source": [
    "accep = pyaccel.optics.calc_touschek_energy_acceptance(acc)\n",
    "\n",
    "scalc, daccp, daccn = tousfunc.get_scaccep(acc, accep)"
   ]
  },
  {
   "cell_type": "code",
   "execution_count": null,
   "metadata": {},
   "outputs": [],
   "source": [
    "b1 = ltime.touschek_data['touschek_coeffs']['b1']\n",
    "b2 = ltime.touschek_data['touschek_coeffs']['b2']\n",
    "\n"
   ]
  },
  {
   "cell_type": "code",
   "execution_count": null,
   "metadata": {},
   "outputs": [],
   "source": [
    "touschek_scattering_rate = []\n",
    "# for idx,iten in enumerate(daccp):\n",
    "#     touschek_scattering_rate.append(ltime.f_integral_simps(iten, b1[idx], b2[idx]))\n"
   ]
  },
  {
   "cell_type": "code",
   "execution_count": null,
   "metadata": {},
   "outputs": [],
   "source": [
    "test_acceptance = np.array([daccp[1],daccp[2], daccp[3]])\n",
    "\n"
   ]
  },
  {
   "cell_type": "code",
   "execution_count": null,
   "metadata": {},
   "outputs": [],
   "source": [
    "def f_function_arg(kappa, kappam, b1_, b2_):\n",
    "\n",
    "    tau = (np.tan(kappa)**2)[:, None]\n",
    "    taum = (np.tan(kappam)**2)[None, :]\n",
    "    ratio = tau/taum/(1+tau)\n",
    "    return ratio, tau, taum\n"
   ]
  },
  {
   "cell_type": "code",
   "execution_count": null,
   "metadata": {},
   "outputs": [],
   "source": [
    "import scipy.special as special"
   ]
  },
  {
   "cell_type": "code",
   "execution_count": null,
   "metadata": {},
   "outputs": [],
   "source": [
    "def f_function_arg_or(kappa, kappam, b1_, b2_):\n",
    "\n",
    "    tau = (np.tan(kappa)**2)[:, None]\n",
    "    taum = (np.tan(kappam)**2)[None, :]\n",
    "    ratio = tau/taum/(1+tau)\n",
    "    arg = (2*tau+1)**2 * (ratio - 1)/tau\n",
    "    arg += tau - np.sqrt(tau*taum*(1+tau))\n",
    "    arg -= (2+1/(2*tau))*np.log(ratio)\n",
    "    arg *= np.sqrt(1+tau)\n",
    "    bessel = np.exp(-(b1_-b2_)*tau)*special.i0e(b2_*tau)\n",
    "    return arg * bessel"
   ]
  },
  {
   "cell_type": "code",
   "execution_count": null,
   "metadata": {},
   "outputs": [],
   "source": [
    "npts = 300\n",
    "kappa = np.linspace(daccp, np.pi/2, npts+1)\n",
    "\n",
    "var = f_function_arg_or(kappa, daccp,b1,b2)\n"
   ]
  },
  {
   "cell_type": "code",
   "execution_count": null,
   "metadata": {},
   "outputs": [],
   "source": []
  },
  {
   "cell_type": "code",
   "execution_count": null,
   "metadata": {},
   "outputs": [],
   "source": [
    "tau.squeeze().transpose()"
   ]
  },
  {
   "cell_type": "code",
   "execution_count": null,
   "metadata": {},
   "outputs": [],
   "source": []
  },
  {
   "cell_type": "code",
   "execution_count": null,
   "metadata": {},
   "outputs": [],
   "source": [
    "matrix = np.array([[1,2,3],\n",
    "                   [0,2,3],\n",
    "                   [1,2,3]])\n",
    "matrix.shape\n",
    "\n",
    "matrix[1,0]\n",
    "\n"
   ]
  },
  {
   "cell_type": "code",
   "execution_count": null,
   "metadata": {},
   "outputs": [],
   "source": [
    "tau.squeeze().shape"
   ]
  }
 ],
 "metadata": {
  "kernelspec": {
   "display_name": "sirius",
   "language": "python",
   "name": "python3"
  },
  "language_info": {
   "codemirror_mode": {
    "name": "ipython",
    "version": 3
   },
   "file_extension": ".py",
   "mimetype": "text/x-python",
   "name": "python",
   "nbconvert_exporter": "python",
   "pygments_lexer": "ipython3",
   "version": "3.9.2"
  },
  "orig_nbformat": 4
 },
 "nbformat": 4,
 "nbformat_minor": 2
}
