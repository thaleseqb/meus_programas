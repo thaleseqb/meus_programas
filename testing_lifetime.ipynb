{
 "cells": [
  {
   "cell_type": "code",
   "execution_count": 1,
   "metadata": {},
   "outputs": [],
   "source": [
    "import pyaccel\n",
    "import pymodels\n",
    "import numpy as np\n",
    "import matplotlib.pyplot as plt\n",
    "import scipy.integrate as scyint\n",
    "import pandas as pd"
   ]
  },
  {
   "cell_type": "code",
   "execution_count": 2,
   "metadata": {},
   "outputs": [],
   "source": [
    "import touschek_pack.functions as tousfunc"
   ]
  },
  {
   "cell_type": "code",
   "execution_count": 3,
   "metadata": {},
   "outputs": [],
   "source": [
    "import touschek_pack.Classes as tousclass"
   ]
  },
  {
   "cell_type": "code",
   "execution_count": 4,
   "metadata": {},
   "outputs": [],
   "source": [
    "from itertools import groupby"
   ]
  },
  {
   "cell_type": "code",
   "execution_count": 5,
   "metadata": {},
   "outputs": [],
   "source": [
    "# This function will probably will be in my repositories\n",
    "# I dont know if I will use it again, but it seems to me that it could be uselfull in some point\n",
    "\n",
    "def extract_delt(groups, deltas):\n",
    "    c = 0\n",
    "    big_list = []\n",
    "    for lists in groups:\n",
    "        lil_list = []\n",
    "        for _ in lists:\n",
    "            lil_list.append(c)\n",
    "            c+=1\n",
    "            \n",
    "        big_list.append(lil_list)\n",
    "    \n",
    "    sep_deltas = []\n",
    "    comp_l = []\n",
    "\n",
    "    for iten in big_list:\n",
    "        sep_deltas.append(deltas[iten])\n",
    "        comp_l.append(len(iten))\n",
    "\n",
    "\n",
    "    return sep_deltas, comp_l"
   ]
  },
  {
   "cell_type": "code",
   "execution_count": 6,
   "metadata": {},
   "outputs": [],
   "source": [
    "acc = pymodels.si.create_accelerator()\n",
    "acc = pymodels.si.fitted_models.vertical_dispersion_and_coupling(acc)\n",
    "\n",
    "\n",
    "tousan = tousclass.Tous_analysis(acc)"
   ]
  },
  {
   "cell_type": "code",
   "execution_count": 7,
   "metadata": {},
   "outputs": [],
   "source": [
    "spos = pyaccel.lattice.find_spos(acc, indices='open')\n",
    "\n",
    "s = [spos[1046]]\n",
    "\n",
    "res, fp, dp = tousan.fast_aquisition(s, 'pos')"
   ]
  },
  {
   "cell_type": "code",
   "execution_count": null,
   "metadata": {},
   "outputs": [],
   "source": [
    "acc = pymodels.si.create_accelerator()\n",
    "acc = pymodels.si.fitted_models.vertical_dispersion_and_coupling(acc)\n",
    "\n",
    "tousan = tousclass.Tous_analysis(acc)"
   ]
  },
  {
   "cell_type": "code",
   "execution_count": null,
   "metadata": {},
   "outputs": [],
   "source": [
    "# lembre-se que queremos contruir uma função que transforme dados que eu já possuo em tabelas\n",
    "# uma biblioteca bastante util para isso seria a bib pandas\n",
    "# vamos tentar usar ela para nossos calculos\n",
    "\n",
    "s = [spos[1046]]\n",
    "\n",
    "ress = tousan.fast_aquisition(s, 'pos')"
   ]
  },
  {
   "cell_type": "code",
   "execution_count": null,
   "metadata": {},
   "outputs": [],
   "source": [
    "res, fp, dp = ress"
   ]
  },
  {
   "cell_type": "code",
   "execution_count": 8,
   "metadata": {},
   "outputs": [],
   "source": [
    "# para este caso específico a posição analisada é spos[1046], ou seja, o indice em que a simulação tracking começa é em 1046\n",
    "# a para este valor teremos então diversas posições em que o eletron é perdido e a partir disso eu vou ter organizar meu pensamento\n",
    "\n",
    "lostinds, deltas = np.zeros(len(res)), np.zeros(len(res))\n",
    "for idx,iten in enumerate(res):\n",
    "    tloss, ellost, delta = iten\n",
    "    lostinds[idx] = ellost\n",
    "    deltas[idx] = delta\n",
    "\n",
    "lostinds = np.intp(lostinds)\n",
    "\n",
    "# deltas são os desvios de energia perdidos pelo tracking\n"
   ]
  },
  {
   "cell_type": "code",
   "execution_count": 62,
   "metadata": {},
   "outputs": [],
   "source": [
    "data = pd.DataFrame({'lost_pos_by_tracking': lostinds}) # create the dataframe that is obtained by tracking\n",
    "lost_pos_column = (data.groupby('lost_pos_by_tracking').groups).keys()\n",
    "data = pd.DataFrame({'lost_pos_by_tracking':lost_pos_column}) # this step agroups the lost_positions\n",
    "\n",
    "fact = 0.03\n",
    "step = int((deltas[0]+deltas[-1])/fact)\n",
    "itv_track = np.linspace(deltas[0], deltas[-1], step) # method learned by fac repositories\n",
    "\n",
    "for current, next_iten in zip(itv_track, itv_track[1:]): \n",
    "    data['{:.2f} %< delta <{:.2f} %'.format(current*1e2, next_iten*1e2)] = np.zeros(len(list(lost_pos_column))) # this step creates new columns in the dataframe and fill with zeros\n",
    "\n",
    "    # Next step must calculate each matrix element from the dataframe\n"
   ]
  },
  {
   "cell_type": "code",
   "execution_count": null,
   "metadata": {},
   "outputs": [],
   "source": []
  },
  {
   "cell_type": "code",
   "execution_count": null,
   "metadata": {},
   "outputs": [],
   "source": [
    "for idx, iten in enumerate(lostinds):\n",
    "    # eu tenho que passar uma condição verificando em qual intervalo o desvio de energia se encontra.\n",
    "    # eu não sei exatamente como fazer isso\n",
    "    # mas quando eu souber o problema vai estar resolvido\n",
    "    deltas[idx]"
   ]
  },
  {
   "cell_type": "code",
   "execution_count": null,
   "metadata": {},
   "outputs": [],
   "source": [
    "# talvez eu realmente tenha que fazer aquela primeira lista que eu estava tentando fazer inicialmente \n",
    "# que eram as listar contendo os valores dos intervalos \n",
    "\n"
   ]
  },
  {
   "cell_type": "code",
   "execution_count": null,
   "metadata": {},
   "outputs": [],
   "source": [
    "accep = pyaccel.optics.calc_touschek_energy_acceptance(acc)\n",
    "\n",
    "scalc, daccp, daccn = tousfunc.get_scaccep(acc, accep)"
   ]
  },
  {
   "cell_type": "code",
   "execution_count": null,
   "metadata": {},
   "outputs": [],
   "source": [
    "b1 = ltime.touschek_data['touschek_coeffs']['b1']\n",
    "b2 = ltime.touschek_data['touschek_coeffs']['b2']\n",
    "\n"
   ]
  },
  {
   "cell_type": "code",
   "execution_count": null,
   "metadata": {},
   "outputs": [],
   "source": [
    "touschek_scattering_rate = []\n",
    "# for idx,iten in enumerate(daccp):\n",
    "#     touschek_scattering_rate.append(ltime.f_integral_simps(iten, b1[idx], b2[idx]))\n"
   ]
  },
  {
   "cell_type": "code",
   "execution_count": null,
   "metadata": {},
   "outputs": [],
   "source": [
    "test_acceptance = np.array([daccp[1],daccp[2], daccp[3]])\n",
    "\n"
   ]
  },
  {
   "cell_type": "code",
   "execution_count": null,
   "metadata": {},
   "outputs": [],
   "source": [
    "def f_function_arg(kappa, kappam, b1_, b2_):\n",
    "\n",
    "    tau = (np.tan(kappa)**2)[:, None]\n",
    "    taum = (np.tan(kappam)**2)[None, :]\n",
    "    ratio = tau/taum/(1+tau)\n",
    "    return ratio, tau, taum\n"
   ]
  },
  {
   "cell_type": "code",
   "execution_count": null,
   "metadata": {},
   "outputs": [],
   "source": [
    "import scipy.special as special"
   ]
  },
  {
   "cell_type": "code",
   "execution_count": null,
   "metadata": {},
   "outputs": [],
   "source": [
    "def f_function_arg_or(kappa, kappam, b1_, b2_):\n",
    "\n",
    "    tau = (np.tan(kappa)**2)[:, None]\n",
    "    taum = (np.tan(kappam)**2)[None, :]\n",
    "    ratio = tau/taum/(1+tau)\n",
    "    arg = (2*tau+1)**2 * (ratio - 1)/tau\n",
    "    arg += tau - np.sqrt(tau*taum*(1+tau))\n",
    "    arg -= (2+1/(2*tau))*np.log(ratio)\n",
    "    arg *= np.sqrt(1+tau)\n",
    "    bessel = np.exp(-(b1_-b2_)*tau)*special.i0e(b2_*tau)\n",
    "    return arg * bessel"
   ]
  },
  {
   "cell_type": "code",
   "execution_count": null,
   "metadata": {},
   "outputs": [],
   "source": [
    "npts = 300\n",
    "kappa = np.linspace(daccp, np.pi/2, npts+1)\n",
    "\n",
    "var = f_function_arg_or(kappa, daccp,b1,b2)\n"
   ]
  },
  {
   "cell_type": "code",
   "execution_count": null,
   "metadata": {},
   "outputs": [],
   "source": []
  },
  {
   "cell_type": "code",
   "execution_count": null,
   "metadata": {},
   "outputs": [],
   "source": [
    "tau.squeeze().transpose()"
   ]
  },
  {
   "cell_type": "code",
   "execution_count": null,
   "metadata": {},
   "outputs": [],
   "source": []
  },
  {
   "cell_type": "code",
   "execution_count": null,
   "metadata": {},
   "outputs": [],
   "source": [
    "matrix = np.array([[1,2,3],\n",
    "                   [0,2,3],\n",
    "                   [1,2,3]])\n",
    "matrix.shape\n",
    "\n",
    "matrix[1,0]\n",
    "\n"
   ]
  },
  {
   "cell_type": "code",
   "execution_count": null,
   "metadata": {},
   "outputs": [],
   "source": [
    "tau.squeeze().shape"
   ]
  },
  {
   "cell_type": "code",
   "execution_count": null,
   "metadata": {},
   "outputs": [],
   "source": [
    "plt.plot(dp,fp)"
   ]
  },
  {
   "cell_type": "code",
   "execution_count": null,
   "metadata": {},
   "outputs": [],
   "source": [
    "tousan.get_amps_idxs()"
   ]
  },
  {
   "cell_type": "code",
   "execution_count": null,
   "metadata": {},
   "outputs": [],
   "source": [
    "accep = pyaccel.optics.calc_touschek_energy_acceptance(acc)"
   ]
  },
  {
   "cell_type": "code",
   "execution_count": null,
   "metadata": {},
   "outputs": [],
   "source": [
    "tousan.plot_analysis_at_position([spos[1046]], 'pos', accep)"
   ]
  },
  {
   "cell_type": "code",
   "execution_count": null,
   "metadata": {},
   "outputs": [],
   "source": []
  }
 ],
 "metadata": {
  "kernelspec": {
   "display_name": "sirius",
   "language": "python",
   "name": "python3"
  },
  "language_info": {
   "codemirror_mode": {
    "name": "ipython",
    "version": 3
   },
   "file_extension": ".py",
   "mimetype": "text/x-python",
   "name": "python",
   "nbconvert_exporter": "python",
   "pygments_lexer": "ipython3",
   "version": "3.9.2"
  },
  "orig_nbformat": 4
 },
 "nbformat": 4,
 "nbformat_minor": 2
}
