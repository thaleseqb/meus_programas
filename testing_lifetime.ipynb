{
 "cells": [
  {
   "cell_type": "code",
   "execution_count": 1,
   "metadata": {},
   "outputs": [],
   "source": [
    "# pip install seaborn"
   ]
  },
  {
   "cell_type": "code",
   "execution_count": 7,
   "metadata": {},
   "outputs": [],
   "source": [
    "%matplotlib qt5\n",
    "import pyaccel\n",
    "import pymodels\n",
    "import numpy as np\n",
    "import matplotlib.pyplot as plt\n",
    "import scipy.integrate as scyint\n",
    "import pandas as pd\n",
    "from mathphys import constants\n",
    "from mathphys.functions import save_pickle, load_pickle\n",
    "from mathphys.beam_optics import beam_rigidity\n",
    "\n",
    "import touschek_pack.functions as tousfunc\n",
    "import touschek_pack.Classes as tousclass\n",
    "\n"
   ]
  },
  {
   "cell_type": "code",
   "execution_count": 2,
   "metadata": {},
   "outputs": [],
   "source": [
    "acc = pymodels.si.create_accelerator()\n",
    "acc = pymodels.si.fitted_models.vertical_dispersion_and_coupling(acc)\n",
    "\n",
    "tousan = tousclass.Tous_analysis(acc)\n",
    "spos = pyaccel.lattice.findspos(acc, indices='closed')\n",
    "\n"
   ]
  },
  {
   "cell_type": "code",
   "execution_count": 5,
   "metadata": {},
   "outputs": [],
   "source": [
    "dic = load_pickle('pic_scat.pickle')"
   ]
  },
  {
   "cell_type": "code",
   "execution_count": 6,
   "metadata": {},
   "outputs": [],
   "source": [
    "# tousan.get_lost_profile(dic)\n",
    "# tousan.plot_scat_table(spos, dic,1,1)"
   ]
  },
  {
   "cell_type": "code",
   "execution_count": 9,
   "metadata": {},
   "outputs": [
    {
     "data": {
      "text/plain": [
       "(475, 4584)"
      ]
     },
     "execution_count": 9,
     "metadata": {},
     "output_type": "execute_result"
    }
   ],
   "source": [
    "# df = pd.DataFrame(dic).set_index('lost_positions')\n",
    "# df.shape"
   ]
  },
  {
   "cell_type": "code",
   "execution_count": 15,
   "metadata": {},
   "outputs": [],
   "source": [
    "# BC, Q1, B1\n",
    "s_test = [12.4387475, 6.8607475, 5.3, 7.3207475]\n",
    "famdata = pymodels.si.getfamily_data(acc)\n",
    "\n",
    "hp, hn, ind = tousfunc.histgms(acc, s_test, 50000, tousan.accep, 1e-4, True)"
   ]
  },
  {
   "cell_type": "code",
   "execution_count": 13,
   "metadata": {},
   "outputs": [],
   "source": [
    "# plt.figure()\n",
    "# plt.hist(hp[2], bins=200, density=True)\n",
    "# plt.hist(hn[2], bins=200, density=True)\n",
    "# plt.show()"
   ]
  },
  {
   "cell_type": "code",
   "execution_count": 11,
   "metadata": {},
   "outputs": [],
   "source": [
    "fam_data = pymodels.si.get_family_data(acc)"
   ]
  },
  {
   "cell_type": "code",
   "execution_count": 12,
   "metadata": {},
   "outputs": [
    {
     "data": {
      "text/plain": [
       "6550"
      ]
     },
     "execution_count": 12,
     "metadata": {},
     "output_type": "execute_result"
    }
   ],
   "source": [
    "envelopes = pyaccel.optics.calc_beamenvelope(acc)\n",
    "len(envelopes)"
   ]
  },
  {
   "cell_type": "code",
   "execution_count": 12,
   "metadata": {},
   "outputs": [],
   "source": [
    "# tousan.accep"
   ]
  },
  {
   "cell_type": "code",
   "execution_count": 19,
   "metadata": {},
   "outputs": [],
   "source": [
    "tousan.plot_normtousd(s_test)"
   ]
  },
  {
   "cell_type": "code",
   "execution_count": 17,
   "metadata": {},
   "outputs": [
    {
     "data": {
      "text/plain": [
       "array([  74, 1238, 1374, 2538, 2672, 3846, 3982, 5154, 5297, 6470])"
      ]
     },
     "execution_count": 17,
     "metadata": {},
     "output_type": "execute_result"
    }
   ],
   "source": [
    "np.intp(pyaccel.lattice.find_indices(acc, 'fam_name', 'SFA1'))"
   ]
  }
 ],
 "metadata": {
  "kernelspec": {
   "display_name": "sirius",
   "language": "python",
   "name": "python3"
  },
  "language_info": {
   "codemirror_mode": {
    "name": "ipython",
    "version": 3
   },
   "file_extension": ".py",
   "mimetype": "text/x-python",
   "name": "python",
   "nbconvert_exporter": "python",
   "pygments_lexer": "ipython3",
   "version": "3.9.2"
  },
  "orig_nbformat": 4
 },
 "nbformat": 4,
 "nbformat_minor": 2
}
