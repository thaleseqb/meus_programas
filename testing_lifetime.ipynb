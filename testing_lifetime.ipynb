{
 "cells": [
  {
   "cell_type": "code",
   "execution_count": 17,
   "metadata": {},
   "outputs": [],
   "source": [
    "import pyaccel\n",
    "import pymodels\n",
    "import numpy as np\n",
    "import matplotlib.pyplot as plt\n",
    "import scipy.integrate as scyint\n",
    "import pandas as pd\n",
    "from mathphys import constants\n",
    "from mathphys.functions import save_pickle, load_pickle\n",
    "from mathphys.beam_optics import beam_rigidity"
   ]
  },
  {
   "cell_type": "code",
   "execution_count": 2,
   "metadata": {},
   "outputs": [],
   "source": [
    "import touschek_pack.functions as tousfunc"
   ]
  },
  {
   "cell_type": "code",
   "execution_count": 3,
   "metadata": {},
   "outputs": [],
   "source": [
    "import touschek_pack.Classes as tousclass"
   ]
  },
  {
   "cell_type": "code",
   "execution_count": 4,
   "metadata": {},
   "outputs": [],
   "source": [
    "from itertools import groupby"
   ]
  },
  {
   "cell_type": "code",
   "execution_count": 5,
   "metadata": {},
   "outputs": [],
   "source": [
    "# This function will probably will be in my repositories\n",
    "# I dont know if I will use it again, but it seems to me that it could be uselfull in some point\n",
    "\n",
    "def extract_delt(groups, deltas):\n",
    "    c = 0\n",
    "    big_list = []\n",
    "    for lists in groups:\n",
    "        lil_list = []\n",
    "        for _ in lists:\n",
    "            lil_list.append(c)\n",
    "            c+=1\n",
    "            \n",
    "        big_list.append(lil_list)\n",
    "    \n",
    "    sep_deltas = []\n",
    "    comp_l = []\n",
    "\n",
    "    for iten in big_list:\n",
    "        sep_deltas.append(deltas[iten])\n",
    "        comp_l.append(len(iten))\n",
    "\n",
    "\n",
    "    return sep_deltas, comp_l"
   ]
  },
  {
   "cell_type": "code",
   "execution_count": 6,
   "metadata": {},
   "outputs": [],
   "source": [
    "acc = pymodels.si.create_accelerator()\n",
    "acc = pymodels.si.fitted_models.vertical_dispersion_and_coupling(acc)\n",
    "\n",
    "\n",
    "tousan = tousclass.Tous_analysis(acc)"
   ]
  },
  {
   "cell_type": "code",
   "execution_count": 7,
   "metadata": {},
   "outputs": [],
   "source": [
    "spos = pyaccel.lattice.find_spos(acc, indices='open')\n",
    "\n",
    "s = [spos[1046]]\n",
    "\n",
    "res, fp, dp = tousan.fast_aquisition(s, 'pos')"
   ]
  },
  {
   "cell_type": "code",
   "execution_count": null,
   "metadata": {},
   "outputs": [],
   "source": [
    "acc = pymodels.si.create_accelerator()\n",
    "acc = pymodels.si.fitted_models.vertical_dispersion_and_coupling(acc)\n",
    "\n",
    "tousan = tousclass.Tous_analysis(acc)"
   ]
  },
  {
   "cell_type": "code",
   "execution_count": null,
   "metadata": {},
   "outputs": [],
   "source": [
    "# lembre-se que queremos contruir uma função que transforme dados que eu já possuo em tabelas\n",
    "# uma biblioteca bastante util para isso seria a bib pandas\n",
    "# vamos tentar usar ela para nossos calculos\n",
    "\n",
    "s = [spos[1046]]\n",
    "\n",
    "ress = tousan.fast_aquisition(s, 'pos')"
   ]
  },
  {
   "cell_type": "code",
   "execution_count": null,
   "metadata": {},
   "outputs": [],
   "source": [
    "res, fp, dp = ress"
   ]
  },
  {
   "cell_type": "code",
   "execution_count": 8,
   "metadata": {},
   "outputs": [],
   "source": [
    "# para este caso específico a posição analisada é spos[1046], ou seja, o indice em que a simulação tracking começa é em 1046\n",
    "# a para este valor teremos então diversas posições em que o eletron é perdido e a partir disso eu vou ter organizar meu pensamento\n",
    "\n",
    "lostinds, deltas = np.zeros(len(res)), np.zeros(len(res))\n",
    "for idx,iten in enumerate(res):\n",
    "    tloss, ellost, delta = iten\n",
    "    lostinds[idx] = ellost\n",
    "    deltas[idx] = delta # alguns elétrons possuem desvio de energia abaixo da aceitancia e acabam não sendo perdidos\n",
    "\n",
    "lostinds = np.intp(lostinds)\n",
    "\n",
    "# deltas são os desvios de energia perdidos pelo tracking\n"
   ]
  },
  {
   "cell_type": "code",
   "execution_count": 9,
   "metadata": {},
   "outputs": [],
   "source": [
    "data = pd.DataFrame({'lost_pos_by_tracking': lostinds}) # create the dataframe that is obtained by tracking\n",
    "lost_pos_column = (data.groupby('lost_pos_by_tracking').groups).keys()\n",
    "data = pd.DataFrame({'lost_pos_by_tracking':lost_pos_column}) # this step agroups the lost_positions\n",
    "\n",
    "fact = 0.03\n",
    "step = int((deltas[0]+deltas[-1])/fact)\n",
    "itv_track = np.linspace(deltas[0], deltas[-1], step) # method learned by fac repositories\n",
    "\n",
    "\n",
    "itv_delta = []\n",
    "for current, next_iten in zip(itv_track, itv_track[1:]):\n",
    "    data['{:.2f} % < delta < {:.2f} %'.format(current*1e2, next_iten*1e2)] = np.zeros(len(list(lost_pos_column))) # this step creates new columns in the dataframe and fill with zeros\n",
    "    itv_delta.append((current, next_iten))\n",
    "    # Next step must calculate each matrix element from the dataframe\n",
    "\n",
    "var = list(data.index) \n",
    "# quando as duas variáveis são iguais isso acab resultando em um erro então estou colocando essa condição.\n",
    "if var == lost_pos_column:\n",
    "    pass\n",
    "else:\n",
    "    data = data.set_index('lost_pos_by_tracking')\n",
    "\n",
    "for idx, lost_idx in enumerate(lostinds): # essas duas estruturas de repetição são responsáveis por calcular \n",
    "    # o percentual dos eletrons que possuem um determinado desvio de energia e se perdem em um intervalo de desvio de energia específico\n",
    "    delta = deltas[idx]\n",
    "    for j, interval in enumerate(itv_delta):\n",
    "        if j == 0:\n",
    "            if interval[0]<= delta <= interval[1]:\n",
    "                data.loc[lost_idx, '{:.2f} % < delta < {:.2f} %'.format(interval[0]*1e2, interval[1]*1e2)] += 1\n",
    "        else:\n",
    "            if interval[0]< delta <= interval[1]:\n",
    "                data.loc[lost_idx, '{:.2f} % < delta < {:.2f} %'.format(interval[0]*1e2, interval[1]*1e2)] += 1\n",
    "\n",
    "data = data / len(deltas)"
   ]
  },
  {
   "cell_type": "code",
   "execution_count": 36,
   "metadata": {},
   "outputs": [],
   "source": [
    "if data.values.sum() == 1:\n",
    "    pass\n",
    "else:\n",
    "    data = data/len(deltas)"
   ]
  },
  {
   "cell_type": "code",
   "execution_count": 37,
   "metadata": {},
   "outputs": [
    {
     "data": {
      "text/html": [
       "<div>\n",
       "<style scoped>\n",
       "    .dataframe tbody tr th:only-of-type {\n",
       "        vertical-align: middle;\n",
       "    }\n",
       "\n",
       "    .dataframe tbody tr th {\n",
       "        vertical-align: top;\n",
       "    }\n",
       "\n",
       "    .dataframe thead th {\n",
       "        text-align: right;\n",
       "    }\n",
       "</style>\n",
       "<table border=\"1\" class=\"dataframe\">\n",
       "  <thead>\n",
       "    <tr style=\"text-align: right;\">\n",
       "      <th></th>\n",
       "      <th>2.91 % &lt; delta &lt; 5.38 %</th>\n",
       "      <th>5.38 % &lt; delta &lt; 7.86 %</th>\n",
       "      <th>7.86 % &lt; delta &lt; 10.33 %</th>\n",
       "      <th>10.33 % &lt; delta &lt; 12.80 %</th>\n",
       "      <th>12.80 % &lt; delta &lt; 15.27 %</th>\n",
       "    </tr>\n",
       "    <tr>\n",
       "      <th>lost_pos_by_tracking</th>\n",
       "      <th></th>\n",
       "      <th></th>\n",
       "      <th></th>\n",
       "      <th></th>\n",
       "      <th></th>\n",
       "    </tr>\n",
       "  </thead>\n",
       "  <tbody>\n",
       "    <tr>\n",
       "      <th>1109</th>\n",
       "      <td>0.000000</td>\n",
       "      <td>0.000000</td>\n",
       "      <td>0.000000</td>\n",
       "      <td>0.000000</td>\n",
       "      <td>0.148148</td>\n",
       "    </tr>\n",
       "    <tr>\n",
       "      <th>1110</th>\n",
       "      <td>0.000000</td>\n",
       "      <td>0.000000</td>\n",
       "      <td>0.000000</td>\n",
       "      <td>0.129630</td>\n",
       "      <td>0.052469</td>\n",
       "    </tr>\n",
       "    <tr>\n",
       "      <th>1111</th>\n",
       "      <td>0.000000</td>\n",
       "      <td>0.000000</td>\n",
       "      <td>0.027778</td>\n",
       "      <td>0.070988</td>\n",
       "      <td>0.000000</td>\n",
       "    </tr>\n",
       "    <tr>\n",
       "      <th>1112</th>\n",
       "      <td>0.000000</td>\n",
       "      <td>0.000000</td>\n",
       "      <td>0.040123</td>\n",
       "      <td>0.000000</td>\n",
       "      <td>0.000000</td>\n",
       "    </tr>\n",
       "    <tr>\n",
       "      <th>1113</th>\n",
       "      <td>0.000000</td>\n",
       "      <td>0.000000</td>\n",
       "      <td>0.006173</td>\n",
       "      <td>0.000000</td>\n",
       "      <td>0.000000</td>\n",
       "    </tr>\n",
       "    <tr>\n",
       "      <th>1234</th>\n",
       "      <td>0.000000</td>\n",
       "      <td>0.000000</td>\n",
       "      <td>0.083333</td>\n",
       "      <td>0.000000</td>\n",
       "      <td>0.000000</td>\n",
       "    </tr>\n",
       "    <tr>\n",
       "      <th>1235</th>\n",
       "      <td>0.000000</td>\n",
       "      <td>0.055556</td>\n",
       "      <td>0.040123</td>\n",
       "      <td>0.000000</td>\n",
       "      <td>0.000000</td>\n",
       "    </tr>\n",
       "    <tr>\n",
       "      <th>1236</th>\n",
       "      <td>0.000000</td>\n",
       "      <td>0.040123</td>\n",
       "      <td>0.000000</td>\n",
       "      <td>0.000000</td>\n",
       "      <td>0.000000</td>\n",
       "    </tr>\n",
       "    <tr>\n",
       "      <th>1293</th>\n",
       "      <td>0.003086</td>\n",
       "      <td>0.000000</td>\n",
       "      <td>0.000000</td>\n",
       "      <td>0.000000</td>\n",
       "      <td>0.000000</td>\n",
       "    </tr>\n",
       "    <tr>\n",
       "      <th>1294</th>\n",
       "      <td>0.003086</td>\n",
       "      <td>0.000000</td>\n",
       "      <td>0.000000</td>\n",
       "      <td>0.000000</td>\n",
       "      <td>0.000000</td>\n",
       "    </tr>\n",
       "    <tr>\n",
       "      <th>1317</th>\n",
       "      <td>0.000000</td>\n",
       "      <td>0.006173</td>\n",
       "      <td>0.000000</td>\n",
       "      <td>0.000000</td>\n",
       "      <td>0.000000</td>\n",
       "    </tr>\n",
       "    <tr>\n",
       "      <th>1938</th>\n",
       "      <td>0.000000</td>\n",
       "      <td>0.083333</td>\n",
       "      <td>0.000000</td>\n",
       "      <td>0.000000</td>\n",
       "      <td>0.000000</td>\n",
       "    </tr>\n",
       "    <tr>\n",
       "      <th>1940</th>\n",
       "      <td>0.003086</td>\n",
       "      <td>0.015432</td>\n",
       "      <td>0.000000</td>\n",
       "      <td>0.000000</td>\n",
       "      <td>0.000000</td>\n",
       "    </tr>\n",
       "    <tr>\n",
       "      <th>2208</th>\n",
       "      <td>0.009259</td>\n",
       "      <td>0.000000</td>\n",
       "      <td>0.000000</td>\n",
       "      <td>0.000000</td>\n",
       "      <td>0.000000</td>\n",
       "    </tr>\n",
       "    <tr>\n",
       "      <th>2209</th>\n",
       "      <td>0.052469</td>\n",
       "      <td>0.000000</td>\n",
       "      <td>0.000000</td>\n",
       "      <td>0.000000</td>\n",
       "      <td>0.000000</td>\n",
       "    </tr>\n",
       "    <tr>\n",
       "      <th>2210</th>\n",
       "      <td>0.021605</td>\n",
       "      <td>0.000000</td>\n",
       "      <td>0.000000</td>\n",
       "      <td>0.000000</td>\n",
       "      <td>0.000000</td>\n",
       "    </tr>\n",
       "    <tr>\n",
       "      <th>2261</th>\n",
       "      <td>0.015432</td>\n",
       "      <td>0.000000</td>\n",
       "      <td>0.000000</td>\n",
       "      <td>0.000000</td>\n",
       "      <td>0.000000</td>\n",
       "    </tr>\n",
       "    <tr>\n",
       "      <th>2262</th>\n",
       "      <td>0.018519</td>\n",
       "      <td>0.000000</td>\n",
       "      <td>0.000000</td>\n",
       "      <td>0.000000</td>\n",
       "      <td>0.000000</td>\n",
       "    </tr>\n",
       "    <tr>\n",
       "      <th>2264</th>\n",
       "      <td>0.021605</td>\n",
       "      <td>0.000000</td>\n",
       "      <td>0.000000</td>\n",
       "      <td>0.000000</td>\n",
       "      <td>0.000000</td>\n",
       "    </tr>\n",
       "    <tr>\n",
       "      <th>2594</th>\n",
       "      <td>0.009259</td>\n",
       "      <td>0.000000</td>\n",
       "      <td>0.000000</td>\n",
       "      <td>0.000000</td>\n",
       "      <td>0.000000</td>\n",
       "    </tr>\n",
       "    <tr>\n",
       "      <th>2595</th>\n",
       "      <td>0.003086</td>\n",
       "      <td>0.000000</td>\n",
       "      <td>0.000000</td>\n",
       "      <td>0.000000</td>\n",
       "      <td>0.000000</td>\n",
       "    </tr>\n",
       "    <tr>\n",
       "      <th>6467</th>\n",
       "      <td>0.003086</td>\n",
       "      <td>0.000000</td>\n",
       "      <td>0.000000</td>\n",
       "      <td>0.000000</td>\n",
       "      <td>0.000000</td>\n",
       "    </tr>\n",
       "    <tr>\n",
       "      <th>6468</th>\n",
       "      <td>0.009259</td>\n",
       "      <td>0.000000</td>\n",
       "      <td>0.000000</td>\n",
       "      <td>0.000000</td>\n",
       "      <td>0.000000</td>\n",
       "    </tr>\n",
       "    <tr>\n",
       "      <th>6520</th>\n",
       "      <td>0.009259</td>\n",
       "      <td>0.000000</td>\n",
       "      <td>0.000000</td>\n",
       "      <td>0.000000</td>\n",
       "      <td>0.000000</td>\n",
       "    </tr>\n",
       "    <tr>\n",
       "      <th>6522</th>\n",
       "      <td>0.003086</td>\n",
       "      <td>0.000000</td>\n",
       "      <td>0.000000</td>\n",
       "      <td>0.000000</td>\n",
       "      <td>0.000000</td>\n",
       "    </tr>\n",
       "    <tr>\n",
       "      <th>6524</th>\n",
       "      <td>0.006173</td>\n",
       "      <td>0.000000</td>\n",
       "      <td>0.000000</td>\n",
       "      <td>0.000000</td>\n",
       "      <td>0.000000</td>\n",
       "    </tr>\n",
       "    <tr>\n",
       "      <th>6525</th>\n",
       "      <td>0.003086</td>\n",
       "      <td>0.000000</td>\n",
       "      <td>0.000000</td>\n",
       "      <td>0.000000</td>\n",
       "      <td>0.000000</td>\n",
       "    </tr>\n",
       "    <tr>\n",
       "      <th>6526</th>\n",
       "      <td>0.006173</td>\n",
       "      <td>0.000000</td>\n",
       "      <td>0.000000</td>\n",
       "      <td>0.000000</td>\n",
       "      <td>0.000000</td>\n",
       "    </tr>\n",
       "  </tbody>\n",
       "</table>\n",
       "</div>"
      ],
      "text/plain": [
       "                      2.91 % < delta < 5.38 %  5.38 % < delta < 7.86 %  \\\n",
       "lost_pos_by_tracking                                                     \n",
       "1109                                 0.000000                 0.000000   \n",
       "1110                                 0.000000                 0.000000   \n",
       "1111                                 0.000000                 0.000000   \n",
       "1112                                 0.000000                 0.000000   \n",
       "1113                                 0.000000                 0.000000   \n",
       "1234                                 0.000000                 0.000000   \n",
       "1235                                 0.000000                 0.055556   \n",
       "1236                                 0.000000                 0.040123   \n",
       "1293                                 0.003086                 0.000000   \n",
       "1294                                 0.003086                 0.000000   \n",
       "1317                                 0.000000                 0.006173   \n",
       "1938                                 0.000000                 0.083333   \n",
       "1940                                 0.003086                 0.015432   \n",
       "2208                                 0.009259                 0.000000   \n",
       "2209                                 0.052469                 0.000000   \n",
       "2210                                 0.021605                 0.000000   \n",
       "2261                                 0.015432                 0.000000   \n",
       "2262                                 0.018519                 0.000000   \n",
       "2264                                 0.021605                 0.000000   \n",
       "2594                                 0.009259                 0.000000   \n",
       "2595                                 0.003086                 0.000000   \n",
       "6467                                 0.003086                 0.000000   \n",
       "6468                                 0.009259                 0.000000   \n",
       "6520                                 0.009259                 0.000000   \n",
       "6522                                 0.003086                 0.000000   \n",
       "6524                                 0.006173                 0.000000   \n",
       "6525                                 0.003086                 0.000000   \n",
       "6526                                 0.006173                 0.000000   \n",
       "\n",
       "                      7.86 % < delta < 10.33 %  10.33 % < delta < 12.80 %  \\\n",
       "lost_pos_by_tracking                                                        \n",
       "1109                                  0.000000                   0.000000   \n",
       "1110                                  0.000000                   0.129630   \n",
       "1111                                  0.027778                   0.070988   \n",
       "1112                                  0.040123                   0.000000   \n",
       "1113                                  0.006173                   0.000000   \n",
       "1234                                  0.083333                   0.000000   \n",
       "1235                                  0.040123                   0.000000   \n",
       "1236                                  0.000000                   0.000000   \n",
       "1293                                  0.000000                   0.000000   \n",
       "1294                                  0.000000                   0.000000   \n",
       "1317                                  0.000000                   0.000000   \n",
       "1938                                  0.000000                   0.000000   \n",
       "1940                                  0.000000                   0.000000   \n",
       "2208                                  0.000000                   0.000000   \n",
       "2209                                  0.000000                   0.000000   \n",
       "2210                                  0.000000                   0.000000   \n",
       "2261                                  0.000000                   0.000000   \n",
       "2262                                  0.000000                   0.000000   \n",
       "2264                                  0.000000                   0.000000   \n",
       "2594                                  0.000000                   0.000000   \n",
       "2595                                  0.000000                   0.000000   \n",
       "6467                                  0.000000                   0.000000   \n",
       "6468                                  0.000000                   0.000000   \n",
       "6520                                  0.000000                   0.000000   \n",
       "6522                                  0.000000                   0.000000   \n",
       "6524                                  0.000000                   0.000000   \n",
       "6525                                  0.000000                   0.000000   \n",
       "6526                                  0.000000                   0.000000   \n",
       "\n",
       "                      12.80 % < delta < 15.27 %  \n",
       "lost_pos_by_tracking                             \n",
       "1109                                   0.148148  \n",
       "1110                                   0.052469  \n",
       "1111                                   0.000000  \n",
       "1112                                   0.000000  \n",
       "1113                                   0.000000  \n",
       "1234                                   0.000000  \n",
       "1235                                   0.000000  \n",
       "1236                                   0.000000  \n",
       "1293                                   0.000000  \n",
       "1294                                   0.000000  \n",
       "1317                                   0.000000  \n",
       "1938                                   0.000000  \n",
       "1940                                   0.000000  \n",
       "2208                                   0.000000  \n",
       "2209                                   0.000000  \n",
       "2210                                   0.000000  \n",
       "2261                                   0.000000  \n",
       "2262                                   0.000000  \n",
       "2264                                   0.000000  \n",
       "2594                                   0.000000  \n",
       "2595                                   0.000000  \n",
       "6467                                   0.000000  \n",
       "6468                                   0.000000  \n",
       "6520                                   0.000000  \n",
       "6522                                   0.000000  \n",
       "6524                                   0.000000  \n",
       "6525                                   0.000000  \n",
       "6526                                   0.000000  "
      ]
     },
     "execution_count": 37,
     "metadata": {},
     "output_type": "execute_result"
    }
   ],
   "source": [
    "data"
   ]
  },
  {
   "cell_type": "code",
   "execution_count": 18,
   "metadata": {},
   "outputs": [],
   "source": [
    "cov = pyaccel.optics.beam_envelope.calc_beamenvelope(acc)\n",
    "radius = constants.electron_radius\n",
    "light_sp = constants.light_speed\n",
    "Np = 50000\n",
    "beta = beam_rigidity(energy=3)[2]\n",
    "g_fact = 1/np.sqrt(1-beta**2)\n"
   ]
  },
  {
   "cell_type": "code",
   "execution_count": 56,
   "metadata": {},
   "outputs": [
    {
     "name": "stderr",
     "output_type": "stream",
     "text": [
      "/tmp/ipykernel_577/1790557644.py:26: RuntimeWarning: overflow encountered in scalar multiply\n",
      "  tous_scatt_pos *= 1/ sig_z / taum\n"
     ]
    }
   ],
   "source": [
    "tous_scatt_pos = radius**2 * light_sp * Np\n",
    "tous_scatt_pos *= 1/8 /np.pi / g_fact**2\n",
    "\n",
    "\n",
    "twi,*_ = pyaccel.optics.calc_twiss(acc, indices='closed')\n",
    "etax = twi.etax\n",
    "etay = twi.etay\n",
    "\n",
    "ltime = pyaccel.lifetime.Lifetime(acc)\n",
    "fintp = ltime.touschek_data['touschek_coeffs']['f_int_p']\n",
    "fintp = fintp.squeeze()\n",
    "\n",
    "spos =  pyaccel.lattice.find_spos(acc, indices='closed')\n",
    "accep = pyaccel.optics.calc_touschek_energy_acceptance(acc)\n",
    "scalc, daccp, daccn = tousfunc.get_scaccep(acc, accep)\n",
    "\n",
    "\n",
    "tous_scatt_rate_s = []\n",
    "for idx,iten in enumerate(cov):\n",
    "    \n",
    "    index = np.argmin(np.abs(scalc-spos[idx]))\n",
    "    diag = np.diag(cov[idx])\n",
    "    sig_x, sig_y, sig_p, sig_z = diag[0], diag[2], diag[4], diag[5]\n",
    "    sqt = np.sqrt(sig_x**2 * sig_y**2 - sig_p**4 * etax**2 * etay**2)\n",
    "    taum  = beta**2 * daccp[index]**2\n",
    "    tous_scatt_pos *= 1/ sig_z / sqt / taum\n",
    "    tous_scatt_pos *= fintp[index]\n",
    "    tous_scatt_rate_s.append(tous_scatt_pos)"
   ]
  },
  {
   "cell_type": "code",
   "execution_count": 61,
   "metadata": {},
   "outputs": [
    {
     "data": {
      "text/plain": [
       "0.0019122327972218634"
      ]
     },
     "execution_count": 61,
     "metadata": {},
     "output_type": "execute_result"
    }
   ],
   "source": [
    "taum"
   ]
  },
  {
   "cell_type": "code",
   "execution_count": null,
   "metadata": {},
   "outputs": [],
   "source": [
    "accep = pyaccel.optics.calc_touschek_energy_acceptance(acc)\n",
    "\n",
    "scalc, daccp, daccn = tousfunc.get_scaccep(acc, accep)"
   ]
  },
  {
   "cell_type": "code",
   "execution_count": null,
   "metadata": {},
   "outputs": [],
   "source": [
    "b1 = ltime.touschek_data['touschek_coeffs']['b1']\n",
    "b2 = ltime.touschek_data['touschek_coeffs']['b2']\n",
    "\n"
   ]
  },
  {
   "cell_type": "code",
   "execution_count": null,
   "metadata": {},
   "outputs": [],
   "source": [
    "touschek_scattering_rate = []\n",
    "# for idx,iten in enumerate(daccp):\n",
    "#     touschek_scattering_rate.append(ltime.f_integral_simps(iten, b1[idx], b2[idx]))\n"
   ]
  },
  {
   "cell_type": "code",
   "execution_count": null,
   "metadata": {},
   "outputs": [],
   "source": [
    "test_acceptance = np.array([daccp[1],daccp[2], daccp[3]])\n",
    "\n"
   ]
  },
  {
   "cell_type": "code",
   "execution_count": null,
   "metadata": {},
   "outputs": [],
   "source": [
    "def f_function_arg(kappa, kappam, b1_, b2_):\n",
    "\n",
    "    tau = (np.tan(kappa)**2)[:, None]\n",
    "    taum = (np.tan(kappam)**2)[None, :]\n",
    "    ratio = tau/taum/(1+tau)\n",
    "    return ratio, tau, taum\n"
   ]
  },
  {
   "cell_type": "code",
   "execution_count": null,
   "metadata": {},
   "outputs": [],
   "source": [
    "import scipy.special as special"
   ]
  },
  {
   "cell_type": "code",
   "execution_count": null,
   "metadata": {},
   "outputs": [],
   "source": [
    "def f_function_arg_or(kappa, kappam, b1_, b2_):\n",
    "\n",
    "    tau = (np.tan(kappa)**2)[:, None]\n",
    "    taum = (np.tan(kappam)**2)[None, :]\n",
    "    ratio = tau/taum/(1+tau)\n",
    "    arg = (2*tau+1)**2 * (ratio - 1)/tau\n",
    "    arg += tau - np.sqrt(tau*taum*(1+tau))\n",
    "    arg -= (2+1/(2*tau))*np.log(ratio)\n",
    "    arg *= np.sqrt(1+tau)\n",
    "    bessel = np.exp(-(b1_-b2_)*tau)*special.i0e(b2_*tau)\n",
    "    return arg * bessel"
   ]
  },
  {
   "cell_type": "code",
   "execution_count": null,
   "metadata": {},
   "outputs": [],
   "source": [
    "npts = 300\n",
    "kappa = np.linspace(daccp, np.pi/2, npts+1)\n",
    "\n",
    "var = f_function_arg_or(kappa, daccp,b1,b2)\n"
   ]
  },
  {
   "cell_type": "code",
   "execution_count": null,
   "metadata": {},
   "outputs": [],
   "source": []
  },
  {
   "cell_type": "code",
   "execution_count": null,
   "metadata": {},
   "outputs": [],
   "source": [
    "tau.squeeze().transpose()"
   ]
  },
  {
   "cell_type": "code",
   "execution_count": null,
   "metadata": {},
   "outputs": [],
   "source": []
  },
  {
   "cell_type": "code",
   "execution_count": null,
   "metadata": {},
   "outputs": [],
   "source": [
    "matrix = np.array([[1,2,3],\n",
    "                   [0,2,3],\n",
    "                   [1,2,3]])\n",
    "matrix.shape\n",
    "\n",
    "matrix[1,0]\n",
    "\n"
   ]
  },
  {
   "cell_type": "code",
   "execution_count": null,
   "metadata": {},
   "outputs": [],
   "source": [
    "tau.squeeze().shape"
   ]
  },
  {
   "cell_type": "code",
   "execution_count": null,
   "metadata": {},
   "outputs": [],
   "source": [
    "plt.plot(dp,fp)"
   ]
  },
  {
   "cell_type": "code",
   "execution_count": 28,
   "metadata": {},
   "outputs": [
    {
     "data": {
      "text/plain": [
       "(True,\n",
       " (array([-0.04372908, -0.04372908, -0.04372908, ..., -0.04372908,\n",
       "         -0.04372908, -0.04372908]),\n",
       "  array([0.04372908, 0.04372908, 0.04372908, ..., 0.04372908, 0.04372908,\n",
       "         0.04372908])),\n",
       " (array([0.00000000e+00, 1.00036646e-01, 2.00073292e-01, ...,\n",
       "         5.18189827e+02, 5.18289863e+02, 5.18389900e+02]),\n",
       "  array([0.04372908, 0.04372908, 0.04372908, ..., 0.04372908, 0.04372908,\n",
       "         0.04372908]),\n",
       "  array([-0.04372908, -0.04372908, -0.04372908, ..., -0.04372908,\n",
       "         -0.04372908, -0.04372908])))"
      ]
     },
     "execution_count": 28,
     "metadata": {},
     "output_type": "execute_result"
    }
   ],
   "source": [
    "tousan.get_amps_idxs()"
   ]
  },
  {
   "cell_type": "code",
   "execution_count": null,
   "metadata": {},
   "outputs": [],
   "source": [
    "accep = pyaccel.optics.calc_touschek_energy_acceptance(acc)"
   ]
  },
  {
   "cell_type": "code",
   "execution_count": 29,
   "metadata": {},
   "outputs": [
    {
     "data": {
      "image/png": "[encoded data removed]",
      "text/plain": [
       "<Figure size 1000x500 with 3 Axes>"
      ]
     },
     "metadata": {},
     "output_type": "display_data"
    },
    {
     "name": "stderr",
     "output_type": "stream",
     "text": [
      "/home/thaleseqb/repos/pack_thales/thales_pack/touschek_pack/functions.py:221: UserWarning: Matplotlib is currently using module://matplotlib_inline.backend_inline, which is a non-GUI backend, so cannot show the figure.\n",
      "  fig.show()\n"
     ]
    }
   ],
   "source": [
    "tousan.plot_analysis_at_position([spos[1046]], 'pos', accep)"
   ]
  },
  {
   "cell_type": "code",
   "execution_count": null,
   "metadata": {},
   "outputs": [],
   "source": []
  }
 ],
 "metadata": {
  "kernelspec": {
   "display_name": "sirius",
   "language": "python",
   "name": "python3"
  },
  "language_info": {
   "codemirror_mode": {
    "name": "ipython",
    "version": 3
   },
   "file_extension": ".py",
   "mimetype": "text/x-python",
   "name": "python",
   "nbconvert_exporter": "python",
   "pygments_lexer": "ipython3",
   "version": "3.9.2"
  },
  "orig_nbformat": 4
 },
 "nbformat": 4,
 "nbformat_minor": 2
}
