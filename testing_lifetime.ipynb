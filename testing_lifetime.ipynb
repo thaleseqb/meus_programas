{
 "cells": [
  {
   "cell_type": "code",
   "execution_count": 1,
   "metadata": {},
   "outputs": [],
   "source": [
    "%matplotlib qt5\n",
    "import pyaccel\n",
    "import pymodels\n",
    "import numpy as np\n",
    "import matplotlib.pyplot as plt\n",
    "import scipy.integrate as scyint\n",
    "import pandas as pd\n",
    "from mathphys import constants\n",
    "from mathphys.functions import save_pickle, load_pickle\n",
    "from mathphys.beam_optics import beam_rigidity"
   ]
  },
  {
   "cell_type": "code",
   "execution_count": 2,
   "metadata": {},
   "outputs": [],
   "source": [
    "import touschek_pack.functions as tousfunc"
   ]
  },
  {
   "cell_type": "code",
   "execution_count": 3,
   "metadata": {},
   "outputs": [],
   "source": [
    "import touschek_pack.Classes as tousclass"
   ]
  },
  {
   "cell_type": "code",
   "execution_count": 45,
   "metadata": {},
   "outputs": [],
   "source": [
    "from IPython.display import display, Latex"
   ]
  },
  {
   "cell_type": "code",
   "execution_count": 4,
   "metadata": {},
   "outputs": [],
   "source": [
    "# eu preciso lembrar de depois acrescentar uma função que faça o trakcing nao tornando explicito a diferenciação entre desvios de energia \n",
    "# positivos e negativos para contabilizar de maneira correta a taxa de espalhamento touschek porque na biblioteca lifetime a taxa de espalhamento\n",
    "# calculada esta implementada com base nos espalhamentos tanto negativos como positivos"
   ]
  },
  {
   "cell_type": "code",
   "execution_count": 5,
   "metadata": {},
   "outputs": [],
   "source": [
    "# This function will probably will be in my repositories\n",
    "# I dont know if I will use it again, but it seems to me that it could be uselfull in some point\n",
    "\n",
    "def extract_delt(groups, deltas):\n",
    "    c = 0\n",
    "    big_list = []\n",
    "    for lists in groups:\n",
    "        lil_list = []\n",
    "        for _ in lists:\n",
    "            lil_list.append(c)\n",
    "            c+=1\n",
    "            \n",
    "        big_list.append(lil_list)\n",
    "    \n",
    "    sep_deltas = []\n",
    "    comp_l = []\n",
    "\n",
    "    for iten in big_list:\n",
    "        sep_deltas.append(deltas[iten])\n",
    "        comp_l.append(len(iten))\n",
    "\n",
    "\n",
    "    return sep_deltas, comp_l"
   ]
  },
  {
   "cell_type": "code",
   "execution_count": 6,
   "metadata": {},
   "outputs": [],
   "source": [
    "acc = pymodels.si.create_accelerator()\n",
    "acc = pymodels.si.fitted_models.vertical_dispersion_and_coupling(acc)\n",
    "\n",
    "tousan = tousclass.Tous_analysis(acc)"
   ]
  },
  {
   "cell_type": "code",
   "execution_count": 7,
   "metadata": {},
   "outputs": [],
   "source": [
    "# lembre-se que queremos contruir uma função que transforme dados que eu já possuo em tabelas\n",
    "# uma biblioteca bastante util para isso seria a bib pandas\n",
    "# vamos tentar usar ela para nossos calculos\n"
   ]
  },
  {
   "cell_type": "code",
   "execution_count": 226,
   "metadata": {},
   "outputs": [],
   "source": [
    "spos = pyaccel.lattice.find_spos(acc, indices='closed')\n",
    "s = np.round([spos[1046]], 2)\n",
    "\n",
    "ress = tousan.fast_aquisition(s, 'pos')\n",
    "res, fp, dp = ress\n",
    "\n",
    "# para este caso específico a posição analisada é spos[1046], ou seja, o indice em que a simulação tracking começa é em 1046\n",
    "# a para este valor teremos então diversas posições em que o eletron é perdido e a partir disso eu vou ter organizar meu pensamento\n",
    "\n",
    "lostinds, deltas = np.zeros(len(res)), np.zeros(len(res))\n",
    "for idx,iten in enumerate(res):\n",
    "    tloss, ellost, delta = iten\n",
    "    lostinds[idx] = ellost\n",
    "    deltas[idx] = delta # alguns elétrons possuem desvio de energia abaixo da aceitancia e acabam não sendo perdidos\n",
    "\n",
    "lostinds = np.intp(lostinds)\n",
    "\n",
    "# deltas são os desvios de energia perdidos pelo tracking\n",
    "lost_positions = spos[lostinds]\n",
    "lost_positions = np.round(lost_positions, 2)"
   ]
  },
  {
   "cell_type": "code",
   "execution_count": 268,
   "metadata": {},
   "outputs": [],
   "source": [
    "data = pd.DataFrame({'lost_pos_by_tracking': lost_positions}) # create the dataframe that is obtained by tracking\n"
   ]
  },
  {
   "cell_type": "code",
   "execution_count": 269,
   "metadata": {},
   "outputs": [],
   "source": [
    "lost_pos_column = (data.groupby('lost_pos_by_tracking').groups).keys()\n",
    "data = pd.DataFrame({'lost_pos_by_tracking':lost_pos_column}) # this step agroups the lost_positions"
   ]
  },
  {
   "cell_type": "code",
   "execution_count": 270,
   "metadata": {},
   "outputs": [],
   "source": [
    "\n",
    "fact = 0.03\n",
    "step = int((deltas[0]+deltas[-1])/fact)\n",
    "itv_track = np.linspace(deltas[0], deltas[-1], step) # method learned by fac repositories\n",
    "\n",
    "# scat_lost_df = pd.DataFrame(f'{s}':) # dataframe will contain the scattered positions and the lost positions after scattering\n",
    "\n",
    "itv_delta = []\n",
    "for current, next_iten in zip(itv_track, itv_track[1:]):\n",
    "    data['{:.2f} % < delta < {:.2f} %'.format(current*1e2, next_iten*1e2)] = np.zeros(len(list(lost_pos_column))) # this step creates new columns in the dataframe and fill with zeros\n",
    "    itv_delta.append((current, next_iten))\n",
    "    # Next step must calculate each matrix element from the dataframe\n",
    "\n",
    "var = list(data.index) \n",
    "# quando as duas variáveis são iguais isso acab resultando em um erro então estou colocando essa condição.\n",
    "if var == lost_pos_column:\n",
    "    pass\n",
    "else:\n",
    "    data = data.set_index('lost_pos_by_tracking')\n",
    "\n",
    "\n",
    "for idx, lost_pos in enumerate(lost_positions): # essas duas estruturas de repetição são responsáveis por calcular \n",
    "    # o percentual dos eletrons que possuem um determinado desvio de energia e se perdem em um intervalo de desvio de energia específico\n",
    "    delta = deltas[idx]\n",
    "    lps = []\n",
    "    for j, interval in enumerate(itv_delta):\n",
    "        if j == 0:\n",
    "            if interval[0]<= delta <= interval[1]:\n",
    "                data.loc[lost_pos, '{:.2f} % < delta < {:.2f} %'.format(interval[0]*1e2, interval[1]*1e2)] += 1\n",
    "        else:\n",
    "            if interval[0]< delta <= interval[1]:\n",
    "                data.loc[lost_pos, '{:.2f} % < delta < {:.2f} %'.format(interval[0]*1e2, interval[1]*1e2)] += 1\n",
    "\n",
    "data = data / len(deltas)"
   ]
  },
  {
   "cell_type": "code",
   "execution_count": 237,
   "metadata": {},
   "outputs": [
    {
     "data": {
      "text/html": [
       "<div>\n",
       "<style scoped>\n",
       "    .dataframe tbody tr th:only-of-type {\n",
       "        vertical-align: middle;\n",
       "    }\n",
       "\n",
       "    .dataframe tbody tr th {\n",
       "        vertical-align: top;\n",
       "    }\n",
       "\n",
       "    .dataframe thead th {\n",
       "        text-align: right;\n",
       "    }\n",
       "</style>\n",
       "<table border=\"1\" class=\"dataframe\">\n",
       "  <thead>\n",
       "    <tr style=\"text-align: right;\">\n",
       "      <th></th>\n",
       "      <th>2.91 % &lt; delta &lt; 5.38 %</th>\n",
       "      <th>5.38 % &lt; delta &lt; 7.86 %</th>\n",
       "      <th>7.86 % &lt; delta &lt; 10.33 %</th>\n",
       "      <th>10.33 % &lt; delta &lt; 12.80 %</th>\n",
       "      <th>12.80 % &lt; delta &lt; 15.27 %</th>\n",
       "    </tr>\n",
       "    <tr>\n",
       "      <th>lost_pos_by_tracking</th>\n",
       "      <th></th>\n",
       "      <th></th>\n",
       "      <th></th>\n",
       "      <th></th>\n",
       "      <th></th>\n",
       "    </tr>\n",
       "  </thead>\n",
       "  <tbody>\n",
       "    <tr>\n",
       "      <th>88.01</th>\n",
       "      <td>0.000000</td>\n",
       "      <td>0.000000</td>\n",
       "      <td>0.000000</td>\n",
       "      <td>0.000000</td>\n",
       "      <td>0.148148</td>\n",
       "    </tr>\n",
       "    <tr>\n",
       "      <th>88.16</th>\n",
       "      <td>0.000000</td>\n",
       "      <td>0.000000</td>\n",
       "      <td>0.000000</td>\n",
       "      <td>0.129630</td>\n",
       "      <td>0.052469</td>\n",
       "    </tr>\n",
       "    <tr>\n",
       "      <th>88.33</th>\n",
       "      <td>0.000000</td>\n",
       "      <td>0.000000</td>\n",
       "      <td>0.027778</td>\n",
       "      <td>0.070988</td>\n",
       "      <td>0.000000</td>\n",
       "    </tr>\n",
       "    <tr>\n",
       "      <th>88.53</th>\n",
       "      <td>0.000000</td>\n",
       "      <td>0.000000</td>\n",
       "      <td>0.040123</td>\n",
       "      <td>0.000000</td>\n",
       "      <td>0.000000</td>\n",
       "    </tr>\n",
       "    <tr>\n",
       "      <th>88.76</th>\n",
       "      <td>0.000000</td>\n",
       "      <td>0.000000</td>\n",
       "      <td>0.006173</td>\n",
       "      <td>0.000000</td>\n",
       "      <td>0.000000</td>\n",
       "    </tr>\n",
       "    <tr>\n",
       "      <th>95.46</th>\n",
       "      <td>0.000000</td>\n",
       "      <td>0.000000</td>\n",
       "      <td>0.083333</td>\n",
       "      <td>0.000000</td>\n",
       "      <td>0.000000</td>\n",
       "    </tr>\n",
       "    <tr>\n",
       "      <th>95.61</th>\n",
       "      <td>0.000000</td>\n",
       "      <td>0.055556</td>\n",
       "      <td>0.040123</td>\n",
       "      <td>0.000000</td>\n",
       "      <td>0.000000</td>\n",
       "    </tr>\n",
       "    <tr>\n",
       "      <th>95.78</th>\n",
       "      <td>0.000000</td>\n",
       "      <td>0.040123</td>\n",
       "      <td>0.000000</td>\n",
       "      <td>0.000000</td>\n",
       "      <td>0.000000</td>\n",
       "    </tr>\n",
       "    <tr>\n",
       "      <th>99.44</th>\n",
       "      <td>0.003086</td>\n",
       "      <td>0.000000</td>\n",
       "      <td>0.000000</td>\n",
       "      <td>0.000000</td>\n",
       "      <td>0.000000</td>\n",
       "    </tr>\n",
       "    <tr>\n",
       "      <th>99.53</th>\n",
       "      <td>0.003086</td>\n",
       "      <td>0.000000</td>\n",
       "      <td>0.000000</td>\n",
       "      <td>0.000000</td>\n",
       "      <td>0.000000</td>\n",
       "    </tr>\n",
       "    <tr>\n",
       "      <th>107.48</th>\n",
       "      <td>0.000000</td>\n",
       "      <td>0.006173</td>\n",
       "      <td>0.000000</td>\n",
       "      <td>0.000000</td>\n",
       "      <td>0.000000</td>\n",
       "    </tr>\n",
       "    <tr>\n",
       "      <th>151.12</th>\n",
       "      <td>0.000000</td>\n",
       "      <td>0.083333</td>\n",
       "      <td>0.000000</td>\n",
       "      <td>0.000000</td>\n",
       "      <td>0.000000</td>\n",
       "    </tr>\n",
       "    <tr>\n",
       "      <th>151.36</th>\n",
       "      <td>0.003086</td>\n",
       "      <td>0.015432</td>\n",
       "      <td>0.000000</td>\n",
       "      <td>0.000000</td>\n",
       "      <td>0.000000</td>\n",
       "    </tr>\n",
       "    <tr>\n",
       "      <th>173.22</th>\n",
       "      <td>0.009259</td>\n",
       "      <td>0.000000</td>\n",
       "      <td>0.000000</td>\n",
       "      <td>0.000000</td>\n",
       "      <td>0.000000</td>\n",
       "    </tr>\n",
       "    <tr>\n",
       "      <th>173.37</th>\n",
       "      <td>0.052469</td>\n",
       "      <td>0.000000</td>\n",
       "      <td>0.000000</td>\n",
       "      <td>0.000000</td>\n",
       "      <td>0.000000</td>\n",
       "    </tr>\n",
       "    <tr>\n",
       "      <th>173.54</th>\n",
       "      <td>0.021605</td>\n",
       "      <td>0.000000</td>\n",
       "      <td>0.000000</td>\n",
       "      <td>0.000000</td>\n",
       "      <td>0.000000</td>\n",
       "    </tr>\n",
       "    <tr>\n",
       "      <th>176.74</th>\n",
       "      <td>0.015432</td>\n",
       "      <td>0.000000</td>\n",
       "      <td>0.000000</td>\n",
       "      <td>0.000000</td>\n",
       "      <td>0.000000</td>\n",
       "    </tr>\n",
       "    <tr>\n",
       "      <th>176.89</th>\n",
       "      <td>0.018519</td>\n",
       "      <td>0.000000</td>\n",
       "      <td>0.000000</td>\n",
       "      <td>0.000000</td>\n",
       "      <td>0.000000</td>\n",
       "    </tr>\n",
       "    <tr>\n",
       "      <th>177.04</th>\n",
       "      <td>0.021605</td>\n",
       "      <td>0.000000</td>\n",
       "      <td>0.000000</td>\n",
       "      <td>0.000000</td>\n",
       "      <td>0.000000</td>\n",
       "    </tr>\n",
       "    <tr>\n",
       "      <th>203.20</th>\n",
       "      <td>0.009259</td>\n",
       "      <td>0.000000</td>\n",
       "      <td>0.000000</td>\n",
       "      <td>0.000000</td>\n",
       "      <td>0.000000</td>\n",
       "    </tr>\n",
       "    <tr>\n",
       "      <th>203.40</th>\n",
       "      <td>0.003086</td>\n",
       "      <td>0.000000</td>\n",
       "      <td>0.000000</td>\n",
       "      <td>0.000000</td>\n",
       "      <td>0.000000</td>\n",
       "    </tr>\n",
       "    <tr>\n",
       "      <th>510.32</th>\n",
       "      <td>0.003086</td>\n",
       "      <td>0.000000</td>\n",
       "      <td>0.000000</td>\n",
       "      <td>0.000000</td>\n",
       "      <td>0.000000</td>\n",
       "    </tr>\n",
       "    <tr>\n",
       "      <th>510.49</th>\n",
       "      <td>0.009259</td>\n",
       "      <td>0.000000</td>\n",
       "      <td>0.000000</td>\n",
       "      <td>0.000000</td>\n",
       "      <td>0.000000</td>\n",
       "    </tr>\n",
       "    <tr>\n",
       "      <th>513.85</th>\n",
       "      <td>0.009259</td>\n",
       "      <td>0.000000</td>\n",
       "      <td>0.000000</td>\n",
       "      <td>0.000000</td>\n",
       "      <td>0.000000</td>\n",
       "    </tr>\n",
       "    <tr>\n",
       "      <th>514.00</th>\n",
       "      <td>0.003086</td>\n",
       "      <td>0.000000</td>\n",
       "      <td>0.000000</td>\n",
       "      <td>0.000000</td>\n",
       "      <td>0.000000</td>\n",
       "    </tr>\n",
       "    <tr>\n",
       "      <th>514.07</th>\n",
       "      <td>0.006173</td>\n",
       "      <td>0.000000</td>\n",
       "      <td>0.000000</td>\n",
       "      <td>0.000000</td>\n",
       "      <td>0.000000</td>\n",
       "    </tr>\n",
       "    <tr>\n",
       "      <th>514.16</th>\n",
       "      <td>0.003086</td>\n",
       "      <td>0.000000</td>\n",
       "      <td>0.000000</td>\n",
       "      <td>0.000000</td>\n",
       "      <td>0.000000</td>\n",
       "    </tr>\n",
       "    <tr>\n",
       "      <th>514.24</th>\n",
       "      <td>0.006173</td>\n",
       "      <td>0.000000</td>\n",
       "      <td>0.000000</td>\n",
       "      <td>0.000000</td>\n",
       "      <td>0.000000</td>\n",
       "    </tr>\n",
       "  </tbody>\n",
       "</table>\n",
       "</div>"
      ],
      "text/plain": [
       "                      2.91 % < delta < 5.38 %  5.38 % < delta < 7.86 %  \\\n",
       "lost_pos_by_tracking                                                     \n",
       "88.01                                0.000000                 0.000000   \n",
       "88.16                                0.000000                 0.000000   \n",
       "88.33                                0.000000                 0.000000   \n",
       "88.53                                0.000000                 0.000000   \n",
       "88.76                                0.000000                 0.000000   \n",
       "95.46                                0.000000                 0.000000   \n",
       "95.61                                0.000000                 0.055556   \n",
       "95.78                                0.000000                 0.040123   \n",
       "99.44                                0.003086                 0.000000   \n",
       "99.53                                0.003086                 0.000000   \n",
       "107.48                               0.000000                 0.006173   \n",
       "151.12                               0.000000                 0.083333   \n",
       "151.36                               0.003086                 0.015432   \n",
       "173.22                               0.009259                 0.000000   \n",
       "173.37                               0.052469                 0.000000   \n",
       "173.54                               0.021605                 0.000000   \n",
       "176.74                               0.015432                 0.000000   \n",
       "176.89                               0.018519                 0.000000   \n",
       "177.04                               0.021605                 0.000000   \n",
       "203.20                               0.009259                 0.000000   \n",
       "203.40                               0.003086                 0.000000   \n",
       "510.32                               0.003086                 0.000000   \n",
       "510.49                               0.009259                 0.000000   \n",
       "513.85                               0.009259                 0.000000   \n",
       "514.00                               0.003086                 0.000000   \n",
       "514.07                               0.006173                 0.000000   \n",
       "514.16                               0.003086                 0.000000   \n",
       "514.24                               0.006173                 0.000000   \n",
       "\n",
       "                      7.86 % < delta < 10.33 %  10.33 % < delta < 12.80 %  \\\n",
       "lost_pos_by_tracking                                                        \n",
       "88.01                                 0.000000                   0.000000   \n",
       "88.16                                 0.000000                   0.129630   \n",
       "88.33                                 0.027778                   0.070988   \n",
       "88.53                                 0.040123                   0.000000   \n",
       "88.76                                 0.006173                   0.000000   \n",
       "95.46                                 0.083333                   0.000000   \n",
       "95.61                                 0.040123                   0.000000   \n",
       "95.78                                 0.000000                   0.000000   \n",
       "99.44                                 0.000000                   0.000000   \n",
       "99.53                                 0.000000                   0.000000   \n",
       "107.48                                0.000000                   0.000000   \n",
       "151.12                                0.000000                   0.000000   \n",
       "151.36                                0.000000                   0.000000   \n",
       "173.22                                0.000000                   0.000000   \n",
       "173.37                                0.000000                   0.000000   \n",
       "173.54                                0.000000                   0.000000   \n",
       "176.74                                0.000000                   0.000000   \n",
       "176.89                                0.000000                   0.000000   \n",
       "177.04                                0.000000                   0.000000   \n",
       "203.20                                0.000000                   0.000000   \n",
       "203.40                                0.000000                   0.000000   \n",
       "510.32                                0.000000                   0.000000   \n",
       "510.49                                0.000000                   0.000000   \n",
       "513.85                                0.000000                   0.000000   \n",
       "514.00                                0.000000                   0.000000   \n",
       "514.07                                0.000000                   0.000000   \n",
       "514.16                                0.000000                   0.000000   \n",
       "514.24                                0.000000                   0.000000   \n",
       "\n",
       "                      12.80 % < delta < 15.27 %  \n",
       "lost_pos_by_tracking                             \n",
       "88.01                                  0.148148  \n",
       "88.16                                  0.052469  \n",
       "88.33                                  0.000000  \n",
       "88.53                                  0.000000  \n",
       "88.76                                  0.000000  \n",
       "95.46                                  0.000000  \n",
       "95.61                                  0.000000  \n",
       "95.78                                  0.000000  \n",
       "99.44                                  0.000000  \n",
       "99.53                                  0.000000  \n",
       "107.48                                 0.000000  \n",
       "151.12                                 0.000000  \n",
       "151.36                                 0.000000  \n",
       "173.22                                 0.000000  \n",
       "173.37                                 0.000000  \n",
       "173.54                                 0.000000  \n",
       "176.74                                 0.000000  \n",
       "176.89                                 0.000000  \n",
       "177.04                                 0.000000  \n",
       "203.20                                 0.000000  \n",
       "203.40                                 0.000000  \n",
       "510.32                                 0.000000  \n",
       "510.49                                 0.000000  \n",
       "513.85                                 0.000000  \n",
       "514.00                                 0.000000  \n",
       "514.07                                 0.000000  \n",
       "514.16                                 0.000000  \n",
       "514.24                                 0.000000  "
      ]
     },
     "execution_count": 237,
     "metadata": {},
     "output_type": "execute_result"
    }
   ],
   "source": [
    "data"
   ]
  },
  {
   "cell_type": "code",
   "execution_count": 362,
   "metadata": {},
   "outputs": [],
   "source": [
    "dic = {}\n",
    "for coluna, serie_booleana in data.eq(0).items():\n",
    "    dic[coluna] = []\n",
    "    val = dic[coluna]\n",
    "    for indice, valor_booleano in serie_booleana.items():\n",
    "        if valor_booleano == False:\n",
    "            val.append(indice)\n"
   ]
  },
  {
   "cell_type": "code",
   "execution_count": 370,
   "metadata": {},
   "outputs": [
    {
     "data": {
      "text/plain": [
       "{'2.91 % < delta < 5.38 %': [99.44,\n",
       "  99.53,\n",
       "  151.36,\n",
       "  173.22,\n",
       "  173.37,\n",
       "  173.54,\n",
       "  176.74,\n",
       "  176.89,\n",
       "  177.04,\n",
       "  203.2,\n",
       "  203.4,\n",
       "  510.32,\n",
       "  510.49,\n",
       "  513.85,\n",
       "  514.0,\n",
       "  514.07,\n",
       "  514.16,\n",
       "  514.24],\n",
       " '5.38 % < delta < 7.86 %': [95.61, 95.78, 107.48, 151.12, 151.36],\n",
       " '7.86 % < delta < 10.33 %': [88.33, 88.53, 88.76, 95.46, 95.61],\n",
       " '10.33 % < delta < 12.80 %': [88.16, 88.33],\n",
       " '12.80 % < delta < 15.27 %': [88.01, 88.16]}"
      ]
     },
     "execution_count": 370,
     "metadata": {},
     "output_type": "execute_result"
    }
   ],
   "source": [
    "for iten in dic:\n",
    "    if iten in "
   ]
  },
  {
   "cell_type": "code",
   "execution_count": null,
   "metadata": {},
   "outputs": [],
   "source": [
    "ndf = scat_lost_df.set_index(lost_positions)\n",
    "\n",
    "ndf = ndf[~ndf.index.duplicated(keep='first')]\n",
    "\n",
    "dataf = ndf.transpose()"
   ]
  },
  {
   "cell_type": "code",
   "execution_count": 151,
   "metadata": {},
   "outputs": [
    {
     "data": {
      "text/plain": [
       "[84.29923250000009]    185\n",
       "Name: 88.33, dtype: int64"
      ]
     },
     "execution_count": 151,
     "metadata": {},
     "output_type": "execute_result"
    }
   ],
   "source": [
    "dataf.columns"
   ]
  },
  {
   "cell_type": "code",
   "execution_count": null,
   "metadata": {},
   "outputs": [],
   "source": [
    "if data.values.sum() == 1:\n",
    "    pass\n",
    "else:\n",
    "    data = data/len(deltas)"
   ]
  },
  {
   "cell_type": "code",
   "execution_count": 21,
   "metadata": {},
   "outputs": [],
   "source": [
    "ltime = pyaccel.lifetime.Lifetime(acc)\n",
    "tous_rate = ltime.touschek_data['rate']\n",
    "spos = pyaccel.lattice.find_spos(acc, indices='closed')\n",
    "\n",
    "npt = int((spos[-1]-spos[0])/0.1)\n",
    "\n",
    "\n",
    "scalc = np.linspace(spos[0], spos[-1], npt)\n",
    "rate_nom_lattice = np.interp(spos, scalc, tous_rate)\n"
   ]
  },
  {
   "cell_type": "code",
   "execution_count": 48,
   "metadata": {},
   "outputs": [],
   "source": [
    "df_ltime = pd.DataFrame({'rate':rate_nom_lattice})\n"
   ]
  },
  {
   "cell_type": "code",
   "execution_count": 49,
   "metadata": {},
   "outputs": [
    {
     "data": {
      "text/plain": [
       "array([  0.  ,   0.  ,   0.  , ..., 517.89, 518.39, 518.39])"
      ]
     },
     "execution_count": 49,
     "metadata": {},
     "output_type": "execute_result"
    }
   ],
   "source": [
    "ind = np.arange(len(df_ltime))\n",
    "df_index = spos[ind]\n",
    "\n",
    "def_df_index = np.round(df_index, 2)\n",
    "def_df_index"
   ]
  },
  {
   "cell_type": "code",
   "execution_count": 52,
   "metadata": {},
   "outputs": [],
   "source": [
    "ndf = df_ltime.set_index(def_df_index)"
   ]
  },
  {
   "cell_type": "code",
   "execution_count": 58,
   "metadata": {},
   "outputs": [
    {
     "data": {
      "text/plain": [
       "(6550, 5104)"
      ]
     },
     "execution_count": 58,
     "metadata": {},
     "output_type": "execute_result"
    }
   ],
   "source": [
    "len(ndf), len(ndf.drop_duplicates())"
   ]
  },
  {
   "cell_type": "code",
   "execution_count": 63,
   "metadata": {},
   "outputs": [
    {
     "data": {
      "text/plain": [
       "[<matplotlib.lines.Line2D at 0x7f6deaa54790>]"
      ]
     },
     "execution_count": 63,
     "metadata": {},
     "output_type": "execute_result"
    }
   ],
   "source": [
    "plt.figure()\n",
    "plt.plot(spos, rate_nom_lattice*1e7)"
   ]
  },
  {
   "cell_type": "code",
   "execution_count": null,
   "metadata": {},
   "outputs": [],
   "source": [
    "accep = pyaccel.optics.calc_touschek_energy_acceptance(acc)\n",
    "\n",
    "scalc, daccp, daccn = tousfunc.get_scaccep(acc, accep)"
   ]
  },
  {
   "cell_type": "code",
   "execution_count": null,
   "metadata": {},
   "outputs": [],
   "source": [
    "b1 = ltime.touschek_data['touschek_coeffs']['b1']\n",
    "b2 = ltime.touschek_data['touschek_coeffs']['b2']\n",
    "\n"
   ]
  },
  {
   "cell_type": "code",
   "execution_count": null,
   "metadata": {},
   "outputs": [],
   "source": [
    "touschek_scattering_rate = []\n",
    "# for idx,iten in enumerate(daccp):\n",
    "#     touschek_scattering_rate.append(ltime.f_integral_simps(iten, b1[idx], b2[idx]))\n"
   ]
  },
  {
   "cell_type": "code",
   "execution_count": null,
   "metadata": {},
   "outputs": [],
   "source": [
    "test_acceptance = np.array([daccp[1],daccp[2], daccp[3]])\n",
    "\n"
   ]
  },
  {
   "cell_type": "code",
   "execution_count": null,
   "metadata": {},
   "outputs": [],
   "source": [
    "def f_function_arg(kappa, kappam, b1_, b2_):\n",
    "\n",
    "    tau = (np.tan(kappa)**2)[:, None]\n",
    "    taum = (np.tan(kappam)**2)[None, :]\n",
    "    ratio = tau/taum/(1+tau)\n",
    "    return ratio, tau, taum\n"
   ]
  },
  {
   "cell_type": "code",
   "execution_count": null,
   "metadata": {},
   "outputs": [],
   "source": [
    "import scipy.special as special"
   ]
  },
  {
   "cell_type": "code",
   "execution_count": null,
   "metadata": {},
   "outputs": [],
   "source": [
    "def f_function_arg_or(kappa, kappam, b1_, b2_):\n",
    "\n",
    "    tau = (np.tan(kappa)**2)[:, None]\n",
    "    taum = (np.tan(kappam)**2)[None, :]\n",
    "    ratio = tau/taum/(1+tau)\n",
    "    arg = (2*tau+1)**2 * (ratio - 1)/tau\n",
    "    arg += tau - np.sqrt(tau*taum*(1+tau))\n",
    "    arg -= (2+1/(2*tau))*np.log(ratio)\n",
    "    arg *= np.sqrt(1+tau)\n",
    "    bessel = np.exp(-(b1_-b2_)*tau)*special.i0e(b2_*tau)\n",
    "    return arg * bessel"
   ]
  },
  {
   "cell_type": "code",
   "execution_count": null,
   "metadata": {},
   "outputs": [],
   "source": [
    "npts = 300\n",
    "kappa = np.linspace(daccp, np.pi/2, npts+1)\n",
    "\n",
    "var = f_function_arg_or(kappa, daccp,b1,b2)\n"
   ]
  },
  {
   "cell_type": "code",
   "execution_count": null,
   "metadata": {},
   "outputs": [],
   "source": []
  },
  {
   "cell_type": "code",
   "execution_count": null,
   "metadata": {},
   "outputs": [],
   "source": [
    "tau.squeeze().transpose()"
   ]
  },
  {
   "cell_type": "code",
   "execution_count": null,
   "metadata": {},
   "outputs": [],
   "source": []
  },
  {
   "cell_type": "code",
   "execution_count": null,
   "metadata": {},
   "outputs": [],
   "source": [
    "matrix = np.array([[1,2,3],\n",
    "                   [0,2,3],\n",
    "                   [1,2,3]])\n",
    "matrix.shape\n",
    "\n",
    "matrix[1,0]\n",
    "\n"
   ]
  },
  {
   "cell_type": "code",
   "execution_count": null,
   "metadata": {},
   "outputs": [],
   "source": [
    "tau.squeeze().shape"
   ]
  }
 ],
 "metadata": {
  "kernelspec": {
   "display_name": "sirius",
   "language": "python",
   "name": "python3"
  },
  "language_info": {
   "codemirror_mode": {
    "name": "ipython",
    "version": 3
   },
   "file_extension": ".py",
   "mimetype": "text/x-python",
   "name": "python",
   "nbconvert_exporter": "python",
   "pygments_lexer": "ipython3",
   "version": "3.9.2"
  },
  "orig_nbformat": 4
 },
 "nbformat": 4,
 "nbformat_minor": 2
}
