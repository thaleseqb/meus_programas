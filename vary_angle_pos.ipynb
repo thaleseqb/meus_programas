{
 "cells": [
  {
   "cell_type": "code",
   "execution_count": 2,
   "metadata": {},
   "outputs": [],
   "source": [
    "import pyaccel\n",
    "import pymodels\n",
    "import numpy as np\n",
    "import matplotlib.pyplot as plt\n",
    "from mathphys.functions import save_pickle, load_pickle\n",
    "\n",
    "import touschek_pack.functions as tousfunc\n"
   ]
  },
  {
   "cell_type": "code",
   "execution_count": null,
   "metadata": {},
   "outputs": [],
   "source": [
    "\n",
    "# para este trabalho vamos fazer tracking a partir do lnk\n",
    "\n",
    "# vamos então encontrar onde fica O NLK\n",
    "acc = pymodels.si.create_accelerator()\n",
    "acc = pymodels.si.fitted_models.vertical_dispersion_and_coupling(acc)\n",
    "\n",
    "\n",
    "# Lnk_index = pyaccel.lattice.find_indices(acc, 'LNK', 'index')\n",
    "dicty = pyaccel.lattice.find_dict(acc, 'fam_name')\n"
   ]
  },
  {
   "cell_type": "code",
   "execution_count": null,
   "metadata": {},
   "outputs": [],
   "source": [
    "\n",
    "\n",
    "# é bom lembrar também que os scrapers que eu estou interessado estão disponíveis no modelo como sendo SVVC e SHVC\n",
    "# designando set vertical caccum chamber and set horizontal vaccum chamber\n",
    "\n",
    "# defining the nlk position to track the electrons\n",
    "nlk_index = dicty['InjNLKckr']\n",
    "spos = pyaccel.lattice.find_spos(acc, indices='closed')\n",
    "\n",
    "s_nlk = float(spos[nlk_index])\n"
   ]
  },
  {
   "cell_type": "code",
   "execution_count": null,
   "metadata": {},
   "outputs": [],
   "source": [
    "\n",
    "# agora nesse estágio eu preciso fazer variar as posições dos \n",
    "tousfunc.track_eletrons()"
   ]
  }
 ],
 "metadata": {
  "kernelspec": {
   "display_name": "sirius",
   "language": "python",
   "name": "python3"
  },
  "language_info": {
   "codemirror_mode": {
    "name": "ipython",
    "version": 3
   },
   "file_extension": ".py",
   "mimetype": "text/x-python",
   "name": "python",
   "nbconvert_exporter": "python",
   "pygments_lexer": "ipython3",
   "version": "3.9.2"
  },
  "orig_nbformat": 4
 },
 "nbformat": 4,
 "nbformat_minor": 2
}
