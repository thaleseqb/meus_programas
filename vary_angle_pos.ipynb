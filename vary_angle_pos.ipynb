{
 "cells": [
  {
   "cell_type": "code",
   "execution_count": 34,
   "metadata": {},
   "outputs": [
    {
     "name": "stderr",
     "output_type": "stream",
     "text": [
      "Warning: Ignoring XDG_SESSION_TYPE=wayland on Gnome. Use QT_QPA_PLATFORM=wayland to run on Wayland anyway.\n"
     ]
    }
   ],
   "source": [
    "%matplotlib qt5"
   ]
  },
  {
   "cell_type": "code",
   "execution_count": null,
   "metadata": {},
   "outputs": [],
   "source": [
    "import pyaccel\n",
    "import pymodels\n",
    "import numpy as np\n",
    "import matplotlib.pyplot as plt\n",
    "from mathphys.functions import save_pickle, load_pickle\n",
    "\n",
    "import touschek_pack.functions as tousfunc\n",
    "import touschek_pack.Classes as tousclass\n",
    "import pyaccel.optics as pyop"
   ]
  },
  {
   "cell_type": "code",
   "execution_count": 104,
   "metadata": {},
   "outputs": [],
   "source": [
    "fitm = pymodels.si.create_accelerator()\n",
    "fitm = pymodels.si.fitted_models.vertical_dispersion_and_coupling(fitm)\n",
    "eqparams = pyaccel.optics.beam_envelope.EqParamsFromBeamEnvelope(fitm)\n",
    "\n",
    "# parameters to generate the beam\n",
    "h_emitt = eqparams.emit1\n",
    "v_emitt = h_emitt/100\n",
    "sigmae = eqparams.espread0\n",
    "bun_len = eqparams.bunlen\n",
    "\n",
    "# defining optcis\n",
    "twiss,*_ = pyop.calc_twiss(fitm, indices='closed')\n",
    "\n",
    "# defining the index \n",
    "dicty = pyaccel.lattice.find_dict(fitm, 'fam_name')\n",
    "nlk_index = dicty['InjNLKckr'][0] + 1\n",
    "spos = pyaccel.lattice.find_spos(fitm, indices='closed')\n",
    "\n",
    "# generating gaussian beam.\n",
    "bunch = pyaccel.tracking.generate_bunch(5000, envelope=None, emit1=h_emitt,\n",
    "                                emit2=v_emitt, sigmae= sigmae, sigmas=bun_len, optics=twiss[nlk_index])\n"
   ]
  },
  {
   "cell_type": "code",
   "execution_count": 141,
   "metadata": {},
   "outputs": [],
   "source": [
    "def track_mchn_stdy(acc, bunch, param, increment, index, nturn):\n",
    "\n",
    "    if 'x' in param:\n",
    "        bunch[0] += increment\n",
    "    elif 'y' in param:\n",
    "        bunch[2] += increment\n",
    "    elif 'xl' in param:\n",
    "        bunch[1] += increment\n",
    "    elif 'yl' in param:\n",
    "        bunch[3] += increment\n",
    "    \n",
    "    tracked = pyaccel.tracking.ring_pass(acc, particles=bunch,\n",
    "                                         nr_turns=nturn, turn_by_turn= True,\n",
    "                                         element_offset= index, parallel=True)\n",
    "    \n",
    "    part_out, lost_flag, turn_lost, index_lost, plane_lost = tracked\n",
    "\n",
    "    turnl_element = []\n",
    "\n",
    "    for i,iten in enumerate(turn_lost):\n",
    "        if iten == nturn and index_lost[i] == index: # ignora elétrons que não foram perdidos\n",
    "            pass\n",
    "        else:\n",
    "            turnl_element.append((iten, index_lost[i]))\n",
    "    \n",
    "    return turnl_element\n",
    "\n",
    "# ao passo que a função acima faz o tracking para um bunch a função abaixo varia automaticamente os parametros para obtermos um resultado mais automatizado e rápido\n",
    "\n",
    "def varying_incmnts(acc,bunch,par,rng, index, nturn):\n",
    "    trackf_lostpos = []\n",
    "    inc = np.linspace(0, 1e-1, rng)\n",
    "    for iten in inc:\n",
    "        \n",
    "        trackf_lostpos.append(track_mchn_stdy(acc, bunch, par, increment=iten, index=index, nturn=nturn))\n",
    "\n",
    "    return trackf_lostpos\n",
    "\n"
   ]
  },
  {
   "cell_type": "code",
   "execution_count": 142,
   "metadata": {},
   "outputs": [],
   "source": [
    "# verificando se houve uma redução das particulas que foram perdidas com a introdução da variação da altura da camara de vacuo\n",
    "\n",
    "tousan = tousclass.Tous_analysis(fitm)\n",
    "nturn = tousan.nturns\n",
    "probable_pickle = varying_incmnts(fitm, bunch, 'x', 50, nlk_index, nturn)\n"
   ]
  },
  {
   "cell_type": "code",
   "execution_count": 143,
   "metadata": {},
   "outputs": [],
   "source": [
    "# a unica coisa que eu estou pegando é a volta em que o eletron foi perdido e o indice em que ele também foi perdido então acaba que sobra isso para plotar mesmo\n",
    "\n",
    "def plot_tracked(acc,l_of_tples, idx, spos): # aqui vamos fazer o plot de apenas um resultado advindo do tracking, como entrada vai receber o trackf_lostpos\n",
    "    \n",
    "    if len(l_of_tples[idx]) == 0:\n",
    "        print(\"all the electrons survived\")\n",
    "        return\n",
    "\n",
    "    else:\n",
    "        nt_lost, index = np.zeros(len(l_of_tples[idx])), np.zeros(len(l_of_tples[idx]))\n",
    "\n",
    "        for j,iten in enumerate(l_of_tples[idx]):\n",
    "            nt_lostj, idx_lost = iten\n",
    "            nt_lost[j] = nt_lostj\n",
    "            index[j] = idx_lost\n",
    "        index = np.intp(index)\n",
    "\n",
    "    ind = np.arange(index.size)\n",
    "\n",
    "    plt.figure()\n",
    "    plt.scatter(spos[index],ind, s=1)\n",
    "    pyaccel.graphics.draw_lattice(acc, offset=0, height=100, gca=True)\n",
    "    plt.xlim(0, spos[index][-1])\n",
    "    # plt.plot(spos[np.intp(index)], nt_lost)\n",
    "    plt.show()\n",
    "\n",
    "    # pyaccel.graphics.draw_lattice(acc, offset=0, height=0, gca=True)\n",
    "\n",
    "    \n",
    "    return index\n"
   ]
  },
  {
   "cell_type": "code",
   "execution_count": 133,
   "metadata": {},
   "outputs": [],
   "source": [
    "idx = plot_tracked(fitm,probable_pickle, 1, spos)"
   ]
  },
  {
   "cell_type": "code",
   "execution_count": 116,
   "metadata": {},
   "outputs": [],
   "source": [
    "from apsuite.orbcorr import OrbitCorr"
   ]
  },
  {
   "cell_type": "code",
   "execution_count": 117,
   "metadata": {},
   "outputs": [],
   "source": [
    "oc = OrbitCorr(fitm, 'SI')"
   ]
  },
  {
   "cell_type": "code",
   "execution_count": 121,
   "metadata": {},
   "outputs": [
    {
     "data": {
      "text/plain": [
       "[<matplotlib.lines.Line2D at 0x7f10d6dd7490>]"
      ]
     },
     "execution_count": 121,
     "metadata": {},
     "output_type": "execute_result"
    }
   ],
   "source": [
    "plt.plot(oc.get_orbit())"
   ]
  },
  {
   "cell_type": "code",
   "execution_count": 139,
   "metadata": {},
   "outputs": [
    {
     "name": "stderr",
     "output_type": "stream",
     "text": [
      "/tmp/ipykernel_60315/1032548973.py:20: RuntimeWarning: More than 20 figures have been opened. Figures created through the pyplot interface (`matplotlib.pyplot.figure`) are retained until explicitly closed and may consume too much memory. (To control this warning, see the rcParam `figure.max_open_warning`). Consider using `matplotlib.pyplot.close()`.\n",
      "  plt.figure()\n"
     ]
    },
    {
     "ename": "KeyboardInterrupt",
     "evalue": "",
     "output_type": "error",
     "traceback": [
      "\u001b[0;31m---------------------------------------------------------------------------\u001b[0m",
      "\u001b[0;31mKeyboardInterrupt\u001b[0m                         Traceback (most recent call last)",
      "Cell \u001b[0;32mIn[139], line 2\u001b[0m\n\u001b[1;32m      1\u001b[0m \u001b[39mfor\u001b[39;00m i \u001b[39min\u001b[39;00m \u001b[39mrange\u001b[39m(\u001b[39m49\u001b[39m):\n\u001b[0;32m----> 2\u001b[0m     plot_tracked(fitm, probable_pickle, i, spos)\n",
      "Cell \u001b[0;32mIn[135], line 22\u001b[0m, in \u001b[0;36mplot_tracked\u001b[0;34m(acc, l_of_tples, idx, spos)\u001b[0m\n\u001b[1;32m     20\u001b[0m plt\u001b[39m.\u001b[39mfigure()\n\u001b[1;32m     21\u001b[0m plt\u001b[39m.\u001b[39mscatter(spos[index],ind, s\u001b[39m=\u001b[39m\u001b[39m1\u001b[39m)\n\u001b[0;32m---> 22\u001b[0m pyaccel\u001b[39m.\u001b[39;49mgraphics\u001b[39m.\u001b[39;49mdraw_lattice(acc, offset\u001b[39m=\u001b[39;49m\u001b[39m0\u001b[39;49m, height\u001b[39m=\u001b[39;49m\u001b[39m100\u001b[39;49m, gca\u001b[39m=\u001b[39;49m\u001b[39mTrue\u001b[39;49;00m)\n\u001b[1;32m     23\u001b[0m plt\u001b[39m.\u001b[39mxlim(\u001b[39m0\u001b[39m, spos[index][\u001b[39m-\u001b[39m\u001b[39m1\u001b[39m])\n\u001b[1;32m     24\u001b[0m \u001b[39m# plt.plot(spos[np.intp(index)], nt_lost)\u001b[39;00m\n",
      "File \u001b[0;32m~/repos/pyaccel/pyaccel/graphics.py:309\u001b[0m, in \u001b[0;36mdraw_lattice\u001b[0;34m(lattice, offset, height, draw_edges, family_data, family_mapping, colours, selection, symmetry, gca, is_interactive, show_label)\u001b[0m\n\u001b[1;32m    306\u001b[0m line\u001b[39m.\u001b[39mset_zorder(\u001b[39m0\u001b[39m)\n\u001b[1;32m    307\u001b[0m axis\u001b[39m.\u001b[39madd_line(line)\n\u001b[0;32m--> 309\u001b[0m drawer \u001b[39m=\u001b[39m _LatticeDrawer(\n\u001b[1;32m    310\u001b[0m     lattice, offset, height, draw_edges, family_data,\n\u001b[1;32m    311\u001b[0m     family_mapping, colours, show_label)\n\u001b[1;32m    313\u001b[0m \u001b[39mif\u001b[39;00m \u001b[39mnot\u001b[39;00m gca:\n\u001b[1;32m    314\u001b[0m     axis\u001b[39m.\u001b[39mset_xlim(\u001b[39m0\u001b[39m, lattice\u001b[39m.\u001b[39mlength)\n",
      "File \u001b[0;32m~/repos/pyaccel/pyaccel/graphics.py:405\u001b[0m, in \u001b[0;36m_LatticeDrawer.__init__\u001b[0;34m(self, lattice, offset, height, draw_edges, family_data, family_mapping, colours, show_label)\u001b[0m\n\u001b[1;32m    401\u001b[0m             \u001b[39mself\u001b[39m\u001b[39m.\u001b[39m_create_element_patch(lattice[i], pos[i], et)\n\u001b[1;32m    403\u001b[0m edgec \u001b[39m=\u001b[39m \u001b[39m'\u001b[39m\u001b[39mblack\u001b[39m\u001b[39m'\u001b[39m\n\u001b[1;32m    404\u001b[0m \u001b[39mself\u001b[39m\u001b[39m.\u001b[39mpatch_collections \u001b[39m=\u001b[39m {\n\u001b[0;32m--> 405\u001b[0m     \u001b[39m'\u001b[39m\u001b[39mdipole\u001b[39m\u001b[39m'\u001b[39m: _collections\u001b[39m.\u001b[39;49mPatchCollection(\n\u001b[1;32m    406\u001b[0m         \u001b[39mself\u001b[39;49m\u001b[39m.\u001b[39;49m_dipole_patches,\n\u001b[1;32m    407\u001b[0m         edgecolor\u001b[39m=\u001b[39;49m(edgec \u001b[39mif\u001b[39;49;00m draw_edges \u001b[39melse\u001b[39;49;00m colours[\u001b[39m'\u001b[39;49m\u001b[39mdipole\u001b[39;49m\u001b[39m'\u001b[39;49m]),\n\u001b[1;32m    408\u001b[0m         facecolor\u001b[39m=\u001b[39;49mcolours[\u001b[39m'\u001b[39;49m\u001b[39mdipole\u001b[39;49m\u001b[39m'\u001b[39;49m],\n\u001b[1;32m    409\u001b[0m         zorder\u001b[39m=\u001b[39;49m\u001b[39m2\u001b[39;49m),\n\u001b[1;32m    410\u001b[0m     \u001b[39m'\u001b[39m\u001b[39mquadrupole\u001b[39m\u001b[39m'\u001b[39m: _collections\u001b[39m.\u001b[39mPatchCollection(\n\u001b[1;32m    411\u001b[0m         \u001b[39mself\u001b[39m\u001b[39m.\u001b[39m_quadrupole_patches,\n\u001b[1;32m    412\u001b[0m         edgecolor\u001b[39m=\u001b[39m(edgec \u001b[39mif\u001b[39;00m draw_edges \u001b[39melse\u001b[39;00m colours[\u001b[39m'\u001b[39m\u001b[39mquadrupole\u001b[39m\u001b[39m'\u001b[39m]),\n\u001b[1;32m    413\u001b[0m         facecolor\u001b[39m=\u001b[39mcolours[\u001b[39m'\u001b[39m\u001b[39mquadrupole\u001b[39m\u001b[39m'\u001b[39m],\n\u001b[1;32m    414\u001b[0m         zorder\u001b[39m=\u001b[39m\u001b[39m2\u001b[39m),\n\u001b[1;32m    415\u001b[0m     \u001b[39m'\u001b[39m\u001b[39msextupole\u001b[39m\u001b[39m'\u001b[39m: _collections\u001b[39m.\u001b[39mPatchCollection(\n\u001b[1;32m    416\u001b[0m         \u001b[39mself\u001b[39m\u001b[39m.\u001b[39m_sextupole_patches,\n\u001b[1;32m    417\u001b[0m         edgecolor\u001b[39m=\u001b[39m(edgec \u001b[39mif\u001b[39;00m draw_edges \u001b[39melse\u001b[39;00m colours[\u001b[39m'\u001b[39m\u001b[39msextupole\u001b[39m\u001b[39m'\u001b[39m]),\n\u001b[1;32m    418\u001b[0m         facecolor\u001b[39m=\u001b[39mcolours[\u001b[39m'\u001b[39m\u001b[39msextupole\u001b[39m\u001b[39m'\u001b[39m],\n\u001b[1;32m    419\u001b[0m         zorder\u001b[39m=\u001b[39m\u001b[39m2\u001b[39m),\n\u001b[1;32m    420\u001b[0m     \u001b[39m'\u001b[39m\u001b[39mseptum\u001b[39m\u001b[39m'\u001b[39m: _collections\u001b[39m.\u001b[39mPatchCollection(\n\u001b[1;32m    421\u001b[0m         \u001b[39mself\u001b[39m\u001b[39m.\u001b[39m_septum_patches,\n\u001b[1;32m    422\u001b[0m         edgecolor\u001b[39m=\u001b[39m(edgec \u001b[39mif\u001b[39;00m draw_edges \u001b[39melse\u001b[39;00m colours[\u001b[39m'\u001b[39m\u001b[39mseptum\u001b[39m\u001b[39m'\u001b[39m]),\n\u001b[1;32m    423\u001b[0m         facecolor\u001b[39m=\u001b[39mcolours[\u001b[39m'\u001b[39m\u001b[39mseptum\u001b[39m\u001b[39m'\u001b[39m],\n\u001b[1;32m    424\u001b[0m         zorder\u001b[39m=\u001b[39m\u001b[39m2\u001b[39m),\n\u001b[1;32m    425\u001b[0m     \u001b[39m'\u001b[39m\u001b[39mfast_corrector_core\u001b[39m\u001b[39m'\u001b[39m: _collections\u001b[39m.\u001b[39mPatchCollection(\n\u001b[1;32m    426\u001b[0m         \u001b[39mself\u001b[39m\u001b[39m.\u001b[39m_fast_corrector_core_patches,\n\u001b[1;32m    427\u001b[0m         edgecolor\u001b[39m=\u001b[39m(edgec \u001b[39mif\u001b[39;00m draw_edges \u001b[39melse\u001b[39;00m colours[\u001b[39m'\u001b[39m\u001b[39mcorrector\u001b[39m\u001b[39m'\u001b[39m]),\n\u001b[1;32m    428\u001b[0m         facecolor\u001b[39m=\u001b[39mcolours[\u001b[39m'\u001b[39m\u001b[39mcorrector\u001b[39m\u001b[39m'\u001b[39m],\n\u001b[1;32m    429\u001b[0m         zorder\u001b[39m=\u001b[39m\u001b[39m2\u001b[39m),\n\u001b[1;32m    430\u001b[0m     \u001b[39m'\u001b[39m\u001b[39mfast_corrector_coil\u001b[39m\u001b[39m'\u001b[39m: _collections\u001b[39m.\u001b[39mPatchCollection(\n\u001b[1;32m    431\u001b[0m         \u001b[39mself\u001b[39m\u001b[39m.\u001b[39m_fast_corrector_coil_patches,\n\u001b[1;32m    432\u001b[0m         edgecolor\u001b[39m=\u001b[39m(edgec \u001b[39mif\u001b[39;00m draw_edges \u001b[39melse\u001b[39;00m colours[\u001b[39m'\u001b[39m\u001b[39mcoil\u001b[39m\u001b[39m'\u001b[39m]),\n\u001b[1;32m    433\u001b[0m         facecolor\u001b[39m=\u001b[39mcolours[\u001b[39m'\u001b[39m\u001b[39mcoil\u001b[39m\u001b[39m'\u001b[39m],\n\u001b[1;32m    434\u001b[0m         zorder\u001b[39m=\u001b[39m\u001b[39m3\u001b[39m),\n\u001b[1;32m    435\u001b[0m     \u001b[39m'\u001b[39m\u001b[39mslow_corrector_core\u001b[39m\u001b[39m'\u001b[39m: _collections\u001b[39m.\u001b[39mPatchCollection(\n\u001b[1;32m    436\u001b[0m         \u001b[39mself\u001b[39m\u001b[39m.\u001b[39m_slow_corrector_core_patches,\n\u001b[1;32m    437\u001b[0m         edgecolor\u001b[39m=\u001b[39m(edgec \u001b[39mif\u001b[39;00m draw_edges \u001b[39melse\u001b[39;00m colours[\u001b[39m'\u001b[39m\u001b[39mcorrector\u001b[39m\u001b[39m'\u001b[39m]),\n\u001b[1;32m    438\u001b[0m         facecolor\u001b[39m=\u001b[39mcolours[\u001b[39m'\u001b[39m\u001b[39mcorrector\u001b[39m\u001b[39m'\u001b[39m],\n\u001b[1;32m    439\u001b[0m         zorder\u001b[39m=\u001b[39m\u001b[39m2\u001b[39m),\n\u001b[1;32m    440\u001b[0m     \u001b[39m'\u001b[39m\u001b[39mslow_corrector_coil\u001b[39m\u001b[39m'\u001b[39m: _collections\u001b[39m.\u001b[39mPatchCollection(\n\u001b[1;32m    441\u001b[0m         \u001b[39mself\u001b[39m\u001b[39m.\u001b[39m_slow_corrector_coil_patches,\n\u001b[1;32m    442\u001b[0m         edgecolor\u001b[39m=\u001b[39m(edgec \u001b[39mif\u001b[39;00m draw_edges \u001b[39melse\u001b[39;00m colours[\u001b[39m'\u001b[39m\u001b[39mcoil\u001b[39m\u001b[39m'\u001b[39m]),\n\u001b[1;32m    443\u001b[0m         facecolor\u001b[39m=\u001b[39mcolours[\u001b[39m'\u001b[39m\u001b[39mcoil\u001b[39m\u001b[39m'\u001b[39m],\n\u001b[1;32m    444\u001b[0m         zorder\u001b[39m=\u001b[39m\u001b[39m3\u001b[39m),\n\u001b[1;32m    445\u001b[0m     \u001b[39m'\u001b[39m\u001b[39mskew_quadupole_core\u001b[39m\u001b[39m'\u001b[39m: _collections\u001b[39m.\u001b[39mPatchCollection(\n\u001b[1;32m    446\u001b[0m         \u001b[39mself\u001b[39m\u001b[39m.\u001b[39m_skew_quadrupole_core_patches,\n\u001b[1;32m    447\u001b[0m         edgecolor\u001b[39m=\u001b[39m(edgec \u001b[39mif\u001b[39;00m draw_edges \u001b[39melse\u001b[39;00m colours[\u001b[39m'\u001b[39m\u001b[39mskew_quadupole\u001b[39m\u001b[39m'\u001b[39m]),\n\u001b[1;32m    448\u001b[0m         facecolor\u001b[39m=\u001b[39mcolours[\u001b[39m'\u001b[39m\u001b[39mskew_quadupole\u001b[39m\u001b[39m'\u001b[39m],\n\u001b[1;32m    449\u001b[0m         zorder\u001b[39m=\u001b[39m\u001b[39m2\u001b[39m),\n\u001b[1;32m    450\u001b[0m     \u001b[39m'\u001b[39m\u001b[39mskew_quadupole_coil\u001b[39m\u001b[39m'\u001b[39m: _collections\u001b[39m.\u001b[39mPatchCollection(\n\u001b[1;32m    451\u001b[0m         \u001b[39mself\u001b[39m\u001b[39m.\u001b[39m_skew_quadrupole_coil_patches,\n\u001b[1;32m    452\u001b[0m         edgecolor\u001b[39m=\u001b[39m(edgec \u001b[39mif\u001b[39;00m draw_edges \u001b[39melse\u001b[39;00m colours[\u001b[39m'\u001b[39m\u001b[39mcoil\u001b[39m\u001b[39m'\u001b[39m]),\n\u001b[1;32m    453\u001b[0m         facecolor\u001b[39m=\u001b[39mcolours[\u001b[39m'\u001b[39m\u001b[39mcoil\u001b[39m\u001b[39m'\u001b[39m],\n\u001b[1;32m    454\u001b[0m         zorder\u001b[39m=\u001b[39m\u001b[39m3\u001b[39m),\n\u001b[1;32m    455\u001b[0m     \u001b[39m'\u001b[39m\u001b[39mbpm\u001b[39m\u001b[39m'\u001b[39m: _collections\u001b[39m.\u001b[39mPatchCollection(\n\u001b[1;32m    456\u001b[0m         \u001b[39mself\u001b[39m\u001b[39m.\u001b[39m_bpm_patches,\n\u001b[1;32m    457\u001b[0m         edgecolor\u001b[39m=\u001b[39m(edgec \u001b[39mif\u001b[39;00m draw_edges \u001b[39melse\u001b[39;00m colours[\u001b[39m'\u001b[39m\u001b[39mbpm\u001b[39m\u001b[39m'\u001b[39m]),\n\u001b[1;32m    458\u001b[0m         facecolor\u001b[39m=\u001b[39mcolours[\u001b[39m'\u001b[39m\u001b[39mbpm\u001b[39m\u001b[39m'\u001b[39m],\n\u001b[1;32m    459\u001b[0m         zorder\u001b[39m=\u001b[39m\u001b[39m2\u001b[39m),\n\u001b[1;32m    460\u001b[0m     }\n",
      "File \u001b[0;32m/opt/mamba_files/mamba/envs/sirius/lib/python3.9/site-packages/matplotlib/_api/deprecation.py:454\u001b[0m, in \u001b[0;36mmake_keyword_only.<locals>.wrapper\u001b[0;34m(*args, **kwargs)\u001b[0m\n\u001b[1;32m    448\u001b[0m \u001b[39mif\u001b[39;00m \u001b[39mlen\u001b[39m(args) \u001b[39m>\u001b[39m name_idx:\n\u001b[1;32m    449\u001b[0m     warn_deprecated(\n\u001b[1;32m    450\u001b[0m         since, message\u001b[39m=\u001b[39m\u001b[39m\"\u001b[39m\u001b[39mPassing the \u001b[39m\u001b[39m%(name)s\u001b[39;00m\u001b[39m \u001b[39m\u001b[39m%(obj_type)s\u001b[39;00m\u001b[39m \u001b[39m\u001b[39m\"\u001b[39m\n\u001b[1;32m    451\u001b[0m         \u001b[39m\"\u001b[39m\u001b[39mpositionally is deprecated since Matplotlib \u001b[39m\u001b[39m%(since)s\u001b[39;00m\u001b[39m; the \u001b[39m\u001b[39m\"\u001b[39m\n\u001b[1;32m    452\u001b[0m         \u001b[39m\"\u001b[39m\u001b[39mparameter will become keyword-only \u001b[39m\u001b[39m%(removal)s\u001b[39;00m\u001b[39m.\u001b[39m\u001b[39m\"\u001b[39m,\n\u001b[1;32m    453\u001b[0m         name\u001b[39m=\u001b[39mname, obj_type\u001b[39m=\u001b[39m\u001b[39mf\u001b[39m\u001b[39m\"\u001b[39m\u001b[39mparameter of \u001b[39m\u001b[39m{\u001b[39;00mfunc\u001b[39m.\u001b[39m\u001b[39m__name__\u001b[39m\u001b[39m}\u001b[39;00m\u001b[39m()\u001b[39m\u001b[39m\"\u001b[39m)\n\u001b[0;32m--> 454\u001b[0m \u001b[39mreturn\u001b[39;00m func(\u001b[39m*\u001b[39;49margs, \u001b[39m*\u001b[39;49m\u001b[39m*\u001b[39;49mkwargs)\n",
      "File \u001b[0;32m/opt/mamba_files/mamba/envs/sirius/lib/python3.9/site-packages/matplotlib/collections.py:1821\u001b[0m, in \u001b[0;36mPatchCollection.__init__\u001b[0;34m(self, patches, match_original, **kwargs)\u001b[0m\n\u001b[1;32m   1817\u001b[0m     kwargs[\u001b[39m'\u001b[39m\u001b[39mantialiaseds\u001b[39m\u001b[39m'\u001b[39m] \u001b[39m=\u001b[39m [p\u001b[39m.\u001b[39mget_antialiased() \u001b[39mfor\u001b[39;00m p \u001b[39min\u001b[39;00m patches]\n\u001b[1;32m   1819\u001b[0m \u001b[39msuper\u001b[39m()\u001b[39m.\u001b[39m\u001b[39m__init__\u001b[39m(\u001b[39m*\u001b[39m\u001b[39m*\u001b[39mkwargs)\n\u001b[0;32m-> 1821\u001b[0m \u001b[39mself\u001b[39;49m\u001b[39m.\u001b[39;49mset_paths(patches)\n",
      "File \u001b[0;32m/opt/mamba_files/mamba/envs/sirius/lib/python3.9/site-packages/matplotlib/collections.py:1824\u001b[0m, in \u001b[0;36mPatchCollection.set_paths\u001b[0;34m(self, patches)\u001b[0m\n\u001b[1;32m   1823\u001b[0m \u001b[39mdef\u001b[39;00m \u001b[39mset_paths\u001b[39m(\u001b[39mself\u001b[39m, patches):\n\u001b[0;32m-> 1824\u001b[0m     paths \u001b[39m=\u001b[39m [p\u001b[39m.\u001b[39mget_transform()\u001b[39m.\u001b[39mtransform_path(p\u001b[39m.\u001b[39mget_path())\n\u001b[1;32m   1825\u001b[0m              \u001b[39mfor\u001b[39;00m p \u001b[39min\u001b[39;00m patches]\n\u001b[1;32m   1826\u001b[0m     \u001b[39mself\u001b[39m\u001b[39m.\u001b[39m_paths \u001b[39m=\u001b[39m paths\n",
      "File \u001b[0;32m/opt/mamba_files/mamba/envs/sirius/lib/python3.9/site-packages/matplotlib/collections.py:1824\u001b[0m, in \u001b[0;36m<listcomp>\u001b[0;34m(.0)\u001b[0m\n\u001b[1;32m   1823\u001b[0m \u001b[39mdef\u001b[39;00m \u001b[39mset_paths\u001b[39m(\u001b[39mself\u001b[39m, patches):\n\u001b[0;32m-> 1824\u001b[0m     paths \u001b[39m=\u001b[39m [p\u001b[39m.\u001b[39;49mget_transform()\u001b[39m.\u001b[39;49mtransform_path(p\u001b[39m.\u001b[39;49mget_path())\n\u001b[1;32m   1825\u001b[0m              \u001b[39mfor\u001b[39;00m p \u001b[39min\u001b[39;00m patches]\n\u001b[1;32m   1826\u001b[0m     \u001b[39mself\u001b[39m\u001b[39m.\u001b[39m_paths \u001b[39m=\u001b[39m paths\n",
      "File \u001b[0;32m/opt/mamba_files/mamba/envs/sirius/lib/python3.9/site-packages/matplotlib/transforms.py:1595\u001b[0m, in \u001b[0;36mTransform.transform_path\u001b[0;34m(self, path)\u001b[0m\n\u001b[1;32m   1588\u001b[0m \u001b[39mdef\u001b[39;00m \u001b[39mtransform_path\u001b[39m(\u001b[39mself\u001b[39m, path):\n\u001b[1;32m   1589\u001b[0m \u001b[39m    \u001b[39m\u001b[39m\"\"\"\u001b[39;00m\n\u001b[1;32m   1590\u001b[0m \u001b[39m    Apply the transform to `.Path` *path*, returning a new `.Path`.\u001b[39;00m\n\u001b[1;32m   1591\u001b[0m \n\u001b[1;32m   1592\u001b[0m \u001b[39m    In some cases, this transform may insert curves into the path\u001b[39;00m\n\u001b[1;32m   1593\u001b[0m \u001b[39m    that began as line segments.\u001b[39;00m\n\u001b[1;32m   1594\u001b[0m \u001b[39m    \"\"\"\u001b[39;00m\n\u001b[0;32m-> 1595\u001b[0m     \u001b[39mreturn\u001b[39;00m \u001b[39mself\u001b[39;49m\u001b[39m.\u001b[39;49mtransform_path_affine(\u001b[39mself\u001b[39;49m\u001b[39m.\u001b[39;49mtransform_path_non_affine(path))\n",
      "File \u001b[0;32m/opt/mamba_files/mamba/envs/sirius/lib/python3.9/site-packages/matplotlib/transforms.py:1605\u001b[0m, in \u001b[0;36mTransform.transform_path_affine\u001b[0;34m(self, path)\u001b[0m\n\u001b[1;32m   1597\u001b[0m \u001b[39mdef\u001b[39;00m \u001b[39mtransform_path_affine\u001b[39m(\u001b[39mself\u001b[39m, path):\n\u001b[1;32m   1598\u001b[0m \u001b[39m    \u001b[39m\u001b[39m\"\"\"\u001b[39;00m\n\u001b[1;32m   1599\u001b[0m \u001b[39m    Apply the affine part of this transform to `.Path` *path*, returning a\u001b[39;00m\n\u001b[1;32m   1600\u001b[0m \u001b[39m    new `.Path`.\u001b[39;00m\n\u001b[0;32m   (...)\u001b[0m\n\u001b[1;32m   1603\u001b[0m \u001b[39m    ``transform_path_affine(transform_path_non_affine(values))``.\u001b[39;00m\n\u001b[1;32m   1604\u001b[0m \u001b[39m    \"\"\"\u001b[39;00m\n\u001b[0;32m-> 1605\u001b[0m     \u001b[39mreturn\u001b[39;00m \u001b[39mself\u001b[39;49m\u001b[39m.\u001b[39;49mget_affine()\u001b[39m.\u001b[39;49mtransform_path_affine(path)\n",
      "File \u001b[0;32m/opt/mamba_files/mamba/envs/sirius/lib/python3.9/site-packages/matplotlib/transforms.py:1796\u001b[0m, in \u001b[0;36mAffineBase.transform_path_affine\u001b[0;34m(self, path)\u001b[0m\n\u001b[1;32m   1794\u001b[0m \u001b[39mdef\u001b[39;00m \u001b[39mtransform_path_affine\u001b[39m(\u001b[39mself\u001b[39m, path):\n\u001b[1;32m   1795\u001b[0m     \u001b[39m# docstring inherited\u001b[39;00m\n\u001b[0;32m-> 1796\u001b[0m     \u001b[39mreturn\u001b[39;00m Path(\u001b[39mself\u001b[39;49m\u001b[39m.\u001b[39;49mtransform_affine(path\u001b[39m.\u001b[39;49mvertices),\n\u001b[1;32m   1797\u001b[0m                 path\u001b[39m.\u001b[39;49mcodes, path\u001b[39m.\u001b[39;49m_interpolation_steps)\n",
      "File \u001b[0;32m/opt/mamba_files/mamba/envs/sirius/lib/python3.9/site-packages/matplotlib/path.py:152\u001b[0m, in \u001b[0;36mPath.__init__\u001b[0;34m(self, vertices, codes, _interpolation_steps, closed, readonly)\u001b[0m\n\u001b[1;32m    150\u001b[0m \u001b[39mself\u001b[39m\u001b[39m.\u001b[39m_codes \u001b[39m=\u001b[39m codes\n\u001b[1;32m    151\u001b[0m \u001b[39mself\u001b[39m\u001b[39m.\u001b[39m_interpolation_steps \u001b[39m=\u001b[39m _interpolation_steps\n\u001b[0;32m--> 152\u001b[0m \u001b[39mself\u001b[39;49m\u001b[39m.\u001b[39;49m_update_values()\n\u001b[1;32m    154\u001b[0m \u001b[39mif\u001b[39;00m readonly:\n\u001b[1;32m    155\u001b[0m     \u001b[39mself\u001b[39m\u001b[39m.\u001b[39m_vertices\u001b[39m.\u001b[39mflags\u001b[39m.\u001b[39mwriteable \u001b[39m=\u001b[39m \u001b[39mFalse\u001b[39;00m\n",
      "File \u001b[0;32m/opt/mamba_files/mamba/envs/sirius/lib/python3.9/site-packages/matplotlib/path.py:206\u001b[0m, in \u001b[0;36mPath._update_values\u001b[0;34m(self)\u001b[0m\n\u001b[1;32m    202\u001b[0m \u001b[39mdef\u001b[39;00m \u001b[39m_update_values\u001b[39m(\u001b[39mself\u001b[39m):\n\u001b[1;32m    203\u001b[0m     \u001b[39mself\u001b[39m\u001b[39m.\u001b[39m_simplify_threshold \u001b[39m=\u001b[39m mpl\u001b[39m.\u001b[39mrcParams[\u001b[39m'\u001b[39m\u001b[39mpath.simplify_threshold\u001b[39m\u001b[39m'\u001b[39m]\n\u001b[1;32m    204\u001b[0m     \u001b[39mself\u001b[39m\u001b[39m.\u001b[39m_should_simplify \u001b[39m=\u001b[39m (\n\u001b[1;32m    205\u001b[0m         \u001b[39mself\u001b[39m\u001b[39m.\u001b[39m_simplify_threshold \u001b[39m>\u001b[39m \u001b[39m0\u001b[39m \u001b[39mand\u001b[39;00m\n\u001b[0;32m--> 206\u001b[0m         mpl\u001b[39m.\u001b[39;49mrcParams[\u001b[39m'\u001b[39;49m\u001b[39mpath.simplify\u001b[39;49m\u001b[39m'\u001b[39;49m] \u001b[39mand\u001b[39;00m\n\u001b[1;32m    207\u001b[0m         \u001b[39mlen\u001b[39m(\u001b[39mself\u001b[39m\u001b[39m.\u001b[39m_vertices) \u001b[39m>\u001b[39m\u001b[39m=\u001b[39m \u001b[39m128\u001b[39m \u001b[39mand\u001b[39;00m\n\u001b[1;32m    208\u001b[0m         (\u001b[39mself\u001b[39m\u001b[39m.\u001b[39m_codes \u001b[39mis\u001b[39;00m \u001b[39mNone\u001b[39;00m \u001b[39mor\u001b[39;00m np\u001b[39m.\u001b[39mall(\u001b[39mself\u001b[39m\u001b[39m.\u001b[39m_codes \u001b[39m<\u001b[39m\u001b[39m=\u001b[39m Path\u001b[39m.\u001b[39mLINETO))\n\u001b[1;32m    209\u001b[0m     )\n",
      "File \u001b[0;32m/opt/mamba_files/mamba/envs/sirius/lib/python3.9/site-packages/matplotlib/__init__.py:740\u001b[0m, in \u001b[0;36mRcParams.__getitem__\u001b[0;34m(self, key)\u001b[0m\n\u001b[1;32m    736\u001b[0m     \u001b[39mreturn\u001b[39;00m \u001b[39mself\u001b[39m\u001b[39m.\u001b[39m_get(alt_key) \u001b[39mif\u001b[39;00m alt_key \u001b[39melse\u001b[39;00m \u001b[39mNone\u001b[39;00m\n\u001b[1;32m    738\u001b[0m \u001b[39m# In theory, this should only ever be used after the global rcParams\u001b[39;00m\n\u001b[1;32m    739\u001b[0m \u001b[39m# has been set up, but better be safe e.g. in presence of breakpoints.\u001b[39;00m\n\u001b[0;32m--> 740\u001b[0m \u001b[39melif\u001b[39;00m key \u001b[39m==\u001b[39;49m \u001b[39m\"\u001b[39;49m\u001b[39mbackend\u001b[39;49m\u001b[39m\"\u001b[39;49m \u001b[39mand\u001b[39;00m \u001b[39mself\u001b[39m \u001b[39mis\u001b[39;00m \u001b[39mglobals\u001b[39m()\u001b[39m.\u001b[39mget(\u001b[39m\"\u001b[39m\u001b[39mrcParams\u001b[39m\u001b[39m\"\u001b[39m):\n\u001b[1;32m    741\u001b[0m     val \u001b[39m=\u001b[39m \u001b[39mself\u001b[39m\u001b[39m.\u001b[39m_get(key)\n\u001b[1;32m    742\u001b[0m     \u001b[39mif\u001b[39;00m val \u001b[39mis\u001b[39;00m rcsetup\u001b[39m.\u001b[39m_auto_backend_sentinel:\n",
      "\u001b[0;31mKeyboardInterrupt\u001b[0m: "
     ]
    }
   ],
   "source": [
    "for i in range(49):\n",
    "    plot_tracked(fitm, probable_pickle, i, spos)"
   ]
  },
  {
   "cell_type": "code",
   "execution_count": 140,
   "metadata": {},
   "outputs": [],
   "source": []
  },
  {
   "cell_type": "code",
   "execution_count": null,
   "metadata": {},
   "outputs": [],
   "source": []
  },
  {
   "cell_type": "code",
   "execution_count": null,
   "metadata": {},
   "outputs": [],
   "source": [
    "# # anotações que eu pensei que pudessem ser importantes\n",
    "\n",
    "# # definindo também o modelo fitado para calcular a distribuição de equilíbrio do feixe\n",
    "# # eu não sei exatamente se essa celula no meu código é util, porque em um primeiro momento vamos variar apenas\n",
    "# # as posições x, y, x' e y'\n",
    "\n",
    "# fit_acc = pymodels.si.create_accelerator()\n",
    "# fit_acc = pymodels.si.fitted_models.vertical_dispersion_and_coupling(fit_acc)\n",
    "# tousan = tousclass.Tous_analysis(fit_acc)\n",
    "# deltas = tousan.deltas\n",
    "# n_turns = tousan.nturns\n",
    "\n",
    "# orb = pyaccel.tracking.find_orbit6(acc, indices=[0, nlk_index])\n",
    "# orb = orb[:, 1]\n",
    "# np.zeros((6, deltas.size)), orb[:, None]\n",
    "\n",
    "# rin = np.zeros((6, deltas.size))\n",
    "# rin += orb[:,None]\n",
    "\n",
    "# # caso em algum momento seja necessário gerar uma distribuição de feixe gaussiano,\n",
    "# # com algumas linhas de código é possível fazer esta tarefa\n",
    "# # eu poderia fazer assim também, mas como essa abordagem é mais complicada porque eu teria que propagar a matriz do booster veremos como fazer assim depois\n",
    "\n",
    "# mean = np.zeros(6)\n",
    "# env = pyop.beam_envelope.calc_beamenvelope(fit_acc)\n",
    "# cov = env[nlk_index]\n",
    "# particles = np.random.multivariate_normal(mean, cov, size=1).T\n",
    "\n",
    "# # célula colocada aqui simplesmente para teste de verificação\n",
    "# # ao executar o código abaixo é possível observar a distribuição gaussiana das posições em x\n",
    "# plt.figure()\n",
    "# plt.hist(particles[0], bins=200)\n",
    "# plt.show()\n",
    "\n",
    "# # esse procedimento é feito para ir variando os parâmetros de posição \n",
    "# vecy = np.linspace(4.8332669321064365e-09, 4.8332669321064365e-02, 1000)\n",
    "# vecx = np.linspace(2.25702434e-08,2.25702434e-02, 1000)\n",
    "# # com a função vstack do numpy podemos juntar dois arrays e formar uma matriz\n",
    "# np.vstack((vecx, vecy))"
   ]
  }
 ],
 "metadata": {
  "kernelspec": {
   "display_name": "sirius",
   "language": "python",
   "name": "python3"
  },
  "language_info": {
   "codemirror_mode": {
    "name": "ipython",
    "version": 3
   },
   "file_extension": ".py",
   "mimetype": "text/x-python",
   "name": "python",
   "nbconvert_exporter": "python",
   "pygments_lexer": "ipython3",
   "version": "3.9.2"
  },
  "orig_nbformat": 4
 },
 "nbformat": 4,
 "nbformat_minor": 2
}
