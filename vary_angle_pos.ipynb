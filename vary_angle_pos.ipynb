{
 "cells": [
  {
   "cell_type": "markdown",
   "metadata": {},
   "source": [
    "# Imports"
   ]
  },
  {
   "cell_type": "code",
   "execution_count": 1,
   "metadata": {
    "ExecuteTime": {
     "end_time": "2023-10-09T11:39:44.074071Z",
     "start_time": "2023-10-09T11:39:43.031071Z"
    }
   },
   "outputs": [],
   "source": [
    "%matplotlib qt5\n",
    "\n",
    "import pyaccel\n",
    "import pymodels\n",
    "import numpy as np\n",
    "import matplotlib.pyplot as plt\n",
    "from mathphys.functions import save_pickle, load_pickle"
   ]
  },
  {
   "cell_type": "markdown",
   "metadata": {},
   "source": [
    "# Analysis"
   ]
  },
  {
   "cell_type": "code",
   "execution_count": 2,
   "metadata": {
    "ExecuteTime": {
     "end_time": "2023-10-09T11:40:53.278561Z",
     "start_time": "2023-10-09T11:40:49.340219Z"
    }
   },
   "outputs": [
    {
     "name": "stdout",
     "output_type": "stream",
     "text": [
      "energy         : 3000000000.0 eV\n",
      "harmonic_number: 864\n",
      "cavity_on      : True\n",
      "radiation_on   : 1\n",
      "vchamber_on    : True\n",
      "lattice version: SI_V25_04_1.17.0\n",
      "lattice size   : 6549\n",
      "lattice length : 518.3898999999925 m\n",
      "hemitt [pm.rad]: 3429.7223623919426\n",
      "vemitt [pm.rad]: 34.29722362391943\n"
     ]
    }
   ],
   "source": [
    "import machine_class as m_class"
   ]
  },
  {
   "cell_type": "code",
   "execution_count": 3,
   "metadata": {},
   "outputs": [],
   "source": [
    "obj = m_class.Machine_study()\n"
   ]
  },
  {
   "cell_type": "code",
   "execution_count": 4,
   "metadata": {},
   "outputs": [],
   "source": [
    "# coisas que eu provavelmente vou ter que realizar variação de uma coordenada para outra\n",
    "coord_idx = 1\n",
    "\n",
    "\n",
    "obj.nr_particles = 50000\n",
    "obj.coord_idx = coord_idx\n",
    "\n",
    "obj.coord_amp_nrpts = 50\n",
    "\n",
    "if coord_idx == 0:\n",
    "    scp_p_h = 0.007\n",
    "    scp_n_h = 0.007\n",
    "    scp_p_v = obj.scraper_height0\n",
    "    scp_n_v = obj.scraper_height0\n",
    "    obj.coord_amp_p = 0.02\n",
    "    obj.coord_amp_n = -0.02\n",
    "    mult_factor = 1e3\n",
    "elif coord_idx == 1:\n",
    "    scp_p_h = 0.007\n",
    "    scp_n_h = 0.007\n",
    "    scp_p_v = 0.003\n",
    "    scp_n_v = 0.003\n",
    "    obj.coord_amp_p = 0.0008\n",
    "    obj.coord_amp_n = -0.0008\n",
    "    mult_factor = 1e3\n",
    "elif coord_idx == 2:\n",
    "    scp_p_h = obj.scraper_width0\n",
    "    scp_n_h = obj.scraper_width0\n",
    "    scp_p_v = 0.003\n",
    "    scp_n_v = 0.003\n",
    "    obj.coord_amp_p = 0.008\n",
    "    obj.coord_amp_n = -0.008\n",
    "    mult_factor = 1e3\n",
    "elif coord_idx == 3:\n",
    "    scp_p_h = m_class.Params.scraper_width0\n",
    "    scp_n_h = m_class.Params.scraper_width0\n",
    "    scp_p_v = 0.001\n",
    "    scp_n_v = 0.001\n",
    "    obj.coord_amp_p = 0.0008\n",
    "    obj.coord_amp_n = -0.0008\n",
    "    mult_factor = 1e3\n"
   ]
  },
  {
   "cell_type": "code",
   "execution_count": 5,
   "metadata": {},
   "outputs": [
    {
     "name": "stdout",
     "output_type": "stream",
     "text": [
      "fam_name   : SHVC \n",
      "pass_method: identity_pass \n",
      "hmin       : -0.007 m\n",
      "hmax       : 0.007 m\n",
      "vmin       : -0.012 m\n",
      "vmax       : 0.012 m\n",
      "fam_name   : SHVC \n",
      "pass_method: identity_pass \n",
      "hmin       : -0.007 m\n",
      "hmax       : 0.007 m\n",
      "vmin       : -0.012 m\n",
      "vmax       : 0.012 m\n"
     ]
    }
   ],
   "source": [
    "obj.personalized_plot(mult_factor=mult_factor, coord_idx=coord_idx,\n",
    "                      scp_p_h=scp_p_h, scp_n_h=scp_n_h,\n",
    "                      scp_p_v=scp_p_v, scp_n_v=scp_n_v)"
   ]
  },
  {
   "cell_type": "code",
   "execution_count": 6,
   "metadata": {},
   "outputs": [
    {
     "data": {
      "text/plain": [
       "3.0248475000000012"
      ]
     },
     "execution_count": 6,
     "metadata": {},
     "output_type": "execute_result"
    }
   ],
   "source": [
    "m_class.Params.spos[m_class.Params.nlk_index]"
   ]
  }
 ],
 "metadata": {
  "hide_input": false,
  "kernelspec": {
   "display_name": "Python 3",
   "language": "python",
   "name": "python3"
  },
  "language_info": {
   "codemirror_mode": {
    "name": "ipython",
    "version": 3
   },
   "file_extension": ".py",
   "mimetype": "text/x-python",
   "name": "python",
   "nbconvert_exporter": "python",
   "pygments_lexer": "ipython3",
   "version": "3.6.8"
  }
 },
 "nbformat": 4,
 "nbformat_minor": 2
}
