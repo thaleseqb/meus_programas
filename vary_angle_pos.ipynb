{
 "cells": [
  {
   "cell_type": "code",
   "execution_count": 1,
   "metadata": {},
   "outputs": [],
   "source": [
    "import pyaccel\n",
    "import pymodels\n",
    "import numpy as np\n",
    "import matplotlib.pyplot as plt\n",
    "from mathphys.functions import save_pickle, load_pickle\n",
    "\n",
    "import touschek_pack.functions as tousfunc\n",
    "import touschek_pack.Classes as tousclass\n"
   ]
  },
  {
   "cell_type": "code",
   "execution_count": 2,
   "metadata": {},
   "outputs": [],
   "source": [
    "# criando o modelo para a realização do tracking\n",
    "acc = pymodels.si.create_accelerator()\n",
    "acc.cavity_on = True\n",
    "acc.radiation_on = True\n",
    "acc.vchamber_on = True"
   ]
  },
  {
   "cell_type": "code",
   "execution_count": 44,
   "metadata": {},
   "outputs": [],
   "source": [
    "\n",
    "\n",
    "# é bom lembrar também que os scrapers que eu estou interessado estão disponíveis no modelo como sendo SVVC e SHVC\n",
    "# designando set vertical caccum chamber and set horizontal vaccum chamber\n",
    "\n",
    "# defining the nlk position to track the electrons\n",
    "dicty = pyaccel.lattice.find_dict(acc, 'fam_name')\n",
    "nlk_index = dicty['InjNLKckr'][0]\n",
    "spos = pyaccel.lattice.find_spos(acc, indices='closed')\n",
    "\n",
    "s_nlk = float(spos[nlk_index])\n"
   ]
  },
  {
   "cell_type": "code",
   "execution_count": 4,
   "metadata": {},
   "outputs": [],
   "source": [
    "# definindo também o modelo fitado para calcular a distribuição de equilíbrio do feixe\n",
    "\n",
    "fit_acc = pymodels.si.create_accelerator()\n",
    "fit_acc = pymodels.si.fitted_models.vertical_dispersion_and_coupling(fit_acc)\n",
    "tousan = tousclass.Tous_analysis(fit_acc)\n",
    "deltas = tousan.deltas\n",
    "n_turns = tousan.nturns"
   ]
  },
  {
   "cell_type": "code",
   "execution_count": 11,
   "metadata": {},
   "outputs": [
    {
     "data": {
      "text/plain": [
       "(460,)"
      ]
     },
     "execution_count": 11,
     "metadata": {},
     "output_type": "execute_result"
    }
   ],
   "source": [
    "# como podemos criar uma função que varie os parametros da forma que eu quero ?\n",
    "# eu preciso variar as posições x e y dos elétrons no trecho de injeção e também variar os angulos x e y\n",
    "# eu poss simplesmente criar um linspace com as variações de parâmetros que eu desejo\n",
    "\n"
   ]
  },
  {
   "cell_type": "code",
   "execution_count": null,
   "metadata": {},
   "outputs": [],
   "source": [
    "# agora nesse estágio eu preciso fazer variar as posições dos \n",
    "tousfunc.track_eletrons(deltas, n_turns, nlk_index, )"
   ]
  },
  {
   "cell_type": "code",
   "execution_count": 13,
   "metadata": {},
   "outputs": [],
   "source": [
    "orb = pyaccel.tracking.find_orbit6(acc, indices=[0, nlk_index])\n",
    "orb = orb[:, 1]"
   ]
  },
  {
   "cell_type": "code",
   "execution_count": 17,
   "metadata": {},
   "outputs": [
    {
     "data": {
      "text/plain": [
       "(array([[0., 0., 0., ..., 0., 0., 0.],\n",
       "        [0., 0., 0., ..., 0., 0., 0.],\n",
       "        [0., 0., 0., ..., 0., 0., 0.],\n",
       "        [0., 0., 0., ..., 0., 0., 0.],\n",
       "        [0., 0., 0., ..., 0., 0., 0.],\n",
       "        [0., 0., 0., ..., 0., 0., 0.]]),\n",
       " array([[-2.25702434e-08],\n",
       "        [-4.83326693e-09],\n",
       "        [ 0.00000000e+00],\n",
       "        [ 0.00000000e+00],\n",
       "        [-6.34753037e-05],\n",
       "        [-1.51791706e-02]]))"
      ]
     },
     "execution_count": 17,
     "metadata": {},
     "output_type": "execute_result"
    }
   ],
   "source": [
    "np.zeros((6, deltas.size)), orb[:, None]"
   ]
  },
  {
   "cell_type": "code",
   "execution_count": 18,
   "metadata": {},
   "outputs": [],
   "source": [
    "rin = np.zeros((6, deltas.size))\n",
    "\n",
    "rin += orb[:,None]  "
   ]
  },
  {
   "cell_type": "code",
   "execution_count": 19,
   "metadata": {},
   "outputs": [
    {
     "data": {
      "text/plain": [
       "array([[-2.25702434e-08, -2.25702434e-08, -2.25702434e-08, ...,\n",
       "        -2.25702434e-08, -2.25702434e-08, -2.25702434e-08],\n",
       "       [-4.83326693e-09, -4.83326693e-09, -4.83326693e-09, ...,\n",
       "        -4.83326693e-09, -4.83326693e-09, -4.83326693e-09],\n",
       "       [ 0.00000000e+00,  0.00000000e+00,  0.00000000e+00, ...,\n",
       "         0.00000000e+00,  0.00000000e+00,  0.00000000e+00],\n",
       "       [ 0.00000000e+00,  0.00000000e+00,  0.00000000e+00, ...,\n",
       "         0.00000000e+00,  0.00000000e+00,  0.00000000e+00],\n",
       "       [-6.34753037e-05, -6.34753037e-05, -6.34753037e-05, ...,\n",
       "        -6.34753037e-05, -6.34753037e-05, -6.34753037e-05],\n",
       "       [-1.51791706e-02, -1.51791706e-02, -1.51791706e-02, ...,\n",
       "        -1.51791706e-02, -1.51791706e-02, -1.51791706e-02]])"
      ]
     },
     "execution_count": 19,
     "metadata": {},
     "output_type": "execute_result"
    }
   ],
   "source": [
    "rin"
   ]
  },
  {
   "cell_type": "code",
   "execution_count": 26,
   "metadata": {},
   "outputs": [],
   "source": [
    "import pyaccel.optics as pyop\n",
    "\n",
    "mean = np.zeros(6)\n",
    "env = pyop.beam_envelope.calc_beamenvelope(fit_acc)\n",
    "\n",
    "cov = env[nlk_index]\n"
   ]
  },
  {
   "cell_type": "code",
   "execution_count": 41,
   "metadata": {},
   "outputs": [],
   "source": [
    "# Dessa forma uma distribuição gaussiana do feixe é criada\n",
    "# a partir disso eu posso ir variando cada valor das posições tanto em x quanto em y, além de variar também os angulos x' e y'\n",
    "# mas como eu posso variar esses parâmetros ?\n",
    "\n",
    "particles = np.random.multivariate_normal(mean, cov, size=5000).T\n"
   ]
  },
  {
   "cell_type": "code",
   "execution_count": 46,
   "metadata": {},
   "outputs": [
    {
     "data": {
      "text/plain": [
       "array([-1.64886840e-05, -5.51643546e-05,  1.43536208e-05, ...,\n",
       "       -2.69156919e-05,  1.25715526e-05,  9.87212800e-06])"
      ]
     },
     "execution_count": 46,
     "metadata": {},
     "output_type": "execute_result"
    }
   ],
   "source": [
    "particles[0]"
   ]
  },
  {
   "cell_type": "code",
   "execution_count": 43,
   "metadata": {},
   "outputs": [],
   "source": [
    "# # célula colocada aqui simplesmente para teste de verificação\n",
    "# # ao executar o código abaixo é possível observar a distribuição gaussiana das posições em x\n",
    "# plt.figure()\n",
    "# plt.hist(particles[0], bins=200)\n",
    "# plt.show()"
   ]
  }
 ],
 "metadata": {
  "kernelspec": {
   "display_name": "sirius",
   "language": "python",
   "name": "python3"
  },
  "language_info": {
   "codemirror_mode": {
    "name": "ipython",
    "version": 3
   },
   "file_extension": ".py",
   "mimetype": "text/x-python",
   "name": "python",
   "nbconvert_exporter": "python",
   "pygments_lexer": "ipython3",
   "version": "3.9.2"
  },
  "orig_nbformat": 4
 },
 "nbformat": 4,
 "nbformat_minor": 2
}
