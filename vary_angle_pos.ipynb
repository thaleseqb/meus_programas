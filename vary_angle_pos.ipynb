{
 "cells": [
  {
   "cell_type": "markdown",
   "metadata": {},
   "source": [
    "# Imports"
   ]
  },
  {
   "cell_type": "code",
   "execution_count": 1,
   "metadata": {
    "ExecuteTime": {
     "end_time": "2023-09-28T14:02:23.298493Z",
     "start_time": "2023-09-28T14:02:22.721638Z"
    }
   },
   "outputs": [],
   "source": [
    "%matplotlib qt5\n",
    "\n",
    "import pyaccel\n",
    "import pymodels\n",
    "import numpy as np\n",
    "import matplotlib.pyplot as plt\n",
    "from mathphys.functions import save_pickle, load_pickle"
   ]
  },
  {
   "cell_type": "markdown",
   "metadata": {},
   "source": [
    "# Utils"
   ]
  },
  {
   "cell_type": "code",
   "execution_count": 11,
   "metadata": {
    "ExecuteTime": {
     "end_time": "2023-09-28T14:02:25.328482Z",
     "start_time": "2023-09-28T14:02:25.283855Z"
    }
   },
   "outputs": [],
   "source": [
    "def set_vchamber_h(params, width):\n",
    "    for iten in params.scraper_indices:\n",
    "        params.fitm[iten].hmax = width\n",
    "        params.fitm[iten].hmin = -width\n",
    "    \n",
    "    return None\n",
    "\n",
    "\n",
    "def track_mchn_stdy(params, bunch, nturn, coord_idx, increment):\n",
    "    # setting param to be the index of the array [x,x',y,y',delta,z]\n",
    "\n",
    "    bunch[coord_idx] += increment\n",
    "    tracked = pyaccel.tracking.ring_pass(params.fitm, particles=bunch,\n",
    "                                         nr_turns=nturn, turn_by_turn= True,\n",
    "                                         element_offset=params.nlk_index, parallel=False)\n",
    "    \n",
    "    part_out, lost_flag, turn_lost, index_lost, plane_lost = tracked\n",
    "    # print(lost_flag)\n",
    "    \n",
    "    turnl_element = []\n",
    "\n",
    "    for i,iten in enumerate(turn_lost):\n",
    "        if iten == nturn and index_lost[i] == params.nlk_index: # ignora elétrons que não foram perdidos\n",
    "            pass\n",
    "        else:\n",
    "            turnl_element.append((iten, index_lost[i]))\n",
    "    \n",
    "    return turnl_element\n",
    "\n",
    "def varying_incmnts(params, bunch, nturn, coord_idx, coord_amp, coord_amp_nrpts, scraper_width):\n",
    "\n",
    "    ''' \n",
    "        acc: accelerator \n",
    "        bunch: particle initial conditions\n",
    "        par: index of [x,x',y,y',delta,z] -> [0,1,2,3,4,5]\n",
    "        rng: range of the increment\n",
    "        nturn: number of turns\n",
    "        val: variable that goes in numpy linspace, val is the value till the variation must be performed\n",
    "        strin: is a string, this string represents the fam_name of the scraper 'SHVC' or 'SVVC'\n",
    "        height: is the value that the user desires for setting the height of vchamber\n",
    "    '''\n",
    "\n",
    "    lostpos_n = []\n",
    "    lostpos_m = []\n",
    "    losttur_n = []\n",
    "    losttur_m = []\n",
    "\n",
    "    inc = np.linspace(0, coord_amp, coord_amp_nrpts)\n",
    "    incdif = np.diff(inc)\n",
    "\n",
    "    inc_qlst_n = []\n",
    "    inc_qlst_m = []\n",
    "\n",
    "    # nominal model tracking simulation\n",
    "    bunchi = bunch.copy()\n",
    "    for j, iten in enumerate(incdif):\n",
    "        track = track_mchn_stdy(params, bunchi, nturn=nturn, coord_idx=coord_idx, increment=iten)\n",
    "        length = len(track)\n",
    "        if len(track) == 0:\n",
    "            pass\n",
    "        else:\n",
    "            mean = np.mean(bunchi[0])*1e3\n",
    "            inc_qlst_n.append([mean,length]) # this will be the y axis of the graphic\n",
    "            for lst in track:\n",
    "                lost_turn, lost_pos = lst\n",
    "                losttur_n.append([lost_turn, mean])\n",
    "                lostpos_n.append([lost_pos, mean])\n",
    "\n",
    "    # # changed scraper width within model tracking simulation\n",
    "    set_vchamber_h(params, scraper_width) # after calling this function, vchamber's width will be changed\n",
    "    print(params.fitm[params.scraper_indices[0]])\n",
    "    \n",
    "    bunchi = bunch.copy()\n",
    "    for j, iten in enumerate(incdif):\n",
    "        track = track_mchn_stdy(params, bunchi, nturn=nturn, coord_idx=coord_idx, increment=iten)\n",
    "        length = len(track)\n",
    "        if len(track) == 0:\n",
    "            pass\n",
    "        else:\n",
    "            mean = np.mean(bunchi[0])*1e3\n",
    "            inc_qlst_m.append([mean,length]) # this will be the y axis of the graphic\n",
    "            for lst in track:\n",
    "                lost_turn, lost_pos = lst\n",
    "                losttur_m.append([lost_turn, mean])\n",
    "                lostpos_m.append([lost_pos, mean])\n",
    "    set_vchamber_h(params, params.scraper_width0) # after calling this function, vchamber's height will be restored\n",
    "\n",
    "    return lostpos_n, lostpos_m, losttur_n, losttur_m, inc_qlst_n, inc_qlst_m\n",
    "\n",
    "\n",
    "def p_sim(lostpos_n, lostpos_m, losttur_n, losttur_m, inc_qlst_n, inc_qlst_m, spos):\n",
    "    fig1, (a1n,a2n,a3n) = plt.subplots(nrows=1,ncols=3, sharey=True, figsize=(10,5))\n",
    "\n",
    "    # n_coln = np.intp(lostpos_n[:,0])\n",
    "    # n_colm = np.intp(lostpos_m[:,0])\n",
    "\n",
    "    fig1.suptitle('tracking without scraper')\n",
    "\n",
    "    for iten in inc_qlst_n:\n",
    "        a1n.plot(iten[1], iten[0] , '.', color='blue')\n",
    "    a1n.set_xlabel(r'Number of electrons lost')\n",
    "    a1n.set_ylabel(r'position mean [mm]')\n",
    "    # a1n.set_ylim(0, 12)\n",
    "\n",
    "    for iten in losttur_n:\n",
    "        a2n.plot(iten[0], iten[1], '.', color='blue')\n",
    "    a2n.set_xlabel(r'nturns')\n",
    "    for idx,iten in enumerate(lostpos_n):\n",
    "        a3n.plot(spos[iten[0]], iten[1], '.', color='blue')\n",
    "    a3n.set_xlabel(r'spos [m]')\n",
    "    fig2, (a1m,a2m,a3m) = plt.subplots(nrows=1,ncols=3, sharey=True, figsize=(10,5))\n",
    "\n",
    "    fig2.suptitle('tracking with scraper')\n",
    "\n",
    "    for iten in inc_qlst_m:\n",
    "        a1m.plot(iten[1], iten[0] , '.', color='blue')\n",
    "    a1m.set_xlabel(r'Number of electrons lost')\n",
    "    a1m.set_ylabel(r'position mean [mm]')\n",
    "    # a1m.set_ylim(0, 12)\n",
    "\n",
    "    for iten in losttur_m:\n",
    "        a2m.plot(iten[0], iten[1], '.', color='blue')\n",
    "    a2m.set_xlabel(r'nturns')\n",
    "    for iten in lostpos_m:\n",
    "        a3m.plot(spos[iten[0]], iten[1], '.', color='blue')\n",
    "    a3m.set_xlabel(r'spos [m]')\n",
    "    plt.show()"
   ]
  },
  {
   "cell_type": "markdown",
   "metadata": {
    "heading_collapsed": true
   },
   "source": [
    "# Parameters"
   ]
  },
  {
   "cell_type": "code",
   "execution_count": 3,
   "metadata": {
    "ExecuteTime": {
     "end_time": "2023-09-28T13:28:53.487828Z",
     "start_time": "2023-09-28T13:28:51.551979Z"
    },
    "hidden": true
   },
   "outputs": [
    {
     "name": "stdout",
     "output_type": "stream",
     "text": [
      "energy         : 3000000000.0 eV\n",
      "harmonic_number: 864\n",
      "cavity_on      : True\n",
      "radiation_on   : 1\n",
      "vchamber_on    : True\n",
      "lattice version: SI_V25_04_v1.17.0\n",
      "lattice size   : 6549\n",
      "lattice length : 518.3898999999925 m\n",
      "hemitt [pm.rad]: 3429.722487983057\n",
      "vemitt [pm.rad]: 34.297224879830566\n"
     ]
    }
   ],
   "source": [
    "class Params:\n",
    "    scraper_name = 'SHVC'\n",
    "    \n",
    "    # create model\n",
    "    fitm = pymodels.si.create_accelerator()\n",
    "    fitm = pymodels.si.fitted_models.vertical_dispersion_and_coupling(fitm)\n",
    "    fitm.vchamber_on = True\n",
    "    fitm.radiation_on = True\n",
    "    fitm.cavity_on = True\n",
    "    print(fitm)\n",
    "    \n",
    "    booster = pymodels.bo.create_accelerator()\n",
    "    booster.energy = 3e9\n",
    "    booster[187].voltage = 1e6\n",
    "    booster.radiation_on=True\n",
    "    booster.cavity_on=True\n",
    "    \n",
    "    # scraper data\n",
    "    scraper_indices = pyaccel.lattice.find_indices(fitm, 'fam_name', scraper_name)\n",
    "    scraper_width0 = pyaccel.lattice.get_attribute(fitm, 'hmax', indices=scraper_indices)[0]\n",
    "\n",
    "    # calc optics\n",
    "    spos = pyaccel.lattice.find_spos(fitm, indices='closed')\n",
    "    twiss,*_ = pyaccel.optics.calc_twiss(fitm, indices='closed')\n",
    "    \n",
    "    # equilibrium parameters\n",
    "    eqparams = pyaccel.optics.beam_envelope.EqParamsFromBeamEnvelope(booster)\n",
    "    coup = 1/100\n",
    "    emitt0 = eqparams.emit1  # nno-coupling model\n",
    "    h_emitt = 1/(1 + coup) * emitt0\n",
    "    v_emitt = coup/(1 + coup) * emitt0\n",
    "    print('hemitt [pm.rad]:', h_emitt * 1e12)\n",
    "    print('vemitt [pm.rad]:', v_emitt * 1e12)\n",
    "    sigmae = eqparams.espread0\n",
    "    bun_len = eqparams.bunlen\n",
    "\n",
    "    # defining the index \n",
    "    fam_name_dict = pyaccel.lattice.find_dict(fitm, 'fam_name')\n",
    "    nlk_index = fam_name_dict['InjNLKckr'][0] + 1"
   ]
  },
  {
   "cell_type": "markdown",
   "metadata": {},
   "source": [
    "# Analysis"
   ]
  },
  {
   "cell_type": "code",
   "execution_count": 4,
   "metadata": {
    "ExecuteTime": {
     "end_time": "2023-09-28T13:46:15.891107Z",
     "start_time": "2023-09-28T13:46:15.879969Z"
    }
   },
   "outputs": [],
   "source": [
    "nr_particles = 2\n",
    "\n",
    "# generate gaussian beam\n",
    "bunch = pyaccel.tracking.generate_bunch(\n",
    "    n_part=nr_particles, envelope=None, emit1=Params.h_emitt, emit2=Params.v_emitt, sigmae=Params.sigmae,\n",
    "    sigmas=Params.bun_len, optics=Params.twiss[Params.nlk_index])\n",
    "\n",
    "bunch[0] -= 0.008"
   ]
  },
  {
   "cell_type": "code",
   "execution_count": 13,
   "metadata": {
    "ExecuteTime": {
     "end_time": "2023-09-28T13:55:53.637439Z",
     "start_time": "2023-09-28T13:55:46.453341Z"
    }
   },
   "outputs": [
    {
     "name": "stdout",
     "output_type": "stream",
     "text": [
      "fam_name   : SHVC \n",
      "pass_method: identity_pass \n",
      "hmin       : -0.009 m\n",
      "hmax       : 0.009 m\n",
      "vmin       : -0.012 m\n",
      "vmax       : 0.012 m\n"
     ]
    }
   ],
   "source": [
    "nr_turns = 10\n",
    "scraper_width = 0.009\n",
    "\n",
    "coord_idx = 0\n",
    "coord_amp_rx = 0.08 # [m]\n",
    "coord_amp_nrpts_rx = 1200\n",
    "\n",
    "coord_amp_rxneg = -0.02 # [m]\n",
    "\n",
    "# variable = varying_incmnts(\n",
    "#     Params, bunch=bunch, nturn=nr_turns,\n",
    "#     coord_idx=coord_idx, coord_amp=coord_amp_rx, coord_amp_nrpts=coord_amp_nrpts_rx,\n",
    "#     scraper_width=scraper_width)\n",
    "# lostpos_n, lostpos_m, losttur_n, losttur_m, inc_qlst_n, inc_qlst_m = variable\n",
    "# p_sim(lostpos_n, lostpos_m, losttur_n, losttur_m, inc_qlst_n, inc_qlst_m, Params.spos)\n",
    "\n",
    "# vary bunch coordinates for different scraper widths\n",
    "# variable_pos = varying_incmnts(\n",
    "#     Params, bunch=bunch, nturn=nr_turns,\n",
    "#     coord_idx=coord_idx, coord_amp=coord_amp_rx, coord_amp_nrpts=coord_amp_nrpts_rx,\n",
    "#     scraper_width=scraper_width)\n",
    "\n",
    "variable_neg = varying_incmnts(\n",
    "    Params, bunch=bunch, nturn=nr_turns,\n",
    "    coord_idx=coord_idx, coord_amp=coord_amp_rxneg, coord_amp_nrpts=coord_amp_nrpts_rx,\n",
    "    scraper_width=scraper_width)"
   ]
  },
  {
   "cell_type": "code",
   "execution_count": 14,
   "metadata": {},
   "outputs": [],
   "source": [
    "# lostpos_np,lostpos_mp, losttur_np,losttur_mp, inc_qlst_np, inc_qlst_mp = variable_pos\n",
    "lostpos_nn,lostpos_mn, losttur_nn,losttur_mn, inc_qlst_nn, inc_qlst_mn = variable_neg\n",
    "# # tuple_n, tuple_m =variable\n",
    "\n",
    "# # lostpos_n, losttur_n, inc_qlst_n = tuple_n\n",
    "# # lostpos_m, losttur_m,inc_qlst_m = tuple_m\n",
    "\n",
    "\n"
   ]
  },
  {
   "cell_type": "code",
   "execution_count": null,
   "metadata": {},
   "outputs": [],
   "source": [
    "# rlostposn = np.r_[np.array(lostpos_nn),np.array(lostpos_np)]\n",
    "# rlostturn = np.r_[np.array(losttur_nn),np.array(losttur_np)]\n",
    "# rincn = np.r_[np.array(inc_qlst_np),np.array(inc_qlst_nn)]\n",
    "\n",
    "# rlostposm = np.r_[np.array(lostpos_mn),np.array(lostpos_mp)]\n",
    "# rlostturm = np.r_[np.array(losttur_mn),np.array(losttur_mp)]\n",
    "# rincm = np.r_[np.array(inc_qlst_mp),np.array(inc_qlst_mn)]\n",
    "# p_sim(rlostposn, rlostposm, rlostturn, rlostturm, rincn, rincm, Params.spos)"
   ]
  },
  {
   "cell_type": "code",
   "execution_count": 15,
   "metadata": {},
   "outputs": [],
   "source": [
    "p_sim(lostpos_nn,lostpos_mn, losttur_nn,losttur_mn, inc_qlst_nn, inc_qlst_mn, Params.spos)"
   ]
  },
  {
   "cell_type": "code",
   "execution_count": null,
   "metadata": {},
   "outputs": [],
   "source": [
    "bunch_p = bunch[0]\n",
    "\n",
    "bunch_p"
   ]
  },
  {
   "cell_type": "code",
   "execution_count": null,
   "metadata": {},
   "outputs": [],
   "source": [
    "# Suponha que você tenha uma matriz de exemplo\n",
    "matriz = np.array([[1, 2, 3],\n",
    "                   [4, 5, 6],\n",
    "                   [7, 8, 9]])\n",
    "\n",
    "# Suponha que você tenha uma nova coluna que deseja usar para substituir a coluna existente\n",
    "nova_coluna = np.array([10, 11, 12])\n",
    "\n",
    "# Especifique o índice da coluna que deseja substituir (0, 1, 2, etc.)\n",
    "col_index = 1  # Por exemplo, substituir a segunda coluna (índice 1)\n",
    "\n",
    "# Substitua a coluna da matriz pela nova coluna\n",
    "matriz[:, col_index] = nova_coluna"
   ]
  },
  {
   "cell_type": "code",
   "execution_count": null,
   "metadata": {},
   "outputs": [],
   "source": [
    "matriz"
   ]
  },
  {
   "cell_type": "code",
   "execution_count": null,
   "metadata": {},
   "outputs": [],
   "source": [
    "\n",
    "# c = 93\n",
    "# indices = c_data_treat(variable, c, 0.01,'x')\n",
    "# plot_tracked(indices, spos, indices, 'x',c, 0.01,100)"
   ]
  },
  {
   "cell_type": "code",
   "execution_count": null,
   "metadata": {},
   "outputs": [],
   "source": [
    "# # anotações que eu pensei que pudessem ser importantes\n",
    "\n",
    "# # definindo também o modelo fitado para calcular a distribuição de equilíbrio do feixe\n",
    "# # eu não sei exatamente se essa celula no meu código é util, porque em um primeiro momento vamos variar apenas\n",
    "# # as posições x, y, x' e y'\n",
    "\n",
    "# fit_acc = pymodels.si.create_accelerator()\n",
    "# fit_acc = pymodels.si.fitted_models.vertical_dispersion_and_coupling(fit_acc)\n",
    "# tousan = tousclass.Tous_analysis(fit_acc)\n",
    "# deltas = tousan.deltas\n",
    "# n_turns = tousan.nturns\n",
    "\n",
    "# orb = pyaccel.tracking.find_orbit6(acc, indices=[0, nlk_index])\n",
    "# orb = orb[:, 1]\n",
    "# np.zeros((6, deltas.size)), orb[:, None]\n",
    "\n",
    "# rin = np.zeros((6, deltas.size))\n",
    "# rin += orb[:,None]\n",
    "\n",
    "# mean = np.zeros(6)\n",
    "# env = pyop.beam_envelope.calc_beamenvelope(fit_acc)\n",
    "# cov = env[nlk_index]\n",
    "# particles = np.random.multivariate_normal(mean, cov, size=1).T\n",
    "\n",
    "# # célula colocada aqui simplesmente para teste de verificação\n",
    "# # ao executar o código abaixo é possível observar a distribuição gaussiana das posições em x\n",
    "# plt.figure()\n",
    "# plt.hist(particles[0], bins=200)\n",
    "# plt.show()\n",
    "\n",
    "# # esse procedimento é feito para ir variando os parâmetros de posição \n",
    "# vecy = np.linspace(4.8332669321064365e-09, 4.8332669321064365e-02, 1000)\n",
    "# vecx = np.linspace(2.25702434e-08,2.25702434e-02, 1000)\n",
    "# # com a função vstack do numpy podemos juntar dois arrays e formar uma matriz\n",
    "# np.vstack((vecx, vecy))"
   ]
  },
  {
   "cell_type": "code",
   "execution_count": null,
   "metadata": {},
   "outputs": [],
   "source": [
    "# def s_data_treat(l_of_tples, idx, val):\n",
    "    \n",
    "#     size = len(l_of_tples)\n",
    "#     inc = np.linspace(0,val, size)\n",
    "#     for c, iten in enumerate(l_of_tples):\n",
    "#         if len(iten) == 0:\n",
    "#             pass\n",
    "#         else:\n",
    "#             j = c\n",
    "#             break\n",
    "\n",
    "#     if len(l_of_tples[idx]) == 0:\n",
    "#         print(\"all the electrons survived\")\n",
    "#         return\n",
    "\n",
    "#     else:\n",
    "#         nt_lost, indices = np.zeros(len(l_of_tples[idx])), np.zeros(len(l_of_tples[idx]))\n",
    "\n",
    "#         for j,iten in enumerate(l_of_tples[idx]):\n",
    "#             nt_lostj, idx_lost = iten\n",
    "#             nt_lost[j] = nt_lostj\n",
    "#             indices[j] = idx_lost\n",
    "#         indices = np.intp(indices)\n",
    "#     ind = np.arange(indices.size) # this index corresponds to how many times the variation of the parameter has been performed\n",
    "\n",
    "#     return c, inc[c], ind, nt_lost, indices\n",
    "\n",
    "# def c_data_treat(tup, idx, val, par):\n",
    "\n",
    "#     '''\n",
    "#     tup: this tuple contains two lists, these lists are the tracking simulation without and with varying the height of the\n",
    "#     vchamber from a marker named as horizontal scraper or vertical scraper\n",
    "#     idx: the variation's index of the parameter \n",
    "#     val: variable that goes in numpy linspace, val is the value till the variation must be performed\n",
    "#     '''\n",
    "\n",
    "#     all_data = []\n",
    "#     for iten in tup:\n",
    "#         resul_tup = s_data_treat(iten, idx, val)\n",
    "\n",
    "#         c, inc_c, ind, nt_lost, indices = resul_tup\n",
    "#         all_data.append(indices)\n",
    "#         print('começa a haver perda de elétrons a partir do incremento {} em {}'.format(inc_c, par))\n",
    "\n",
    "#     return all_data\n",
    "\n",
    "# # para montar a função que vai realizar o plot dos gráficos podemos simplesmente passar a função acima em um for\n",
    "\n",
    "# def plot_tracked(acc, spos, l_all_data, par, idx, val, total): # é bom que essa função receba os valores das lista de indices onde as paticulas foram perdidas\n",
    "\n",
    "#     '''\n",
    "#     acc: accelerator\n",
    "#     spos: s position array along the ring\n",
    "#     l_all_data: list containing the data that will be analised \n",
    "#     par: is a string, corresponding to the variation of the parameter, that will be shown in the title of the graphic/ x, x'\n",
    "#     idx: is the value that counts wich index was chosen to be analised\n",
    "#     val: variable that goes in numpy linspace, val is the value till the variation must be performed\n",
    "#     '''\n",
    "    \n",
    "#     nom_track = l_all_data[0] # keep in mind that nominal_tracking is the list of indices that the electrons were lost in the nominal_model with vchamber's height defined by default\n",
    "#     mod_track = l_all_data[1]\n",
    "#     inc = np.linspace(0,val, total)\n",
    "\n",
    "#     ind_nom = np.arange(nom_track.size)\n",
    "#     ind_mod = np.arange(mod_track.size)\n",
    "\n",
    "#     fig, (a1, a2) = plt.subplots(nrows= 1, ncols= 2, figsize=(10,5), sharey=True)\n",
    "\n",
    "#     a1.set_title(r'Without scrapers, varying {}'.format(par), fontsize=16)\n",
    "#     a2.set_title(r'With scrapers, varying {}'.format(par), fontsize=16)\n",
    "\n",
    "#     a1.set_xlabel(r's position [m]', fontsize=14)\n",
    "#     a1.set_ylabel(r'# lost electron', fontsize=14)\n",
    "    \n",
    "#     a2.set_xlabel(r's position [m]', fontsize=14)\n",
    "#     a2.set_ylabel(r'# lost electron', fontsize=14)\n",
    "\n",
    "#     a1.scatter(spos[nom_track],ind_nom, s=4, label='Value of increment {:.4f} in {}'.format(inc[idx], par))\n",
    "#     # pyaccel.graphics.draw_lattice(acc, offset=0, height=0, gca=True)\n",
    "#     a1.legend()\n",
    "#     print(nom_track)\n",
    "#     a2.scatter(spos[mod_track],ind_mod, s=4, label='Value of increment {:.4f} in {}'.format(inc[idx], par))\n",
    "#     a2.legend()\n",
    "#     # pyaccel.graphics.draw_lattice(acc, offset=0, height=0, gca=True)\n",
    "#     plt.show()\n",
    "\n",
    "#     return None"
   ]
  }
 ],
 "metadata": {
  "kernelspec": {
   "display_name": "Python 3",
   "language": "python",
   "name": "python3"
  },
  "language_info": {
   "codemirror_mode": {
    "name": "ipython",
    "version": 3
   },
   "file_extension": ".py",
   "mimetype": "text/x-python",
   "name": "python",
   "nbconvert_exporter": "python",
   "pygments_lexer": "ipython3",
   "version": "3.9.2"
  }
 },
 "nbformat": 4,
 "nbformat_minor": 2
}
