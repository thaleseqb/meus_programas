{
 "cells": [
  {
   "cell_type": "code",
   "execution_count": 47,
   "metadata": {},
   "outputs": [],
   "source": [
    "%matplotlib qt5"
   ]
  },
  {
   "cell_type": "code",
   "execution_count": 1,
   "metadata": {},
   "outputs": [],
   "source": [
    "import pyaccel\n",
    "import pymodels\n",
    "import numpy as np\n",
    "import matplotlib.pyplot as plt\n",
    "from mathphys.functions import save_pickle, load_pickle\n",
    "\n",
    "import touschek_pack.functions as tousfunc\n",
    "import touschek_pack.Classes as tousclass\n",
    "import pyaccel.optics as pyop"
   ]
  },
  {
   "cell_type": "code",
   "execution_count": 89,
   "metadata": {},
   "outputs": [],
   "source": [
    "def track_mchn_stdy(acc, bunch, param, increment, index, nturn):\n",
    "    # setting param to be the index of the array [x,x',y,y',delta,z]\n",
    "\n",
    "    bunch[param] += increment\n",
    "    tracked = pyaccel.tracking.ring_pass(acc, particles=bunch,\n",
    "                                         nr_turns=nturn, turn_by_turn= True,\n",
    "                                         element_offset= index, parallel=True)\n",
    "    \n",
    "    part_out, lost_flag, turn_lost, index_lost, plane_lost = tracked\n",
    "\n",
    "    turnl_element = []\n",
    "\n",
    "    for i,iten in enumerate(turn_lost):\n",
    "        if iten == nturn and index_lost[i] == index: # ignora elétrons que não foram perdidos\n",
    "            pass\n",
    "        else:\n",
    "            turnl_element.append((iten, index_lost[i]))\n",
    "    \n",
    "    return turnl_element\n",
    "\n",
    "def varying_incmnts(acc,bunch,par,rng, index, nturn, val):\n",
    "    trackf_lostpos = []\n",
    "    inc = np.linspace(0, val, rng)\n",
    "    incdif = np.diff(inc)\n",
    "    for iten in incdif:\n",
    "        \n",
    "        trackf_lostpos.append(track_mchn_stdy(acc, bunch, par, increment=iten, index=index, nturn=nturn))\n",
    "\n",
    "    return trackf_lostpos\n",
    "\n",
    "def plot_tracked(acc,l_of_tples, idx, spos, val): \n",
    "    \n",
    "    inc = np.linspace(0,val, len(l_of_tples))\n",
    "    for c, iten in enumerate(l_of_tples):\n",
    "        if len(iten) == 0:\n",
    "            pass\n",
    "        else:\n",
    "            j = c\n",
    "            break\n",
    "\n",
    "    if len(l_of_tples[idx]) == 0:\n",
    "        print(\"all the electrons survived\")\n",
    "        return\n",
    "\n",
    "    else:\n",
    "        nt_lost, index = np.zeros(len(l_of_tples[idx])), np.zeros(len(l_of_tples[idx]))\n",
    "\n",
    "        for j,iten in enumerate(l_of_tples[idx]):\n",
    "            nt_lostj, idx_lost = iten\n",
    "            nt_lost[j] = nt_lostj\n",
    "            index[j] = idx_lost\n",
    "        index = np.intp(index)\n",
    "\n",
    "    ind = np.arange(index.size)\n",
    "\n",
    "    plt.figure()\n",
    "    plt.title('electron losses by x parameter variation', fontsize=16) # . incremento {:.3f}'.format(inc[idx])\n",
    "    plt.scatter(spos[index],ind, s=4, label='perde a partir de {}'.format(inc[c]))\n",
    "    pyaccel.graphics.draw_lattice(acc, offset=0, height=3, gca=True)\n",
    "    plt.legend()\n",
    "\n",
    "    plt.xlabel(r's position [m]', fontsize=14)\n",
    "    plt.ylabel(r'# lost electron', fontsize=14)\n",
    "\n",
    "\n",
    "    # plt.xlim(0, spos[index][-1])\n",
    "    # plt.plot(spos[np.intp(index)], nt_lost)\n",
    "    plt.show()\n",
    "    \n",
    "    return c, inc[c],index, nt_lost\n"
   ]
  },
  {
   "cell_type": "code",
   "execution_count": null,
   "metadata": {},
   "outputs": [],
   "source": [
    "# se eu quisesse mostrar a partir de qual valor de posição x começa a ter perda de eletrons na simulação de tracking\n",
    "# como eu poderia fazer isso ?\n",
    "\n",
    "# eu real, preciso fazer isso "
   ]
  },
  {
   "cell_type": "code",
   "execution_count": 3,
   "metadata": {},
   "outputs": [],
   "source": [
    "fitm = pymodels.si.create_accelerator()\n",
    "fitm = pymodels.si.fitted_models.vertical_dispersion_and_coupling(fitm)\n",
    "eqparams = pyaccel.optics.beam_envelope.EqParamsFromBeamEnvelope(fitm)\n",
    "\n",
    "# parameters to generate the beam\n",
    "h_emitt = eqparams.emit1\n",
    "v_emitt = h_emitt/100\n",
    "sigmae = eqparams.espread0\n",
    "bun_len = eqparams.bunlen\n",
    "\n",
    "# defining optcis\n",
    "twiss,*_ = pyop.calc_twiss(fitm, indices='closed')\n",
    "\n",
    "# defining the index \n",
    "dicty = pyaccel.lattice.find_dict(fitm, 'fam_name')\n",
    "nlk_index = dicty['InjNLKckr'][0] + 1\n",
    "spos = pyaccel.lattice.find_spos(fitm, indices='closed')\n",
    "\n",
    "# generating gaussian beam.\n",
    "bunch = pyaccel.tracking.generate_bunch(50, envelope=None, emit1=h_emitt,\n",
    "                                emit2=v_emitt, sigmae= sigmae, sigmas=bun_len, optics=twiss[nlk_index])\n"
   ]
  },
  {
   "cell_type": "code",
   "execution_count": 5,
   "metadata": {},
   "outputs": [],
   "source": [
    "part_out = pyaccel.tracking.ring_pass(fitm, bunch[:,0:20], 7, True,nlk_index, True)"
   ]
  },
  {
   "cell_type": "code",
   "execution_count": 9,
   "metadata": {},
   "outputs": [],
   "source": [
    "variable = varying_incmnts(fitm, bunch, 0, 50, nlk_index, 7)"
   ]
  },
  {
   "cell_type": "code",
   "execution_count": 99,
   "metadata": {},
   "outputs": [
    {
     "data": {
      "text/plain": [
       "array([2., 2., 2., 2., 2., 2., 2., 3., 3., 2., 2., 3., 2., 3., 3., 2., 2.,\n",
       "       3., 2., 2., 3., 2., 2., 3., 2., 3., 3., 2., 2., 3., 2., 3., 2., 2.,\n",
       "       3., 2., 2., 2., 3., 3., 2., 2., 3., 3., 3., 3., 2., 3., 2., 2.])"
      ]
     },
     "execution_count": 99,
     "metadata": {},
     "output_type": "execute_result"
    }
   ],
   "source": [
    "spos = pyaccel.lattice.find_spos(fitm, indices='closed')\n",
    "\n",
    "cont, lins, index, ntlost = plot_tracked(fitm, variable, 48, spos, 0.01)\n",
    "ntlost"
   ]
  },
  {
   "cell_type": "code",
   "execution_count": 61,
   "metadata": {},
   "outputs": [
    {
     "data": {
      "text/plain": [
       "0.00875"
      ]
     },
     "execution_count": 61,
     "metadata": {},
     "output_type": "execute_result"
    }
   ],
   "source": [
    "lins"
   ]
  },
  {
   "cell_type": "code",
   "execution_count": 46,
   "metadata": {},
   "outputs": [
    {
     "data": {
      "text/plain": [
       "array([3., 5., 2., 3., 5., 5., 3., 5., 5., 5., 5., 5., 5., 5., 5., 5., 5.,\n",
       "       4., 5., 5., 4., 5., 5., 5., 5., 5., 6., 5., 5., 6., 6., 5., 6., 4.,\n",
       "       5., 5., 6., 6., 5., 6., 3., 5., 3., 5.])"
      ]
     },
     "execution_count": 46,
     "metadata": {},
     "output_type": "execute_result"
    }
   ],
   "source": [
    "ntlost"
   ]
  },
  {
   "cell_type": "code",
   "execution_count": null,
   "metadata": {},
   "outputs": [],
   "source": [
    "# # anotações que eu pensei que pudessem ser importantes\n",
    "\n",
    "# # definindo também o modelo fitado para calcular a distribuição de equilíbrio do feixe\n",
    "# # eu não sei exatamente se essa celula no meu código é util, porque em um primeiro momento vamos variar apenas\n",
    "# # as posições x, y, x' e y'\n",
    "\n",
    "# fit_acc = pymodels.si.create_accelerator()\n",
    "# fit_acc = pymodels.si.fitted_models.vertical_dispersion_and_coupling(fit_acc)\n",
    "# tousan = tousclass.Tous_analysis(fit_acc)\n",
    "# deltas = tousan.deltas\n",
    "# n_turns = tousan.nturns\n",
    "\n",
    "# orb = pyaccel.tracking.find_orbit6(acc, indices=[0, nlk_index])\n",
    "# orb = orb[:, 1]\n",
    "# np.zeros((6, deltas.size)), orb[:, None]\n",
    "\n",
    "# rin = np.zeros((6, deltas.size))\n",
    "# rin += orb[:,None]\n",
    "\n",
    "# mean = np.zeros(6)\n",
    "# env = pyop.beam_envelope.calc_beamenvelope(fit_acc)\n",
    "# cov = env[nlk_index]\n",
    "# particles = np.random.multivariate_normal(mean, cov, size=1).T\n",
    "\n",
    "# # célula colocada aqui simplesmente para teste de verificação\n",
    "# # ao executar o código abaixo é possível observar a distribuição gaussiana das posições em x\n",
    "# plt.figure()\n",
    "# plt.hist(particles[0], bins=200)\n",
    "# plt.show()\n",
    "\n",
    "# # esse procedimento é feito para ir variando os parâmetros de posição \n",
    "# vecy = np.linspace(4.8332669321064365e-09, 4.8332669321064365e-02, 1000)\n",
    "# vecx = np.linspace(2.25702434e-08,2.25702434e-02, 1000)\n",
    "# # com a função vstack do numpy podemos juntar dois arrays e formar uma matriz\n",
    "# np.vstack((vecx, vecy))"
   ]
  }
 ],
 "metadata": {
  "kernelspec": {
   "display_name": "sirius",
   "language": "python",
   "name": "python3"
  },
  "language_info": {
   "codemirror_mode": {
    "name": "ipython",
    "version": 3
   },
   "file_extension": ".py",
   "mimetype": "text/x-python",
   "name": "python",
   "nbconvert_exporter": "python",
   "pygments_lexer": "ipython3",
   "version": "3.9.2"
  },
  "orig_nbformat": 4
 },
 "nbformat": 4,
 "nbformat_minor": 2
}
