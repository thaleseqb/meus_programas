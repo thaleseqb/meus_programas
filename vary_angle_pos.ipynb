{
 "cells": [
  {
   "cell_type": "code",
   "execution_count": 1,
   "metadata": {},
   "outputs": [],
   "source": [
    "import pyaccel\n",
    "import pymodels\n",
    "import numpy as np\n",
    "import matplotlib.pyplot as plt\n",
    "from mathphys.functions import save_pickle, load_pickle\n",
    "\n",
    "import touschek_pack.functions as tousfunc\n",
    "import touschek_pack.Classes as tousclass\n",
    "import pyaccel.optics as pyop"
   ]
  },
  {
   "cell_type": "code",
   "execution_count": 2,
   "metadata": {},
   "outputs": [],
   "source": [
    "# criando o modelo para a realização do tracking\n",
    "acc = pymodels.si.create_accelerator()\n",
    "acc.cavity_on = True\n",
    "acc.radiation_on = True\n",
    "acc.vchamber_on = True"
   ]
  },
  {
   "cell_type": "code",
   "execution_count": 44,
   "metadata": {},
   "outputs": [],
   "source": [
    "\n",
    "\n",
    "# é bom lembrar também que os scrapers que eu estou interessado estão disponíveis no modelo como sendo SVVC e SHVC\n",
    "# designando set vertical caccum chamber and set horizontal vaccum chamber\n",
    "\n",
    "# defining the nlk position to track the electrons\n",
    "dicty = pyaccel.lattice.find_dict(acc, 'fam_name')\n",
    "nlk_index = dicty['InjNLKckr'][0]\n",
    "spos = pyaccel.lattice.find_spos(acc, indices='closed')\n",
    "\n",
    "s_nlk = float(spos[nlk_index])\n"
   ]
  },
  {
   "cell_type": "code",
   "execution_count": 4,
   "metadata": {},
   "outputs": [],
   "source": [
    "# definindo também o modelo fitado para calcular a distribuição de equilíbrio do feixe\n",
    "\n",
    "fit_acc = pymodels.si.create_accelerator()\n",
    "fit_acc = pymodels.si.fitted_models.vertical_dispersion_and_coupling(fit_acc)\n",
    "tousan = tousclass.Tous_analysis(fit_acc)\n",
    "deltas = tousan.deltas\n",
    "n_turns = tousan.nturns"
   ]
  },
  {
   "cell_type": "code",
   "execution_count": 63,
   "metadata": {},
   "outputs": [],
   "source": [
    "# como podemos criar uma função que varie os parametros da forma que eu quero ?\n",
    "# eu preciso variar as posições x e y dos elétrons no trecho de injeção e também variar os angulos x e y\n",
    "# eu poss simplesmente criar um linspace com as variações de parâmetros que eu desejo\n",
    "\n"
   ]
  },
  {
   "cell_type": "code",
   "execution_count": 13,
   "metadata": {},
   "outputs": [],
   "source": [
    "# orb = pyaccel.tracking.find_orbit6(acc, indices=[0, nlk_index])\n",
    "# orb = orb[:, 1]\n",
    "# np.zeros((6, deltas.size)), orb[:, None]"
   ]
  },
  {
   "cell_type": "code",
   "execution_count": 62,
   "metadata": {},
   "outputs": [],
   "source": [
    "# rin = np.zeros((6, deltas.size))\n",
    "# rin += orb[:,None]"
   ]
  },
  {
   "cell_type": "code",
   "execution_count": 26,
   "metadata": {},
   "outputs": [],
   "source": [
    "mean = np.zeros(6)\n",
    "env = pyop.beam_envelope.calc_beamenvelope(fit_acc)\n",
    "cov = env[nlk_index]\n"
   ]
  },
  {
   "cell_type": "code",
   "execution_count": 58,
   "metadata": {},
   "outputs": [],
   "source": [
    "# distribuição eq. do feixe é criada\n",
    "# a partir disso eu posso ir variando cada valor das posições tanto em x quanto em y, além de variar também os angulos x' e y'\n",
    "# mas como eu posso variar esses parâmetros ?\n",
    "\n",
    "particles = np.random.multivariate_normal(mean, cov, size=1).T"
   ]
  },
  {
   "cell_type": "code",
   "execution_count": 43,
   "metadata": {},
   "outputs": [],
   "source": [
    "# # célula colocada aqui simplesmente para teste de verificação\n",
    "# # ao executar o código abaixo é possível observar a distribuição gaussiana das posições em x\n",
    "# plt.figure()\n",
    "# plt.hist(particles[0], bins=200)\n",
    "# plt.show()"
   ]
  },
  {
   "cell_type": "code",
   "execution_count": null,
   "metadata": {},
   "outputs": [],
   "source": [
    "# na verdade eu acho que eu posso fazer isso de outro jeito \n",
    "# não necessariamente criando um feixe que possui uma distribuição gaussiana"
   ]
  },
  {
   "cell_type": "code",
   "execution_count": null,
   "metadata": {},
   "outputs": [],
   "source": [
    "# na real eu realmente acho que não será necessário criar um feixe que possua distribuição gaussiana, basta sair variando as coisas \n",
    "# eu posso até criar para um elétron, mas acho que isso também não faz tanto sentido \n",
    "\n",
    "# e a forma como eu vou variando as coisas pode ser talvez um linspace"
   ]
  }
 ],
 "metadata": {
  "kernelspec": {
   "display_name": "sirius",
   "language": "python",
   "name": "python3"
  },
  "language_info": {
   "codemirror_mode": {
    "name": "ipython",
    "version": 3
   },
   "file_extension": ".py",
   "mimetype": "text/x-python",
   "name": "python",
   "nbconvert_exporter": "python",
   "pygments_lexer": "ipython3",
   "version": "3.9.2"
  },
  "orig_nbformat": 4
 },
 "nbformat": 4,
 "nbformat_minor": 2
}
