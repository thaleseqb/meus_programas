{
 "cells": [
  {
   "cell_type": "code",
   "execution_count": 1,
   "metadata": {},
   "outputs": [],
   "source": [
    "import touschek_pack.Classes as classes\n"
   ]
  },
  {
   "cell_type": "code",
   "execution_count": 2,
   "metadata": {},
   "outputs": [],
   "source": [
    "import pymodels\n",
    "import pyaccel\n"
   ]
  },
  {
   "cell_type": "code",
   "execution_count": 3,
   "metadata": {},
   "outputs": [],
   "source": [
    "acc = pymodels.si.create_accelerator()\n",
    "acc = pymodels.si.fitted_models.vertical_dispersion_and_coupling(acc)"
   ]
  },
  {
   "cell_type": "code",
   "execution_count": 4,
   "metadata": {},
   "outputs": [],
   "source": [
    "tous_an = classes.tous_analysis(acc)"
   ]
  },
  {
   "cell_type": "markdown",
   "metadata": {},
   "source": [
    "A forma como eu estou definindo"
   ]
  },
  {
   "cell_type": "code",
   "execution_count": null,
   "metadata": {},
   "outputs": [],
   "source": [
    "tous_an.setting_tousdata"
   ]
  },
  {
   "cell_type": "code",
   "execution_count": 8,
   "metadata": {},
   "outputs": [],
   "source": [
    "ob = tous_an.ltime\n"
   ]
  },
  {
   "cell_type": "code",
   "execution_count": 11,
   "metadata": {},
   "outputs": [
    {
     "data": {
      "text/plain": [
       "{'rate': array([4.81650629e-10, 4.74269277e-10, 4.67035042e-10, ...,\n",
       "        4.79696054e-10, 4.80696669e-10, 4.81650629e-10]),\n",
       " 'avg_rate': 3.18119578309356e-06,\n",
       " 'volume': array([6.61909477e-13, 6.67803553e-13, 6.73709370e-13, ...,\n",
       "        6.62894710e-13, 6.62373908e-13, 6.61909477e-13]),\n",
       " 'pos': array([0.00000000e+00, 1.00036646e-01, 2.00073292e-01, ...,\n",
       "        5.18189827e+02, 5.18289863e+02, 5.18389900e+02]),\n",
       " 'touschek_coeffs': {'b1': array([10922.96479185, 11083.86009802, 11247.9579402 , ...,\n",
       "         10946.14255223, 10933.16020403, 10922.96479185]),\n",
       "  'b2': array([8920.00593395, 9079.54333271, 9242.28326068, ..., 8942.59470938,\n",
       "         8929.90685869, 8920.00593395]),\n",
       "  'taum_p': array([0.00344115, 0.00344115, 0.00344115, ..., 0.00344115, 0.00344115,\n",
       "         0.00344115]),\n",
       "  'taum_n': array([0.00344115, 0.00344115, 0.00344115, ..., 0.00344115, 0.00344115,\n",
       "         0.00344115]),\n",
       "  'f_int_p': array([[0.00031958, 0.00031749, 0.00031541, ..., 0.00031876, 0.00031917,\n",
       "          0.00031958]]),\n",
       "  'f_int_n': array([[0.00031958, 0.00031749, 0.00031541, ..., 0.00031876, 0.00031917,\n",
       "          0.00031958]])}}"
      ]
     },
     "execution_count": 11,
     "metadata": {},
     "output_type": "execute_result"
    }
   ],
   "source": [
    "ob.touschek_data\n"
   ]
  }
 ],
 "metadata": {
  "kernelspec": {
   "display_name": "sirius",
   "language": "python",
   "name": "python3"
  },
  "language_info": {
   "codemirror_mode": {
    "name": "ipython",
    "version": 3
   },
   "file_extension": ".py",
   "mimetype": "text/x-python",
   "name": "python",
   "nbconvert_exporter": "python",
   "pygments_lexer": "ipython3",
   "version": "3.9.2"
  },
  "orig_nbformat": 4
 },
 "nbformat": 4,
 "nbformat_minor": 2
}
