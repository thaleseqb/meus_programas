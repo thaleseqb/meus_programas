{
 "cells": [
  {
   "cell_type": "code",
   "execution_count": 1,
   "metadata": {},
   "outputs": [
    {
     "name": "stderr",
     "output_type": "stream",
     "text": [
      "Warning: Ignoring XDG_SESSION_TYPE=wayland on Gnome. Use QT_QPA_PLATFORM=wayland to run on Wayland anyway.\n"
     ]
    }
   ],
   "source": [
    "%matplotlib qt5\n",
    "\n",
    "import sys\n",
    "\n",
    "sys.path.append('/home/ABTLUS/thales.bastos/repos/pack_thales')\n",
    "    \n",
    "from touschek_pack import Classes\n",
    "from touschek_pack import functions\n",
    "\n",
    "import pymodels\n",
    "import pyaccel\n",
    "import numpy as np\n",
    "import matplotlib.pyplot as plt"
   ]
  },
  {
   "cell_type": "code",
   "execution_count": 2,
   "metadata": {},
   "outputs": [],
   "source": [
    "acc = pymodels.si.create_accelerator()\n",
    "acc = pymodels.si.fitted_models.vertical_dispersion_and_coupling(acc)\n",
    "tousan = Classes.Tous_analysis(acc)"
   ]
  },
  {
   "cell_type": "code",
   "execution_count": 3,
   "metadata": {},
   "outputs": [
    {
     "data": {
      "text/plain": [
       "(True,\n",
       " (array([-0.04372908, -0.04372908, -0.04372908, ..., -0.04372908,\n",
       "         -0.04372908, -0.04372908]),\n",
       "  array([0.04372908, 0.04372908, 0.04372908, ..., 0.04372908, 0.04372908,\n",
       "         0.04372908])),\n",
       " (array([0.00000000e+00, 1.00036646e-01, 2.00073292e-01, ...,\n",
       "         5.18189827e+02, 5.18289863e+02, 5.18389900e+02]),\n",
       "  array([0.04372908, 0.04372908, 0.04372908, ..., 0.04372908, 0.04372908,\n",
       "         0.04372908]),\n",
       "  array([-0.04372908, -0.04372908, -0.04372908, ..., -0.04372908,\n",
       "         -0.04372908, -0.04372908])))"
      ]
     },
     "execution_count": 3,
     "metadata": {},
     "output_type": "execute_result"
    }
   ],
   "source": [
    "tousan.get_amps_idxs()"
   ]
  },
  {
   "cell_type": "code",
   "execution_count": 4,
   "metadata": {},
   "outputs": [],
   "source": [
    "# spos = pyaccel.lattice.find_spos(acc, indices='closed')\n",
    "# pyaccel.lattice.find_indices(acc, 'fam_name', 'Q1'), spos[70]\n",
    "\n",
    "# agora o que eu preciso fazer é "
   ]
  },
  {
   "cell_type": "code",
   "execution_count": 4,
   "metadata": {},
   "outputs": [],
   "source": [
    "spos = pyaccel.lattice.find_spos(acc, indices='open')\n",
    "s = 5.5\n",
    "res = tousan.fast_aquisition(s, 'pos')"
   ]
  },
  {
   "cell_type": "code",
   "execution_count": 5,
   "metadata": {},
   "outputs": [],
   "source": [
    "a, fp, dp = res\n"
   ]
  },
  {
   "cell_type": "code",
   "execution_count": null,
   "metadata": {},
   "outputs": [],
   "source": []
  },
  {
   "cell_type": "code",
   "execution_count": 6,
   "metadata": {},
   "outputs": [
    {
     "data": {
      "text/plain": [
       "(-0.1, 0.4)"
      ]
     },
     "execution_count": 6,
     "metadata": {},
     "output_type": "execute_result"
    }
   ],
   "source": [
    "plt.figure()\n",
    "plt.plot(dp, fp)\n",
    "\n",
    "plt.xlim(-0.1,0.4)"
   ]
  },
  {
   "cell_type": "code",
   "execution_count": 12,
   "metadata": {},
   "outputs": [],
   "source": [
    "index = np.argmin(np.abs(spos-s))\n",
    "accep=pyaccel.optics.calc_touschek_energy_acceptance(acc)\n"
   ]
  },
  {
   "cell_type": "code",
   "execution_count": 22,
   "metadata": {},
   "outputs": [
    {
     "data": {
      "text/plain": [
       "array([], dtype=int64)"
      ]
     },
     "execution_count": 22,
     "metadata": {},
     "output_type": "execute_result"
    }
   ],
   "source": [
    "\n",
    "np.where(fp > 1e-19)[0]\n",
    "# indx = np.int0()\n",
    "\n",
    "\n"
   ]
  },
  {
   "cell_type": "code",
   "execution_count": 28,
   "metadata": {},
   "outputs": [
    {
     "data": {
      "text/plain": [
       "(-0.1, 0.3)"
      ]
     },
     "execution_count": 28,
     "metadata": {},
     "output_type": "execute_result"
    }
   ],
   "source": []
  },
  {
   "cell_type": "code",
   "execution_count": 13,
   "metadata": {},
   "outputs": [],
   "source": [
    "functions.plot_track(acc, a, np.int0(tousan.inds_pos), tousan.off_energy, 'pos', index, accep, dp, fp)"
   ]
  },
  {
   "cell_type": "code",
   "execution_count": 11,
   "metadata": {},
   "outputs": [],
   "source": [
    "\n",
    "model = pymodels.si.create_accelerator()\n",
    "model.cavity_on = False # a forma como as aceitancias eram calculadas eram por meio de \n",
    "model.radiation_on = False\n",
    "accep = pyaccel.optics.calc_touschek_energy_acceptance(model) "
   ]
  },
  {
   "cell_type": "code",
   "execution_count": 15,
   "metadata": {},
   "outputs": [],
   "source": [
    "\n",
    "ind = np.argmin(np.abs(tousan._spos - s))\n",
    "functions.plot_track(acc, a, np.int0(tousan._inds_pos), tousan._off_energy,'pos', ind, accep,\n",
    "                     dp[indx],fp[indx])"
   ]
  },
  {
   "cell_type": "code",
   "execution_count": null,
   "metadata": {},
   "outputs": [],
   "source": [
    "acc = pymodels.si.create_accelerator()\n",
    "\n",
    "acc = pymodels.si.fitted_models.vertical_dispersion_and_coupling(acc)"
   ]
  },
  {
   "cell_type": "code",
   "execution_count": null,
   "metadata": {},
   "outputs": [],
   "source": [
    "model = pymodels.si.create_accelerator()\n",
    "model.cavity_on = True\n",
    "model.radiation_on = True\n",
    "model.vchamber_on = True\n",
    "\n",
    "deltas = np.linspace(0,0.1, 500)\n",
    "lspos = [30, 50]\n",
    "\n",
    "var = functions.trackm_elec(model, deltas,6,lspos)"
   ]
  },
  {
   "cell_type": "code",
   "execution_count": null,
   "metadata": {},
   "outputs": [],
   "source": [
    "var[1]"
   ]
  },
  {
   "cell_type": "code",
   "execution_count": null,
   "metadata": {},
   "outputs": [],
   "source": [
    "\n",
    "\n",
    "tousan = Classes.Tous_analysis(acc)\n",
    "\n",
    "tousan.nturns = 10\n",
    "tousan.deltas = np.linspace(0,0.1,500)\n",
    "hpos = tousan.h_pos\n",
    "hneg = tousan.h_neg\n",
    "tousan.accep\n",
    "tousan._sc_accps\n"
   ]
  },
  {
   "cell_type": "code",
   "execution_count": null,
   "metadata": {},
   "outputs": [],
   "source": [
    "fp,fn,dp,dn = tousan.fast_aquisition(30, 'pos')"
   ]
  },
  {
   "cell_type": "code",
   "execution_count": null,
   "metadata": {},
   "outputs": [],
   "source": [
    "fam = pymodels.si.get_family_data(acc)\n",
    "fam['SRFCav']"
   ]
  },
  {
   "cell_type": "code",
   "execution_count": null,
   "metadata": {},
   "outputs": [],
   "source": [
    "acc = pymodels.si.create_accelerator()\n",
    "\n",
    "print(acc)"
   ]
  },
  {
   "cell_type": "code",
   "execution_count": null,
   "metadata": {},
   "outputs": [],
   "source": [
    "\n",
    "plt.figure()\n",
    "plt.plot(dp,fp)\n",
    "\n",
    "plt.xlim(0,10)\n",
    "plt.show()"
   ]
  },
  {
   "cell_type": "code",
   "execution_count": null,
   "metadata": {},
   "outputs": [],
   "source": []
  },
  {
   "cell_type": "code",
   "execution_count": null,
   "metadata": {},
   "outputs": [],
   "source": [
    "acc = pymodels.si.create_accelerator()\n",
    "\n",
    "acc.cavity_on = False\n",
    "acc.radiation_on = False\n",
    "acc.vchamber_on = False\n",
    "\n",
    "hpos = pyaccel.lattice.get_attribute(acc, 'hmax', indices='closed')\n",
    "hneg = pyaccel.lattice.get_attribute(acc, 'hmin', indices='closed')"
   ]
  }
 ],
 "metadata": {
  "kernelspec": {
   "display_name": "sirius",
   "language": "python",
   "name": "python3"
  },
  "language_info": {
   "codemirror_mode": {
    "name": "ipython",
    "version": 3
   },
   "file_extension": ".py",
   "mimetype": "text/x-python",
   "name": "python",
   "nbconvert_exporter": "python",
   "pygments_lexer": "ipython3",
   "version": "3.9.2"
  },
  "orig_nbformat": 4
 },
 "nbformat": 4,
 "nbformat_minor": 2
}
