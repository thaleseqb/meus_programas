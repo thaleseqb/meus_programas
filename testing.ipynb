{
 "cells": [
  {
   "cell_type": "code",
   "execution_count": 1,
   "metadata": {},
   "outputs": [
    {
     "name": "stderr",
     "output_type": "stream",
     "text": [
      "Warning: Ignoring XDG_SESSION_TYPE=wayland on Gnome. Use QT_QPA_PLATFORM=wayland to run on Wayland anyway.\n"
     ]
    }
   ],
   "source": [
    "%matplotlib qt5\n",
    "\n",
    "import sys\n",
    "\n",
    "sys.path.append('/home/ABTLUS/thales.bastos/repos/pack_thales')\n",
    "    \n",
    "from touschek_pack import Classes\n",
    "from touschek_pack import functions\n",
    "\n",
    "import pymodels\n",
    "import pyaccel\n",
    "import numpy as np\n",
    "import matplotlib.pyplot as plt"
   ]
  },
  {
   "cell_type": "code",
   "execution_count": 2,
   "metadata": {},
   "outputs": [],
   "source": [
    "acc = pymodels.si.create_accelerator()\n",
    "acc = pymodels.si.fitted_models.vertical_dispersion_and_coupling(acc)\n",
    "spos = pyaccel.lattice.find_spos(acc, indices='open')\n",
    "tousan = Classes.Tous_analysis(acc)"
   ]
  },
  {
   "cell_type": "code",
   "execution_count": 3,
   "metadata": {},
   "outputs": [
    {
     "data": {
      "text/plain": [
       "(True,\n",
       " (array([-0.04372908, -0.04372908, -0.04372908, ..., -0.04372908,\n",
       "         -0.04372908, -0.04372908]),\n",
       "  array([0.04372908, 0.04372908, 0.04372908, ..., 0.04372908, 0.04372908,\n",
       "         0.04372908])),\n",
       " (array([0.00000000e+00, 1.00036646e-01, 2.00073292e-01, ...,\n",
       "         5.18189827e+02, 5.18289863e+02, 5.18389900e+02]),\n",
       "  array([0.04372908, 0.04372908, 0.04372908, ..., 0.04372908, 0.04372908,\n",
       "         0.04372908]),\n",
       "  array([-0.04372908, -0.04372908, -0.04372908, ..., -0.04372908,\n",
       "         -0.04372908, -0.04372908])))"
      ]
     },
     "execution_count": 3,
     "metadata": {},
     "output_type": "execute_result"
    }
   ],
   "source": [
    "tousan.get_amps_idxs()"
   ]
  },
  {
   "cell_type": "code",
   "execution_count": 7,
   "metadata": {},
   "outputs": [],
   "source": [
    "fam_data = pymodels.si.get_family_data(acc)"
   ]
  },
  {
   "cell_type": "code",
   "execution_count": 16,
   "metadata": {},
   "outputs": [
    {
     "data": {
      "text/plain": [
       "[1608]"
      ]
     },
     "execution_count": 16,
     "metadata": {},
     "output_type": "execute_result"
    }
   ],
   "source": [
    "fam_data['QDB1']['index'][4]"
   ]
  },
  {
   "cell_type": "code",
   "execution_count": 4,
   "metadata": {},
   "outputs": [],
   "source": [
    "model = pymodels.si.create_accelerator()\n",
    "model.cavity_on = True\n",
    "model.radiation_on = True\n",
    "model.vchamber_on = True\n",
    "\n",
    "accep= pyaccel.optics.calc_touschek_energy_acceptance(model)"
   ]
  },
  {
   "cell_type": "code",
   "execution_count": 17,
   "metadata": {},
   "outputs": [],
   "source": [
    "s = [spos[1608]]\n",
    "tousan.plot_analysis_at_position(s, 'pos', accep)"
   ]
  }
 ],
 "metadata": {
  "kernelspec": {
   "display_name": "sirius",
   "language": "python",
   "name": "python3"
  },
  "language_info": {
   "codemirror_mode": {
    "name": "ipython",
    "version": 3
   },
   "file_extension": ".py",
   "mimetype": "text/x-python",
   "name": "python",
   "nbconvert_exporter": "python",
   "pygments_lexer": "ipython3",
   "version": "3.9.2"
  },
  "orig_nbformat": 4
 },
 "nbformat": 4,
 "nbformat_minor": 2
}
